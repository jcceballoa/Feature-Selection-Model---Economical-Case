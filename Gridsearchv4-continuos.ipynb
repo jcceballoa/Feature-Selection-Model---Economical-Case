{
 "cells": [
  {
   "cell_type": "code",
   "execution_count": 2,
   "metadata": {},
   "outputs": [
    {
     "name": "stderr",
     "output_type": "stream",
     "text": [
      "/miniconda3/lib/python3.7/site-packages/sklearn/externals/joblib/__init__.py:15: DeprecationWarning: sklearn.externals.joblib is deprecated in 0.21 and will be removed in 0.23. Please import this functionality directly from joblib, which can be installed with: pip install joblib. If this warning is raised when loading pickled models, you may need to re-serialize those models with scikit-learn 0.21+.\n",
      "  warnings.warn(msg, category=DeprecationWarning)\n"
     ]
    }
   ],
   "source": [
    "import time\n",
    "import os\n",
    "\n",
    "\n",
    "import numpy as np\n",
    "import pandas as pd\n",
    "\n",
    "import datetime as dt\n",
    "import matplotlib.pyplot as plt\n",
    "from sklearn.metrics import r2_score, mean_squared_error\n",
    "from sklearn.model_selection import GridSearchCV,train_test_split\n",
    "\n",
    "\n",
    "\n",
    "from sklearn.pipeline import Pipeline\n",
    "from sklearn.preprocessing import StandardScaler\n",
    "from sklearn.externals import joblib\n",
    "\n",
    "from sklearn.linear_model import LinearRegression\n",
    "from sklearn import svm\n",
    "from sklearn.ensemble import RandomForestRegressor\n",
    "\n",
    "from sklearn.ensemble import GradientBoostingRegressor\n",
    "\n",
    "from sklearn.tree import DecisionTreeRegressor\n",
    "from sklearn.neighbors import KNeighborsRegressor"
   ]
  },
  {
   "cell_type": "code",
   "execution_count": 3,
   "metadata": {},
   "outputs": [],
   "source": [
    "\n",
    "models = {\n",
    "            'linear' : {\n",
    "                    'mod' : LinearRegression(),\n",
    "                    'par' : {}\n",
    "                    },  \n",
    "    \n",
    "            'gradient' : {\n",
    "                    'mod' : GradientBoostingRegressor(warm_start = True),\n",
    "                    'par' : {'loss' : ('ls', 'quantile'),\n",
    "                             'max_depth' : [3, 4, 5, 6, 7]}\n",
    "                        },\n",
    "           'tree':{'mod': DecisionTreeRegressor(),\n",
    "                     'par':{'splitter':('best','random'),\n",
    "                            'max_depth': [None, 2,4,6],\n",
    "                            'min_samples_leaf':[1,5,8]}},\n",
    "            \n",
    "        'RandomForest' : {\n",
    "                    'mod' : RandomForestRegressor(n_estimators=200, random_state=39, max_depth=4, criterion = 'mse'),\n",
    "                    'par' : {'max_depth' :[None, 2,4,6],\n",
    "                            'min_samples_leaf':[1,5,8]}\n",
    "                        },\n",
    "        'Knn' : {\n",
    "                    'mod' : KNeighborsRegressor(),\n",
    "                    'par' : {'n_neighbors' :[5, 10, 15],\n",
    "                            'leaf_size':[15,25,30]}\n",
    "                        }, \n",
    "    \n",
    "        }\n"
   ]
  },
  {
   "cell_type": "code",
   "execution_count": 4,
   "metadata": {},
   "outputs": [],
   "source": [
    "def grid(x_name,n_proc, os_X_tt, os_Y_tt, X_test, y_test,  models, score = r2_score, cv = 7):\n",
    "    \n",
    "    # Gridsearch\n",
    "    \n",
    "    result = dict()\n",
    "    bestmodels = models.copy()\n",
    "    for name in models:\n",
    "        print('*'*80)\n",
    "        print(\"Model: \" + name)\n",
    "        t_beg = time.time()\n",
    "\n",
    "        pipeline = Pipeline([('scaler', StandardScaler()), (name,  bestmodels[name]['mod'])])          \n",
    "        parameters = {}          \n",
    "        for par in bestmodels[name]['par']:\n",
    "            aux = name + '__' +  par\n",
    "            parameters[aux] = bestmodels[name]['par'][par]    \n",
    "        \n",
    "        aux = GridSearchCV(pipeline, parameters, n_jobs = n_proc,\\\n",
    "                          scoring = score, verbose=2, cv = cv)\n",
    "        \n",
    "        aux.fit(os_X_tt, os_Y_tt)\n",
    "        y_true, y_pred = y_test , aux.predict(X_test)\n",
    "        \n",
    "\n",
    "        mse = mean_squared_error(y_test,y_pred)\n",
    "        r2 = r2_score(y_test, y_pred, multioutput='uniform_average')\n",
    "        \n",
    "        bestmodels[name]['bestModel'] = aux.best_estimator_\n",
    "        bestmodels[name][score] = aux.best_score_\n",
    "        bestmodels[name]['cols_order'] = os_X_tt.columns.values\n",
    "        selection_time = time.time() - t_beg\n",
    "\n",
    "        bestmodels[name]['selection_time'] = selection_time\n",
    "\n",
    "        sample_f_path = f'modelos/{x_name}' + f'{name}_{dt.datetime.now().strftime(\"%Y%m%d-%H%M\")}.sav'\n",
    "\n",
    "        print(f\"Saving model at {sample_f_path}\")    \n",
    "        joblib.dump(bestmodels[name]['bestModel'], sample_f_path)\n",
    "\n",
    "        print(f\"El tiempo de seleccion fue: {selection_time:0.3f} s\")\n",
    "        print(f\"El error {score} de la familia {name} es: {bestmodels[name][score]:0.3f}\")\n",
    "        print('*'*80)\n",
    "    \n",
    "    \n",
    "        result[name] = {\"mse\": mse, \"r2\": r2}\n",
    "        \n",
    "    mod_name = None\n",
    "    best_mae = -np.inf\n",
    "    for name in models:\n",
    "        if bestmodels[name][score] > best_mae:\n",
    "            mod_name = name\n",
    "            best_mae = bestmodels[name][score]\n",
    "\n",
    "    print(f\"best model: \" + mod_name + f\" with an error {score} of: \" + str(best_mae))\n",
    "    \n",
    "    return bestmodels, result"
   ]
  },
  {
   "cell_type": "code",
   "execution_count": 5,
   "metadata": {},
   "outputs": [],
   "source": [
    "#Bestmodels\n",
    "\n",
    "def get_max(dictionary, key_val):\n",
    "    auc_list = []\n",
    "    auc_dict = {}\n",
    "\n",
    "    for key in dictionary:\n",
    "        for key2 in dictionary[key]:\n",
    "            if key_val in key2:\n",
    "                auc_list.append(dictionary[key][key_val])\n",
    "\n",
    "    max_key = ''\n",
    "    max_val = max(auc_list)\n",
    "\n",
    "    for key in dictionary:\n",
    "        for key2 in dictionary[key]:\n",
    "            if max_val == dictionary[key][key_val]:\n",
    "                max_key = key\n",
    "                \n",
    "    return max_key, max_val"
   ]
  },
  {
   "cell_type": "code",
   "execution_count": 6,
   "metadata": {},
   "outputs": [],
   "source": [
    "#Bestmodels\n",
    "\n",
    "def get_min(dictionary, key_val):\n",
    "    auc_list = []\n",
    "    auc_dict = {}\n",
    "\n",
    "    for key in dictionary:\n",
    "        for key2 in dictionary[key]:\n",
    "            if key_val in key2:\n",
    "                auc_list.append(dictionary[key][key_val])\n",
    "\n",
    "    min_key = ''\n",
    "    min_val = min(auc_list)\n",
    "\n",
    "    for key in dictionary:\n",
    "        for key2 in dictionary[key]:\n",
    "            if min_val == dictionary[key][key_val]:\n",
    "                min_key = key\n",
    "                \n",
    "    return min_key, min_val"
   ]
  },
  {
   "cell_type": "markdown",
   "metadata": {},
   "source": [
    "# 1. Lectura de los datos"
   ]
  },
  {
   "cell_type": "code",
   "execution_count": 7,
   "metadata": {},
   "outputs": [],
   "source": [
    "path = 'datanew.csv'\n",
    "data = pd.read_csv(path, sep = ',', na_filter = False)\n",
    "#data = data.set_index('id')"
   ]
  },
  {
   "cell_type": "code",
   "execution_count": 8,
   "metadata": {},
   "outputs": [],
   "source": [
    "# variables seleccionadas según diferentes criterios\n",
    "y = data[['y']].copy()\n",
    "X = data.drop(columns = ['y']).copy()"
   ]
  },
  {
   "cell_type": "code",
   "execution_count": 9,
   "metadata": {},
   "outputs": [],
   "source": [
    "# Definición del tamaño del test\n",
    "test_size = 0.3"
   ]
  },
  {
   "cell_type": "code",
   "execution_count": 10,
   "metadata": {},
   "outputs": [],
   "source": [
    "X_train, X_test, y_train, y_test = train_test_split(X, y, test_size=test_size)"
   ]
  },
  {
   "cell_type": "code",
   "execution_count": 11,
   "metadata": {},
   "outputs": [],
   "source": [
    "\n",
    "# variables base original\n",
    "X0_train= X_train\n",
    "X0_test= X_test\n",
    "\n",
    "# variables con probabilidad de selección mayor al 50%\n",
    "X1_train= X_train[['X1','X2','X4','X5','X8','X9','X11','X12','X13','X14','X16','X17','X18','X19','X24','X30','X32','X33','X35','X39','X44','X48']].copy()\n",
    "X1_test = X_test[['X1','X2','X4','X5','X8','X9','X11','X12','X13','X14','X16','X17','X18','X19','X24','X30','X32','X33','X35','X39','X44','X48']].copy()\n",
    "\n",
    "# variables con probabilidad de selección mayor al 60%\n",
    "X2_train= X_train[['X1','X2','X4','X8','X11','X13','X14','X16','X17','X18','X19','X24','X33','X35','X39','X44']].copy()\n",
    "X2_test= X_test[['X1','X2','X4','X8','X11','X13','X14','X16','X17','X18','X19','X24','X33','X35','X39','X44']].copy()\n",
    "\n",
    "# variables con probabilidad de selección mayor al 70%\n",
    "X3_train= X_train[['X1','X4','X11','X13','X16','X18','X19','X39']].copy()\n",
    "X3_test= X_test[['X1','X4','X11','X13','X16','X18','X19','X39']].copy()\n",
    "\n",
    "# variables con probabilidad de selección mayor al 90%\n",
    "X4_train= X_train[['X11','X18','X39']].copy()\n",
    "X4_test= X_test[['X11','X18','X39']].copy()\n",
    "\n"
   ]
  },
  {
   "cell_type": "code",
   "execution_count": 12,
   "metadata": {},
   "outputs": [
    {
     "name": "stdout",
     "output_type": "stream",
     "text": [
      "********************************************************************************\n",
      "Model: linear\n",
      "Fitting 5 folds for each of 1 candidates, totalling 5 fits\n"
     ]
    },
    {
     "name": "stderr",
     "output_type": "stream",
     "text": [
      "[Parallel(n_jobs=-1)]: Using backend LokyBackend with 16 concurrent workers.\n",
      "[Parallel(n_jobs=-1)]: Done   5 out of   5 | elapsed:    0.9s finished\n",
      "[Parallel(n_jobs=-1)]: Using backend LokyBackend with 16 concurrent workers.\n"
     ]
    },
    {
     "name": "stdout",
     "output_type": "stream",
     "text": [
      "Saving model at modelos/X1linear_20191012-1145.sav\n",
      "El tiempo de seleccion fue: 0.957 s\n",
      "El error r2 de la familia linear es: -0.554\n",
      "********************************************************************************\n",
      "********************************************************************************\n",
      "Model: gradient\n",
      "Fitting 5 folds for each of 10 candidates, totalling 50 fits\n"
     ]
    },
    {
     "name": "stderr",
     "output_type": "stream",
     "text": [
      "[Parallel(n_jobs=-1)]: Done   9 tasks      | elapsed:    0.4s\n",
      "[Parallel(n_jobs=-1)]: Done  19 out of  50 | elapsed:    0.8s remaining:    1.3s\n",
      "[Parallel(n_jobs=-1)]: Done  50 out of  50 | elapsed:    1.5s finished\n",
      "/miniconda3/lib/python3.7/site-packages/sklearn/ensemble/gradient_boosting.py:1450: DataConversionWarning: A column-vector y was passed when a 1d array was expected. Please change the shape of y to (n_samples, ), for example using ravel().\n",
      "  y = column_or_1d(y, warn=True)\n",
      "[Parallel(n_jobs=-1)]: Using backend LokyBackend with 16 concurrent workers.\n",
      "[Parallel(n_jobs=-1)]: Done  28 out of 120 | elapsed:    0.1s remaining:    0.3s\n"
     ]
    },
    {
     "name": "stdout",
     "output_type": "stream",
     "text": [
      "Saving model at modelos/X1gradient_20191012-1146.sav\n",
      "El tiempo de seleccion fue: 1.563 s\n",
      "El error r2 de la familia gradient es: -0.065\n",
      "********************************************************************************\n",
      "********************************************************************************\n",
      "Model: tree\n",
      "Fitting 5 folds for each of 24 candidates, totalling 120 fits\n",
      "Saving model at modelos/X1tree_20191012-1146.sav\n",
      "El tiempo de seleccion fue: 0.156 s\n",
      "El error r2 de la familia tree es: -0.026\n",
      "********************************************************************************\n",
      "********************************************************************************\n",
      "Model: RandomForest\n",
      "Fitting 5 folds for each of 12 candidates, totalling 60 fits\n"
     ]
    },
    {
     "name": "stderr",
     "output_type": "stream",
     "text": [
      "[Parallel(n_jobs=-1)]: Done 120 out of 120 | elapsed:    0.2s finished\n",
      "[Parallel(n_jobs=-1)]: Using backend LokyBackend with 16 concurrent workers.\n",
      "[Parallel(n_jobs=-1)]: Done   9 tasks      | elapsed:    0.4s\n",
      "[Parallel(n_jobs=-1)]: Done  60 out of  60 | elapsed:    1.4s remaining:    0.0s\n",
      "[Parallel(n_jobs=-1)]: Done  60 out of  60 | elapsed:    1.4s finished\n",
      "/miniconda3/lib/python3.7/site-packages/sklearn/pipeline.py:356: DataConversionWarning: A column-vector y was passed when a 1d array was expected. Please change the shape of y to (n_samples,), for example using ravel().\n",
      "  self._final_estimator.fit(Xt, y, **fit_params)\n"
     ]
    },
    {
     "name": "stdout",
     "output_type": "stream",
     "text": [
      "Saving model at modelos/X1RandomForest_20191012-1146.sav\n",
      "El tiempo de seleccion fue: 1.577 s\n",
      "El error r2 de la familia RandomForest es: 0.071\n",
      "********************************************************************************\n",
      "********************************************************************************\n",
      "Model: Knn\n",
      "Fitting 5 folds for each of 9 candidates, totalling 45 fits\n",
      "Saving model at modelos/X1Knn_20191012-1146.sav\n",
      "El tiempo de seleccion fue: 0.171 s\n",
      "El error r2 de la familia Knn es: -0.011\n",
      "********************************************************************************\n",
      "best model: RandomForest with an error r2 of: 0.07058656637533871\n"
     ]
    },
    {
     "name": "stderr",
     "output_type": "stream",
     "text": [
      "[Parallel(n_jobs=-1)]: Using backend LokyBackend with 16 concurrent workers.\n",
      "[Parallel(n_jobs=-1)]: Done  14 out of  45 | elapsed:    0.0s remaining:    0.1s\n",
      "[Parallel(n_jobs=-1)]: Done  45 out of  45 | elapsed:    0.2s finished\n"
     ]
    }
   ],
   "source": [
    "Bestmodels_X0, result_X0  = grid('X1', -1, X0_train, y_train.values, X0_test, y_test, models, score = 'r2', cv = 5)"
   ]
  },
  {
   "cell_type": "code",
   "execution_count": 13,
   "metadata": {},
   "outputs": [
    {
     "data": {
      "text/plain": [
       "{'linear': {'mse': 11.02991383923831, 'r2': 0.0773524648404681},\n",
       " 'gradient': {'mse': 12.175649314103095, 'r2': -0.018487813446042223},\n",
       " 'tree': {'mse': 12.05330119959762, 'r2': -0.008253446439627776},\n",
       " 'RandomForest': {'mse': 11.173361334666971, 'r2': 0.06535314372054879},\n",
       " 'Knn': {'mse': 11.836937699820323, 'r2': 0.009845266993459001}}"
      ]
     },
     "execution_count": 13,
     "metadata": {},
     "output_type": "execute_result"
    }
   ],
   "source": [
    "result_X0"
   ]
  },
  {
   "cell_type": "code",
   "execution_count": 14,
   "metadata": {
    "scrolled": true
   },
   "outputs": [
    {
     "name": "stderr",
     "output_type": "stream",
     "text": [
      "[Parallel(n_jobs=-1)]: Using backend LokyBackend with 16 concurrent workers.\n",
      "[Parallel(n_jobs=-1)]: Done   5 out of   5 | elapsed:    0.0s finished\n",
      "[Parallel(n_jobs=-1)]: Using backend LokyBackend with 16 concurrent workers.\n"
     ]
    },
    {
     "name": "stdout",
     "output_type": "stream",
     "text": [
      "********************************************************************************\n",
      "Model: linear\n",
      "Fitting 5 folds for each of 1 candidates, totalling 5 fits\n",
      "Saving model at modelos/X1linear_20191012-1146.sav\n",
      "El tiempo de seleccion fue: 0.020 s\n",
      "El error r2 de la familia linear es: -0.307\n",
      "********************************************************************************\n",
      "********************************************************************************\n",
      "Model: gradient\n",
      "Fitting 5 folds for each of 10 candidates, totalling 50 fits\n"
     ]
    },
    {
     "name": "stderr",
     "output_type": "stream",
     "text": [
      "[Parallel(n_jobs=-1)]: Done  19 out of  50 | elapsed:    0.2s remaining:    0.3s\n",
      "[Parallel(n_jobs=-1)]: Done  50 out of  50 | elapsed:    0.9s finished\n",
      "/miniconda3/lib/python3.7/site-packages/sklearn/ensemble/gradient_boosting.py:1450: DataConversionWarning: A column-vector y was passed when a 1d array was expected. Please change the shape of y to (n_samples, ), for example using ravel().\n",
      "  y = column_or_1d(y, warn=True)\n",
      "[Parallel(n_jobs=-1)]: Using backend LokyBackend with 16 concurrent workers.\n",
      "[Parallel(n_jobs=-1)]: Done  28 out of 120 | elapsed:    0.1s remaining:    0.4s\n"
     ]
    },
    {
     "name": "stdout",
     "output_type": "stream",
     "text": [
      "Saving model at modelos/X1gradient_20191012-1146.sav\n",
      "El tiempo de seleccion fue: 0.909 s\n",
      "El error r2 de la familia gradient es: -0.101\n",
      "********************************************************************************\n",
      "********************************************************************************\n",
      "Model: tree\n",
      "Fitting 5 folds for each of 24 candidates, totalling 120 fits\n"
     ]
    },
    {
     "name": "stderr",
     "output_type": "stream",
     "text": [
      "[Parallel(n_jobs=-1)]: Done 120 out of 120 | elapsed:    0.2s finished\n",
      "[Parallel(n_jobs=-1)]: Using backend LokyBackend with 16 concurrent workers.\n"
     ]
    },
    {
     "name": "stdout",
     "output_type": "stream",
     "text": [
      "Saving model at modelos/X1tree_20191012-1146.sav\n",
      "El tiempo de seleccion fue: 0.219 s\n",
      "El error r2 de la familia tree es: -0.012\n",
      "********************************************************************************\n",
      "********************************************************************************\n",
      "Model: RandomForest\n",
      "Fitting 5 folds for each of 12 candidates, totalling 60 fits\n"
     ]
    },
    {
     "name": "stderr",
     "output_type": "stream",
     "text": [
      "[Parallel(n_jobs=-1)]: Done   9 tasks      | elapsed:    0.3s\n",
      "[Parallel(n_jobs=-1)]: Done  60 out of  60 | elapsed:    1.1s remaining:    0.0s\n",
      "[Parallel(n_jobs=-1)]: Done  60 out of  60 | elapsed:    1.1s finished\n",
      "/miniconda3/lib/python3.7/site-packages/sklearn/pipeline.py:356: DataConversionWarning: A column-vector y was passed when a 1d array was expected. Please change the shape of y to (n_samples,), for example using ravel().\n",
      "  self._final_estimator.fit(Xt, y, **fit_params)\n",
      "[Parallel(n_jobs=-1)]: Using backend LokyBackend with 16 concurrent workers.\n"
     ]
    },
    {
     "name": "stdout",
     "output_type": "stream",
     "text": [
      "Saving model at modelos/X1RandomForest_20191012-1146.sav\n",
      "El tiempo de seleccion fue: 1.213 s\n",
      "El error r2 de la familia RandomForest es: 0.054\n",
      "********************************************************************************\n",
      "********************************************************************************\n",
      "Model: Knn\n",
      "Fitting 5 folds for each of 9 candidates, totalling 45 fits\n",
      "Saving model at modelos/X1Knn_20191012-1146.sav\n",
      "El tiempo de seleccion fue: 0.138 s\n",
      "El error r2 de la familia Knn es: 0.094\n",
      "********************************************************************************\n",
      "best model: Knn with an error r2 of: 0.09375145026211877\n"
     ]
    },
    {
     "name": "stderr",
     "output_type": "stream",
     "text": [
      "[Parallel(n_jobs=-1)]: Done  14 out of  45 | elapsed:    0.1s remaining:    0.1s\n",
      "[Parallel(n_jobs=-1)]: Done  45 out of  45 | elapsed:    0.1s finished\n"
     ]
    }
   ],
   "source": [
    "Bestmodels_X1, result_X1  = grid('X1', -1, X1_train, y_train.values, X1_test, y_test, models, score = 'r2', cv = 5)"
   ]
  },
  {
   "cell_type": "code",
   "execution_count": 15,
   "metadata": {},
   "outputs": [
    {
     "data": {
      "text/plain": [
       "{'linear': {'mse': 11.138857015744936, 'r2': 0.06823941511575438},\n",
       " 'gradient': {'mse': 14.116814825147499, 'r2': -0.1808654711690234},\n",
       " 'tree': {'mse': 13.1895171914119, 'r2': -0.10329742407496734},\n",
       " 'RandomForest': {'mse': 11.486340488764494, 'r2': 0.039172572476455},\n",
       " 'Knn': {'mse': 11.892945574403232, 'r2': 0.005160232442272261}}"
      ]
     },
     "execution_count": 15,
     "metadata": {},
     "output_type": "execute_result"
    }
   ],
   "source": [
    "result_X1"
   ]
  },
  {
   "cell_type": "code",
   "execution_count": 16,
   "metadata": {},
   "outputs": [
    {
     "name": "stderr",
     "output_type": "stream",
     "text": [
      "[Parallel(n_jobs=-1)]: Using backend LokyBackend with 16 concurrent workers.\n",
      "[Parallel(n_jobs=-1)]: Done   5 out of   5 | elapsed:    0.0s finished\n",
      "[Parallel(n_jobs=-1)]: Using backend LokyBackend with 16 concurrent workers.\n"
     ]
    },
    {
     "name": "stdout",
     "output_type": "stream",
     "text": [
      "********************************************************************************\n",
      "Model: linear\n",
      "Fitting 5 folds for each of 1 candidates, totalling 5 fits\n",
      "Saving model at modelos/X2linear_20191012-1146.sav\n",
      "El tiempo de seleccion fue: 0.019 s\n",
      "El error r2 de la familia linear es: -0.111\n",
      "********************************************************************************\n",
      "********************************************************************************\n",
      "Model: gradient\n",
      "Fitting 5 folds for each of 10 candidates, totalling 50 fits\n"
     ]
    },
    {
     "name": "stderr",
     "output_type": "stream",
     "text": [
      "[Parallel(n_jobs=-1)]: Done  19 out of  50 | elapsed:    0.2s remaining:    0.3s\n",
      "[Parallel(n_jobs=-1)]: Done  50 out of  50 | elapsed:    1.0s finished\n",
      "/miniconda3/lib/python3.7/site-packages/sklearn/ensemble/gradient_boosting.py:1450: DataConversionWarning: A column-vector y was passed when a 1d array was expected. Please change the shape of y to (n_samples, ), for example using ravel().\n",
      "  y = column_or_1d(y, warn=True)\n",
      "[Parallel(n_jobs=-1)]: Using backend LokyBackend with 16 concurrent workers.\n",
      "[Parallel(n_jobs=-1)]: Done  28 out of 120 | elapsed:    0.1s remaining:    0.4s\n"
     ]
    },
    {
     "name": "stdout",
     "output_type": "stream",
     "text": [
      "Saving model at modelos/X2gradient_20191012-1146.sav\n",
      "El tiempo de seleccion fue: 1.032 s\n",
      "El error r2 de la familia gradient es: -0.141\n",
      "********************************************************************************\n",
      "********************************************************************************\n",
      "Model: tree\n",
      "Fitting 5 folds for each of 24 candidates, totalling 120 fits\n"
     ]
    },
    {
     "name": "stderr",
     "output_type": "stream",
     "text": [
      "[Parallel(n_jobs=-1)]: Done 120 out of 120 | elapsed:    0.2s finished\n",
      "[Parallel(n_jobs=-1)]: Using backend LokyBackend with 16 concurrent workers.\n"
     ]
    },
    {
     "name": "stdout",
     "output_type": "stream",
     "text": [
      "Saving model at modelos/X2tree_20191012-1146.sav\n",
      "El tiempo de seleccion fue: 0.200 s\n",
      "El error r2 de la familia tree es: 0.040\n",
      "********************************************************************************\n",
      "********************************************************************************\n",
      "Model: RandomForest\n",
      "Fitting 5 folds for each of 12 candidates, totalling 60 fits\n"
     ]
    },
    {
     "name": "stderr",
     "output_type": "stream",
     "text": [
      "[Parallel(n_jobs=-1)]: Done   9 tasks      | elapsed:    0.3s\n",
      "[Parallel(n_jobs=-1)]: Done  60 out of  60 | elapsed:    1.0s remaining:    0.0s\n",
      "[Parallel(n_jobs=-1)]: Done  60 out of  60 | elapsed:    1.0s finished\n",
      "/miniconda3/lib/python3.7/site-packages/sklearn/pipeline.py:356: DataConversionWarning: A column-vector y was passed when a 1d array was expected. Please change the shape of y to (n_samples,), for example using ravel().\n",
      "  self._final_estimator.fit(Xt, y, **fit_params)\n",
      "[Parallel(n_jobs=-1)]: Using backend LokyBackend with 16 concurrent workers.\n"
     ]
    },
    {
     "name": "stdout",
     "output_type": "stream",
     "text": [
      "Saving model at modelos/X2RandomForest_20191012-1146.sav\n",
      "El tiempo de seleccion fue: 1.105 s\n",
      "El error r2 de la familia RandomForest es: 0.060\n",
      "********************************************************************************\n",
      "********************************************************************************\n",
      "Model: Knn\n",
      "Fitting 5 folds for each of 9 candidates, totalling 45 fits\n",
      "Saving model at modelos/X2Knn_20191012-1146.sav\n",
      "El tiempo de seleccion fue: 0.103 s\n",
      "El error r2 de la familia Knn es: 0.098\n",
      "********************************************************************************\n",
      "best model: Knn with an error r2 of: 0.09750976008480833\n"
     ]
    },
    {
     "name": "stderr",
     "output_type": "stream",
     "text": [
      "[Parallel(n_jobs=-1)]: Done  14 out of  45 | elapsed:    0.1s remaining:    0.1s\n",
      "[Parallel(n_jobs=-1)]: Done  45 out of  45 | elapsed:    0.1s finished\n"
     ]
    }
   ],
   "source": [
    "Bestmodels_X2, result_X2  = grid('X2', -1, X2_train, y_train.values, X2_test, y_test, models, score = 'r2', cv = 5)"
   ]
  },
  {
   "cell_type": "code",
   "execution_count": 17,
   "metadata": {},
   "outputs": [
    {
     "data": {
      "text/plain": [
       "{'linear': {'mse': 11.25791788030339, 'r2': 0.05828002514953068},\n",
       " 'gradient': {'mse': 15.918936539056734, 'r2': -0.3316121752349046},\n",
       " 'tree': {'mse': 12.80028722657763, 'r2': -0.07073850540173043},\n",
       " 'RandomForest': {'mse': 11.614012622816988, 'r2': 0.028492853531322804},\n",
       " 'Knn': {'mse': 12.002645159731856, 'r2': -0.004016090554142648}}"
      ]
     },
     "execution_count": 17,
     "metadata": {},
     "output_type": "execute_result"
    }
   ],
   "source": [
    "result_X2"
   ]
  },
  {
   "cell_type": "code",
   "execution_count": 18,
   "metadata": {
    "scrolled": true
   },
   "outputs": [
    {
     "name": "stdout",
     "output_type": "stream",
     "text": [
      "********************************************************************************\n",
      "Model: linear\n",
      "Fitting 5 folds for each of 1 candidates, totalling 5 fits\n",
      "Saving model at modelos/X3linear_20191012-1146.sav\n",
      "El tiempo de seleccion fue: 0.020 s\n",
      "El error r2 de la familia linear es: 0.033\n",
      "********************************************************************************\n",
      "********************************************************************************\n",
      "Model: gradient\n",
      "Fitting 5 folds for each of 10 candidates, totalling 50 fits\n"
     ]
    },
    {
     "name": "stderr",
     "output_type": "stream",
     "text": [
      "[Parallel(n_jobs=-1)]: Using backend LokyBackend with 16 concurrent workers.\n",
      "[Parallel(n_jobs=-1)]: Done   5 out of   5 | elapsed:    0.0s finished\n",
      "[Parallel(n_jobs=-1)]: Using backend LokyBackend with 16 concurrent workers.\n",
      "[Parallel(n_jobs=-1)]: Done  19 out of  50 | elapsed:    0.1s remaining:    0.2s\n",
      "[Parallel(n_jobs=-1)]: Done  50 out of  50 | elapsed:    0.9s finished\n",
      "/miniconda3/lib/python3.7/site-packages/sklearn/ensemble/gradient_boosting.py:1450: DataConversionWarning: A column-vector y was passed when a 1d array was expected. Please change the shape of y to (n_samples, ), for example using ravel().\n",
      "  y = column_or_1d(y, warn=True)\n",
      "[Parallel(n_jobs=-1)]: Using backend LokyBackend with 16 concurrent workers.\n",
      "[Parallel(n_jobs=-1)]: Done  28 out of 120 | elapsed:    0.1s remaining:    0.3s\n"
     ]
    },
    {
     "name": "stdout",
     "output_type": "stream",
     "text": [
      "Saving model at modelos/X3gradient_20191012-1146.sav\n",
      "El tiempo de seleccion fue: 0.934 s\n",
      "El error r2 de la familia gradient es: -0.135\n",
      "********************************************************************************\n",
      "********************************************************************************\n",
      "Model: tree\n",
      "Fitting 5 folds for each of 24 candidates, totalling 120 fits\n",
      "Saving model at modelos/X3tree_20191012-1146.sav\n",
      "El tiempo de seleccion fue: 0.190 s\n",
      "El error r2 de la familia tree es: 0.017\n",
      "********************************************************************************\n",
      "********************************************************************************\n",
      "Model: RandomForest\n",
      "Fitting 5 folds for each of 12 candidates, totalling 60 fits\n"
     ]
    },
    {
     "name": "stderr",
     "output_type": "stream",
     "text": [
      "[Parallel(n_jobs=-1)]: Done 120 out of 120 | elapsed:    0.2s finished\n",
      "[Parallel(n_jobs=-1)]: Using backend LokyBackend with 16 concurrent workers.\n",
      "[Parallel(n_jobs=-1)]: Done   9 tasks      | elapsed:    0.3s\n",
      "[Parallel(n_jobs=-1)]: Done  60 out of  60 | elapsed:    0.9s remaining:    0.0s\n",
      "[Parallel(n_jobs=-1)]: Done  60 out of  60 | elapsed:    0.9s finished\n",
      "/miniconda3/lib/python3.7/site-packages/sklearn/pipeline.py:356: DataConversionWarning: A column-vector y was passed when a 1d array was expected. Please change the shape of y to (n_samples,), for example using ravel().\n",
      "  self._final_estimator.fit(Xt, y, **fit_params)\n",
      "[Parallel(n_jobs=-1)]: Using backend LokyBackend with 16 concurrent workers.\n"
     ]
    },
    {
     "name": "stdout",
     "output_type": "stream",
     "text": [
      "Saving model at modelos/X3RandomForest_20191012-1146.sav\n",
      "El tiempo de seleccion fue: 0.987 s\n",
      "El error r2 de la familia RandomForest es: 0.041\n",
      "********************************************************************************\n",
      "********************************************************************************\n",
      "Model: Knn\n",
      "Fitting 5 folds for each of 9 candidates, totalling 45 fits\n",
      "Saving model at modelos/X3Knn_20191012-1146.sav\n",
      "El tiempo de seleccion fue: 0.095 s\n",
      "El error r2 de la familia Knn es: 0.105\n",
      "********************************************************************************\n",
      "best model: Knn with an error r2 of: 0.10453541185319319\n"
     ]
    },
    {
     "name": "stderr",
     "output_type": "stream",
     "text": [
      "[Parallel(n_jobs=-1)]: Done  14 out of  45 | elapsed:    0.1s remaining:    0.1s\n",
      "[Parallel(n_jobs=-1)]: Done  37 out of  45 | elapsed:    0.1s remaining:    0.0s\n",
      "[Parallel(n_jobs=-1)]: Done  45 out of  45 | elapsed:    0.1s finished\n"
     ]
    }
   ],
   "source": [
    "Bestmodels_X3, result_X3  = grid('X3', -1, X3_train, y_train.values, X3_test, y_test, models, score = 'r2', cv = 5)"
   ]
  },
  {
   "cell_type": "code",
   "execution_count": 19,
   "metadata": {},
   "outputs": [
    {
     "data": {
      "text/plain": [
       "{'linear': {'mse': 11.576046414519645, 'r2': 0.03166871047956843},\n",
       " 'gradient': {'mse': 15.2424564087483, 'r2': -0.2750249041183266},\n",
       " 'tree': {'mse': 11.266219866032124, 'r2': 0.05758556762418754},\n",
       " 'RandomForest': {'mse': 11.622067520385498, 'r2': 0.027819064824006534},\n",
       " 'Knn': {'mse': 12.371097828441073, 'r2': -0.03483699736831469}}"
      ]
     },
     "execution_count": 19,
     "metadata": {},
     "output_type": "execute_result"
    }
   ],
   "source": [
    "result_X3"
   ]
  },
  {
   "cell_type": "code",
   "execution_count": 20,
   "metadata": {},
   "outputs": [
    {
     "name": "stdout",
     "output_type": "stream",
     "text": [
      "********************************************************************************\n",
      "Model: linear\n",
      "Fitting 5 folds for each of 1 candidates, totalling 5 fits\n",
      "Saving model at modelos/X4linear_20191012-1146.sav\n",
      "El tiempo de seleccion fue: 0.020 s\n",
      "El error r2 de la familia linear es: 0.032\n",
      "********************************************************************************\n",
      "********************************************************************************\n",
      "Model: gradient\n",
      "Fitting 5 folds for each of 10 candidates, totalling 50 fits\n"
     ]
    },
    {
     "name": "stderr",
     "output_type": "stream",
     "text": [
      "[Parallel(n_jobs=-1)]: Using backend LokyBackend with 16 concurrent workers.\n",
      "[Parallel(n_jobs=-1)]: Done   5 out of   5 | elapsed:    0.0s finished\n",
      "[Parallel(n_jobs=-1)]: Using backend LokyBackend with 16 concurrent workers.\n",
      "[Parallel(n_jobs=-1)]: Done  19 out of  50 | elapsed:    0.1s remaining:    0.2s\n",
      "[Parallel(n_jobs=-1)]: Done  50 out of  50 | elapsed:    0.9s finished\n",
      "/miniconda3/lib/python3.7/site-packages/sklearn/ensemble/gradient_boosting.py:1450: DataConversionWarning: A column-vector y was passed when a 1d array was expected. Please change the shape of y to (n_samples, ), for example using ravel().\n",
      "  y = column_or_1d(y, warn=True)\n",
      "[Parallel(n_jobs=-1)]: Using backend LokyBackend with 16 concurrent workers.\n",
      "[Parallel(n_jobs=-1)]: Done  28 out of 120 | elapsed:    0.1s remaining:    0.3s\n",
      "[Parallel(n_jobs=-1)]: Done 120 out of 120 | elapsed:    0.2s finished\n",
      "[Parallel(n_jobs=-1)]: Using backend LokyBackend with 16 concurrent workers.\n"
     ]
    },
    {
     "name": "stdout",
     "output_type": "stream",
     "text": [
      "Saving model at modelos/X4gradient_20191012-1146.sav\n",
      "El tiempo de seleccion fue: 0.959 s\n",
      "El error r2 de la familia gradient es: -0.330\n",
      "********************************************************************************\n",
      "********************************************************************************\n",
      "Model: tree\n",
      "Fitting 5 folds for each of 24 candidates, totalling 120 fits\n",
      "Saving model at modelos/X4tree_20191012-1146.sav\n",
      "El tiempo de seleccion fue: 0.157 s\n",
      "El error r2 de la familia tree es: -0.002\n",
      "********************************************************************************\n",
      "********************************************************************************\n",
      "Model: RandomForest\n",
      "Fitting 5 folds for each of 12 candidates, totalling 60 fits\n"
     ]
    },
    {
     "name": "stderr",
     "output_type": "stream",
     "text": [
      "[Parallel(n_jobs=-1)]: Done   9 tasks      | elapsed:    0.2s\n",
      "[Parallel(n_jobs=-1)]: Done  29 out of  60 | elapsed:    0.4s remaining:    0.5s\n",
      "[Parallel(n_jobs=-1)]: Done  60 out of  60 | elapsed:    0.8s remaining:    0.0s\n",
      "[Parallel(n_jobs=-1)]: Done  60 out of  60 | elapsed:    0.8s finished\n",
      "/miniconda3/lib/python3.7/site-packages/sklearn/pipeline.py:356: DataConversionWarning: A column-vector y was passed when a 1d array was expected. Please change the shape of y to (n_samples,), for example using ravel().\n",
      "  self._final_estimator.fit(Xt, y, **fit_params)\n",
      "[Parallel(n_jobs=-1)]: Using backend LokyBackend with 16 concurrent workers.\n"
     ]
    },
    {
     "name": "stdout",
     "output_type": "stream",
     "text": [
      "Saving model at modelos/X4RandomForest_20191012-1146.sav\n",
      "El tiempo de seleccion fue: 0.913 s\n",
      "El error r2 de la familia RandomForest es: -0.032\n",
      "********************************************************************************\n",
      "********************************************************************************\n",
      "Model: Knn\n",
      "Fitting 5 folds for each of 9 candidates, totalling 45 fits\n",
      "Saving model at modelos/X4Knn_20191012-1146.sav\n",
      "El tiempo de seleccion fue: 0.115 s\n",
      "El error r2 de la familia Knn es: -0.001\n",
      "********************************************************************************\n",
      "best model: linear with an error r2 of: 0.032238121484270264\n"
     ]
    },
    {
     "name": "stderr",
     "output_type": "stream",
     "text": [
      "[Parallel(n_jobs=-1)]: Done  14 out of  45 | elapsed:    0.1s remaining:    0.1s\n",
      "[Parallel(n_jobs=-1)]: Done  45 out of  45 | elapsed:    0.1s finished\n"
     ]
    }
   ],
   "source": [
    "Bestmodels_X4, result_X4  = grid('X4', -1, X4_train, y_train.values, X4_test, y_test, models, score = 'r2', cv = 5)"
   ]
  },
  {
   "cell_type": "code",
   "execution_count": 21,
   "metadata": {},
   "outputs": [
    {
     "data": {
      "text/plain": [
       "{'linear': {'mse': 11.094943346442458, 'r2': 0.07191277461178269},\n",
       " 'gradient': {'mse': 12.917775461159124, 'r2': -0.08056634554869802},\n",
       " 'tree': {'mse': 11.10463002158051, 'r2': 0.0711024884146032},\n",
       " 'RandomForest': {'mse': 11.441695709434084, 'r2': 0.042907089010972954},\n",
       " 'Knn': {'mse': 11.626972512490903, 'r2': 0.027408764350041914}}"
      ]
     },
     "execution_count": 21,
     "metadata": {},
     "output_type": "execute_result"
    }
   ],
   "source": [
    "result_X4"
   ]
  },
  {
   "cell_type": "code",
   "execution_count": 22,
   "metadata": {},
   "outputs": [
    {
     "name": "stdout",
     "output_type": "stream",
     "text": [
      "BestX0: {'linear': 0.0773524648404681}\n",
      "BestX1: {'linear': 0.06823941511575438}\n",
      "BestX2: {'linear': 0.05828002514953068}\n",
      "BestX3: {'tree': 0.05758556762418754}\n",
      "BestX4: {'linear': 0.07191277461178269}\n"
     ]
    }
   ],
   "source": [
    "# Forma en que vas a llamar la función\n",
    "\n",
    "resultado = get_max(result_X0, 'r2')\n",
    "best_X0 = {}\n",
    "best_X0[resultado[0]] = resultado[1]\n",
    "print('BestX0: ' + str(best_X0))\n",
    "\n",
    "resultado = get_max(result_X1, 'r2')\n",
    "best_X1 = {}\n",
    "best_X1[resultado[0]] = resultado[1]\n",
    "print('BestX1: ' + str(best_X1))\n",
    "\n",
    "\n",
    "resultado = get_max(result_X2, 'r2')\n",
    "best_X2 = {}\n",
    "best_X2[resultado[0]] = resultado[1]\n",
    "print('BestX2: ' + str(best_X2))\n",
    "\n",
    "resultado = get_max(result_X3, 'r2')\n",
    "best_X3 = {}\n",
    "best_X3[resultado[0]] = resultado[1]\n",
    "print('BestX3: ' + str(best_X3))\n",
    "\n",
    "\n",
    "resultado = get_max(result_X4, 'r2')\n",
    "best_X4 = {}\n",
    "best_X4[resultado[0]] = resultado[1]\n",
    "print('BestX4: ' + str(best_X4))\n",
    "\n",
    "\n",
    "\n",
    "\n"
   ]
  },
  {
   "cell_type": "code",
   "execution_count": 23,
   "metadata": {},
   "outputs": [
    {
     "name": "stdout",
     "output_type": "stream",
     "text": [
      "BestX0: {'gradient': 12.175649314103095}\n",
      "BestX1: {'linear': 11.138857015744936}\n",
      "BestX2: {'linear': 11.25791788030339}\n",
      "BestX3: {'tree': 11.266219866032124}\n",
      "BestX4: {'linear': 11.094943346442458}\n"
     ]
    }
   ],
   "source": [
    "# Forma en que vas a llamar la función\n",
    "\n",
    "resultado = get_max(result_X0, 'mse')\n",
    "best_X0 = {}\n",
    "best_X0[resultado[0]] = resultado[1]\n",
    "print('BestX0: ' + str(best_X0))\n",
    "\n",
    "resultado = get_min(result_X1, 'mse')\n",
    "best_X1 = {}\n",
    "best_X1[resultado[0]] = resultado[1]\n",
    "print('BestX1: ' + str(best_X1))\n",
    "\n",
    "\n",
    "resultado = get_min(result_X2, 'mse')\n",
    "best_X2 = {}\n",
    "best_X2[resultado[0]] = resultado[1]\n",
    "print('BestX2: ' + str(best_X2))\n",
    "\n",
    "resultado = get_min(result_X3, 'mse')\n",
    "best_X3 = {}\n",
    "best_X3[resultado[0]] = resultado[1]\n",
    "print('BestX3: ' + str(best_X3))\n",
    "\n",
    "\n",
    "resultado = get_min(result_X4, 'mse')\n",
    "best_X4 = {}\n",
    "best_X4[resultado[0]] = resultado[1]\n",
    "print('BestX4: ' + str(best_X4))"
   ]
  },
  {
   "cell_type": "code",
   "execution_count": 28,
   "metadata": {},
   "outputs": [
    {
     "data": {
      "text/plain": [
       "{'mod': LinearRegression(copy_X=True, fit_intercept=True, n_jobs=None, normalize=False),\n",
       " 'par': {},\n",
       " 'bestModel': Pipeline(memory=None,\n",
       "          steps=[('scaler',\n",
       "                  StandardScaler(copy=True, with_mean=True, with_std=True)),\n",
       "                 ('linear',\n",
       "                  LinearRegression(copy_X=True, fit_intercept=True, n_jobs=None,\n",
       "                                   normalize=False))],\n",
       "          verbose=False),\n",
       " 'r2': 0.032238121484270264,\n",
       " 'cols_order': array(['X11', 'X18', 'X39'], dtype=object),\n",
       " 'selection_time': 0.020483732223510742}"
      ]
     },
     "execution_count": 28,
     "metadata": {},
     "output_type": "execute_result"
    }
   ],
   "source": [
    "Selected_model = Bestmodels_X4['linear']\n",
    "Bestmodels_X4['linear']"
   ]
  },
  {
   "cell_type": "code",
   "execution_count": 30,
   "metadata": {},
   "outputs": [],
   "source": [
    "import pickle \n",
    "pickle.dump(Selected_model, open('modeleconomy2.sav', 'wb'))"
   ]
  },
  {
   "cell_type": "code",
   "execution_count": null,
   "metadata": {},
   "outputs": [],
   "source": []
  }
 ],
 "metadata": {
  "kernelspec": {
   "display_name": "Python 3",
   "language": "python",
   "name": "python3"
  },
  "language_info": {
   "codemirror_mode": {
    "name": "ipython",
    "version": 3
   },
   "file_extension": ".py",
   "mimetype": "text/x-python",
   "name": "python",
   "nbconvert_exporter": "python",
   "pygments_lexer": "ipython3",
   "version": "3.7.3"
  }
 },
 "nbformat": 4,
 "nbformat_minor": 2
}
