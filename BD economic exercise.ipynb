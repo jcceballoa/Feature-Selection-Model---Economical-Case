{
 "cells": [
  {
   "cell_type": "code",
   "execution_count": 3,
   "metadata": {},
   "outputs": [],
   "source": [
    "\n",
    "import numpy as np\n",
    "import pandas as pd\n",
    "from sklearn.feature_selection import RFE\n",
    "from sklearn.svm import SVR\n",
    "from sklearn.model_selection import train_test_split\n",
    "from sklearn.preprocessing import StandardScaler"
   ]
  },
  {
   "cell_type": "code",
   "execution_count": 4,
   "metadata": {},
   "outputs": [],
   "source": [
    "#path = '/Users/diana/Library/Mobile Documents/com~apple~CloudDocs/Maestria/Aprendizaje Automático/HR_attrition_orig_proc.csv'\n",
    "path = 'datanew.csv'\n",
    "data = pd.read_csv(path, sep = ',', na_filter = False)\n",
    "#data = data.iloc[:, 1:]"
   ]
  },
  {
   "cell_type": "code",
   "execution_count": 5,
   "metadata": {},
   "outputs": [
    {
     "data": {
      "text/html": [
       "<div>\n",
       "<style scoped>\n",
       "    .dataframe tbody tr th:only-of-type {\n",
       "        vertical-align: middle;\n",
       "    }\n",
       "\n",
       "    .dataframe tbody tr th {\n",
       "        vertical-align: top;\n",
       "    }\n",
       "\n",
       "    .dataframe thead th {\n",
       "        text-align: right;\n",
       "    }\n",
       "</style>\n",
       "<table border=\"1\" class=\"dataframe\">\n",
       "  <thead>\n",
       "    <tr style=\"text-align: right;\">\n",
       "      <th></th>\n",
       "      <th>y</th>\n",
       "      <th>X1</th>\n",
       "      <th>X2</th>\n",
       "      <th>X3</th>\n",
       "      <th>X4</th>\n",
       "      <th>X5</th>\n",
       "      <th>X6</th>\n",
       "      <th>X7</th>\n",
       "      <th>X8</th>\n",
       "      <th>X9</th>\n",
       "      <th>...</th>\n",
       "      <th>X41</th>\n",
       "      <th>X42</th>\n",
       "      <th>X43</th>\n",
       "      <th>X44</th>\n",
       "      <th>X45</th>\n",
       "      <th>X46</th>\n",
       "      <th>X47</th>\n",
       "      <th>X48</th>\n",
       "      <th>X49</th>\n",
       "      <th>X50</th>\n",
       "    </tr>\n",
       "  </thead>\n",
       "  <tbody>\n",
       "    <tr>\n",
       "      <th>0</th>\n",
       "      <td>3.789098</td>\n",
       "      <td>-0.626454</td>\n",
       "      <td>-0.199046</td>\n",
       "      <td>0.561391</td>\n",
       "      <td>0.195449</td>\n",
       "      <td>-0.572336</td>\n",
       "      <td>0.321457</td>\n",
       "      <td>-0.788790</td>\n",
       "      <td>0.431574</td>\n",
       "      <td>0.551343</td>\n",
       "      <td>...</td>\n",
       "      <td>0.823122</td>\n",
       "      <td>0.789786</td>\n",
       "      <td>1.700614</td>\n",
       "      <td>0.384522</td>\n",
       "      <td>0.925802</td>\n",
       "      <td>-0.110698</td>\n",
       "      <td>-0.562646</td>\n",
       "      <td>0.311002</td>\n",
       "      <td>0.959238</td>\n",
       "      <td>0.051584</td>\n",
       "    </tr>\n",
       "    <tr>\n",
       "      <th>1</th>\n",
       "      <td>1.429142</td>\n",
       "      <td>0.183643</td>\n",
       "      <td>1.254817</td>\n",
       "      <td>2.194971</td>\n",
       "      <td>2.639988</td>\n",
       "      <td>0.772151</td>\n",
       "      <td>1.314587</td>\n",
       "      <td>2.257993</td>\n",
       "      <td>1.811840</td>\n",
       "      <td>1.367294</td>\n",
       "      <td>...</td>\n",
       "      <td>-0.770535</td>\n",
       "      <td>-1.238368</td>\n",
       "      <td>-1.081488</td>\n",
       "      <td>-0.465512</td>\n",
       "      <td>-1.358593</td>\n",
       "      <td>-1.644816</td>\n",
       "      <td>-1.270086</td>\n",
       "      <td>-0.815181</td>\n",
       "      <td>-1.206401</td>\n",
       "      <td>-1.687794</td>\n",
       "    </tr>\n",
       "    <tr>\n",
       "      <th>2</th>\n",
       "      <td>4.166534</td>\n",
       "      <td>-0.835629</td>\n",
       "      <td>0.422708</td>\n",
       "      <td>-0.081814</td>\n",
       "      <td>0.288082</td>\n",
       "      <td>0.874379</td>\n",
       "      <td>0.079819</td>\n",
       "      <td>-1.168313</td>\n",
       "      <td>-1.063122</td>\n",
       "      <td>-1.375074</td>\n",
       "      <td>...</td>\n",
       "      <td>-1.159417</td>\n",
       "      <td>1.364054</td>\n",
       "      <td>1.012995</td>\n",
       "      <td>1.423777</td>\n",
       "      <td>1.875699</td>\n",
       "      <td>1.467236</td>\n",
       "      <td>3.057051</td>\n",
       "      <td>1.780588</td>\n",
       "      <td>0.579437</td>\n",
       "      <td>-0.350954</td>\n",
       "    </tr>\n",
       "    <tr>\n",
       "      <th>3</th>\n",
       "      <td>5.509822</td>\n",
       "      <td>1.595281</td>\n",
       "      <td>0.977586</td>\n",
       "      <td>0.474654</td>\n",
       "      <td>0.714617</td>\n",
       "      <td>0.528117</td>\n",
       "      <td>0.535473</td>\n",
       "      <td>-0.991461</td>\n",
       "      <td>-1.251116</td>\n",
       "      <td>-0.711596</td>\n",
       "      <td>...</td>\n",
       "      <td>0.512329</td>\n",
       "      <td>0.648545</td>\n",
       "      <td>0.676692</td>\n",
       "      <td>1.009477</td>\n",
       "      <td>0.545659</td>\n",
       "      <td>0.873144</td>\n",
       "      <td>0.397688</td>\n",
       "      <td>0.242229</td>\n",
       "      <td>0.688888</td>\n",
       "      <td>1.226566</td>\n",
       "    </tr>\n",
       "    <tr>\n",
       "      <th>4</th>\n",
       "      <td>4.785675</td>\n",
       "      <td>0.329508</td>\n",
       "      <td>-1.264410</td>\n",
       "      <td>-1.223613</td>\n",
       "      <td>-1.008111</td>\n",
       "      <td>-1.152700</td>\n",
       "      <td>-0.818624</td>\n",
       "      <td>-0.152517</td>\n",
       "      <td>-0.495643</td>\n",
       "      <td>-0.489063</td>\n",
       "      <td>...</td>\n",
       "      <td>-1.261739</td>\n",
       "      <td>0.601501</td>\n",
       "      <td>0.302491</td>\n",
       "      <td>0.542850</td>\n",
       "      <td>0.781383</td>\n",
       "      <td>1.031464</td>\n",
       "      <td>0.296067</td>\n",
       "      <td>-0.612029</td>\n",
       "      <td>-1.167152</td>\n",
       "      <td>-1.511486</td>\n",
       "    </tr>\n",
       "  </tbody>\n",
       "</table>\n",
       "<p>5 rows × 51 columns</p>\n",
       "</div>"
      ],
      "text/plain": [
       "          y        X1        X2        X3        X4        X5        X6  \\\n",
       "0  3.789098 -0.626454 -0.199046  0.561391  0.195449 -0.572336  0.321457   \n",
       "1  1.429142  0.183643  1.254817  2.194971  2.639988  0.772151  1.314587   \n",
       "2  4.166534 -0.835629  0.422708 -0.081814  0.288082  0.874379  0.079819   \n",
       "3  5.509822  1.595281  0.977586  0.474654  0.714617  0.528117  0.535473   \n",
       "4  4.785675  0.329508 -1.264410 -1.223613 -1.008111 -1.152700 -0.818624   \n",
       "\n",
       "         X7        X8        X9  ...       X41       X42       X43       X44  \\\n",
       "0 -0.788790  0.431574  0.551343  ...  0.823122  0.789786  1.700614  0.384522   \n",
       "1  2.257993  1.811840  1.367294  ... -0.770535 -1.238368 -1.081488 -0.465512   \n",
       "2 -1.168313 -1.063122 -1.375074  ... -1.159417  1.364054  1.012995  1.423777   \n",
       "3 -0.991461 -1.251116 -0.711596  ...  0.512329  0.648545  0.676692  1.009477   \n",
       "4 -0.152517 -0.495643 -0.489063  ... -1.261739  0.601501  0.302491  0.542850   \n",
       "\n",
       "        X45       X46       X47       X48       X49       X50  \n",
       "0  0.925802 -0.110698 -0.562646  0.311002  0.959238  0.051584  \n",
       "1 -1.358593 -1.644816 -1.270086 -0.815181 -1.206401 -1.687794  \n",
       "2  1.875699  1.467236  3.057051  1.780588  0.579437 -0.350954  \n",
       "3  0.545659  0.873144  0.397688  0.242229  0.688888  1.226566  \n",
       "4  0.781383  1.031464  0.296067 -0.612029 -1.167152 -1.511486  \n",
       "\n",
       "[5 rows x 51 columns]"
      ]
     },
     "execution_count": 5,
     "metadata": {},
     "output_type": "execute_result"
    }
   ],
   "source": [
    "# Columnas del dataframe\n",
    "data.head()"
   ]
  },
  {
   "cell_type": "code",
   "execution_count": 14,
   "metadata": {},
   "outputs": [
    {
     "data": {
      "text/plain": [
       "(200, 51)"
      ]
     },
     "execution_count": 14,
     "metadata": {},
     "output_type": "execute_result"
    }
   ],
   "source": [
    "data.shape"
   ]
  },
  {
   "cell_type": "code",
   "execution_count": 15,
   "metadata": {},
   "outputs": [],
   "source": [
    "test_size = 0.3"
   ]
  },
  {
   "cell_type": "code",
   "execution_count": 16,
   "metadata": {},
   "outputs": [],
   "source": [
    "# variables seleccionadas según diferentes criterios\n",
    "y = data[['y']].copy()\n",
    "X = data.drop(columns = ['y']).copy()"
   ]
  },
  {
   "cell_type": "code",
   "execution_count": 17,
   "metadata": {},
   "outputs": [],
   "source": [
    "X_train, X_test, y_train, y_test = train_test_split(X, y, test_size=test_size)\n",
    "data_train, data_test = train_test_split(data, test_size=test_size)"
   ]
  },
  {
   "cell_type": "code",
   "execution_count": 18,
   "metadata": {},
   "outputs": [],
   "source": [
    "data_train.to_csv('datanew_train.csv')\n",
    "data_test.to_csv('datanew_test.csv')"
   ]
  },
  {
   "cell_type": "markdown",
   "metadata": {},
   "source": [
    "### Leyendo los datos de entrenamiento"
   ]
  },
  {
   "cell_type": "code",
   "execution_count": 19,
   "metadata": {},
   "outputs": [],
   "source": [
    "path = 'datanew_train.csv'\n",
    "train = pd.read_csv(path, sep = ',', na_filter = False)\n",
    "train = train.set_index('Unnamed: 0')"
   ]
  },
  {
   "cell_type": "code",
   "execution_count": 20,
   "metadata": {},
   "outputs": [],
   "source": [
    "X_train = train.drop(columns = ['y']).copy()\n",
    "y_train = train[['y']].copy()"
   ]
  },
  {
   "cell_type": "code",
   "execution_count": 21,
   "metadata": {},
   "outputs": [],
   "source": [
    "standarscaler = StandardScaler()\n",
    "X_trained_scaled = standarscaler.fit_transform(X_train)"
   ]
  },
  {
   "cell_type": "code",
   "execution_count": 22,
   "metadata": {},
   "outputs": [],
   "source": [
    "X_trained_scaled = pd.DataFrame(X_trained_scaled, index=X_train.index, columns=X_train.columns.values)"
   ]
  },
  {
   "cell_type": "code",
   "execution_count": 23,
   "metadata": {},
   "outputs": [
    {
     "data": {
      "text/html": [
       "<div>\n",
       "<style scoped>\n",
       "    .dataframe tbody tr th:only-of-type {\n",
       "        vertical-align: middle;\n",
       "    }\n",
       "\n",
       "    .dataframe tbody tr th {\n",
       "        vertical-align: top;\n",
       "    }\n",
       "\n",
       "    .dataframe thead th {\n",
       "        text-align: right;\n",
       "    }\n",
       "</style>\n",
       "<table border=\"1\" class=\"dataframe\">\n",
       "  <thead>\n",
       "    <tr style=\"text-align: right;\">\n",
       "      <th></th>\n",
       "      <th>X1</th>\n",
       "      <th>X2</th>\n",
       "      <th>X3</th>\n",
       "      <th>X4</th>\n",
       "      <th>X5</th>\n",
       "      <th>X6</th>\n",
       "      <th>X7</th>\n",
       "      <th>X8</th>\n",
       "      <th>X9</th>\n",
       "      <th>X10</th>\n",
       "      <th>...</th>\n",
       "      <th>X41</th>\n",
       "      <th>X42</th>\n",
       "      <th>X43</th>\n",
       "      <th>X44</th>\n",
       "      <th>X45</th>\n",
       "      <th>X46</th>\n",
       "      <th>X47</th>\n",
       "      <th>X48</th>\n",
       "      <th>X49</th>\n",
       "      <th>X50</th>\n",
       "    </tr>\n",
       "    <tr>\n",
       "      <th>Unnamed: 0</th>\n",
       "      <th></th>\n",
       "      <th></th>\n",
       "      <th></th>\n",
       "      <th></th>\n",
       "      <th></th>\n",
       "      <th></th>\n",
       "      <th></th>\n",
       "      <th></th>\n",
       "      <th></th>\n",
       "      <th></th>\n",
       "      <th></th>\n",
       "      <th></th>\n",
       "      <th></th>\n",
       "      <th></th>\n",
       "      <th></th>\n",
       "      <th></th>\n",
       "      <th></th>\n",
       "      <th></th>\n",
       "      <th></th>\n",
       "      <th></th>\n",
       "      <th></th>\n",
       "    </tr>\n",
       "  </thead>\n",
       "  <tbody>\n",
       "    <tr>\n",
       "      <th>197</th>\n",
       "      <td>-1.110897</td>\n",
       "      <td>-0.783796</td>\n",
       "      <td>-0.740733</td>\n",
       "      <td>-1.242303</td>\n",
       "      <td>-1.163242</td>\n",
       "      <td>-1.212694</td>\n",
       "      <td>-0.452534</td>\n",
       "      <td>-1.131233</td>\n",
       "      <td>0.133795</td>\n",
       "      <td>-0.418722</td>\n",
       "      <td>...</td>\n",
       "      <td>-1.561397</td>\n",
       "      <td>-2.482910</td>\n",
       "      <td>-1.313567</td>\n",
       "      <td>-1.638248</td>\n",
       "      <td>0.738732</td>\n",
       "      <td>1.625043</td>\n",
       "      <td>0.114122</td>\n",
       "      <td>0.951867</td>\n",
       "      <td>-0.442631</td>\n",
       "      <td>-0.003690</td>\n",
       "    </tr>\n",
       "    <tr>\n",
       "      <th>173</th>\n",
       "      <td>-0.126608</td>\n",
       "      <td>-0.138757</td>\n",
       "      <td>-0.313844</td>\n",
       "      <td>0.677869</td>\n",
       "      <td>0.055242</td>\n",
       "      <td>1.012062</td>\n",
       "      <td>1.163580</td>\n",
       "      <td>1.047987</td>\n",
       "      <td>1.476314</td>\n",
       "      <td>1.023488</td>\n",
       "      <td>...</td>\n",
       "      <td>0.976987</td>\n",
       "      <td>1.456594</td>\n",
       "      <td>2.312725</td>\n",
       "      <td>2.590555</td>\n",
       "      <td>2.198431</td>\n",
       "      <td>1.623511</td>\n",
       "      <td>1.245002</td>\n",
       "      <td>0.969153</td>\n",
       "      <td>0.090563</td>\n",
       "      <td>-0.334109</td>\n",
       "    </tr>\n",
       "    <tr>\n",
       "      <th>91</th>\n",
       "      <td>1.220829</td>\n",
       "      <td>1.152158</td>\n",
       "      <td>2.304227</td>\n",
       "      <td>1.677860</td>\n",
       "      <td>1.028816</td>\n",
       "      <td>1.287261</td>\n",
       "      <td>0.898676</td>\n",
       "      <td>0.329356</td>\n",
       "      <td>-0.270997</td>\n",
       "      <td>-0.013628</td>\n",
       "      <td>...</td>\n",
       "      <td>1.025245</td>\n",
       "      <td>0.438917</td>\n",
       "      <td>1.205298</td>\n",
       "      <td>1.388782</td>\n",
       "      <td>1.483501</td>\n",
       "      <td>0.643471</td>\n",
       "      <td>-1.208070</td>\n",
       "      <td>0.355058</td>\n",
       "      <td>1.094515</td>\n",
       "      <td>1.585643</td>\n",
       "    </tr>\n",
       "    <tr>\n",
       "      <th>32</th>\n",
       "      <td>0.360794</td>\n",
       "      <td>-0.169009</td>\n",
       "      <td>-1.001495</td>\n",
       "      <td>-1.131690</td>\n",
       "      <td>-0.244469</td>\n",
       "      <td>-0.689660</td>\n",
       "      <td>-0.310123</td>\n",
       "      <td>1.028226</td>\n",
       "      <td>2.213308</td>\n",
       "      <td>0.702918</td>\n",
       "      <td>...</td>\n",
       "      <td>0.444737</td>\n",
       "      <td>0.376687</td>\n",
       "      <td>-0.137839</td>\n",
       "      <td>-0.306592</td>\n",
       "      <td>0.468382</td>\n",
       "      <td>-0.870461</td>\n",
       "      <td>-0.757333</td>\n",
       "      <td>1.464392</td>\n",
       "      <td>0.528941</td>\n",
       "      <td>0.243400</td>\n",
       "    </tr>\n",
       "    <tr>\n",
       "      <th>115</th>\n",
       "      <td>-0.457595</td>\n",
       "      <td>0.390617</td>\n",
       "      <td>0.490665</td>\n",
       "      <td>-1.067688</td>\n",
       "      <td>-1.171305</td>\n",
       "      <td>-0.512084</td>\n",
       "      <td>-0.617741</td>\n",
       "      <td>-0.661668</td>\n",
       "      <td>-0.896942</td>\n",
       "      <td>-1.862642</td>\n",
       "      <td>...</td>\n",
       "      <td>-0.096453</td>\n",
       "      <td>-0.669618</td>\n",
       "      <td>0.289299</td>\n",
       "      <td>0.543524</td>\n",
       "      <td>1.147592</td>\n",
       "      <td>-0.127134</td>\n",
       "      <td>1.098374</td>\n",
       "      <td>-0.170330</td>\n",
       "      <td>-0.691020</td>\n",
       "      <td>-0.108611</td>\n",
       "    </tr>\n",
       "  </tbody>\n",
       "</table>\n",
       "<p>5 rows × 50 columns</p>\n",
       "</div>"
      ],
      "text/plain": [
       "                  X1        X2        X3        X4        X5        X6  \\\n",
       "Unnamed: 0                                                               \n",
       "197        -1.110897 -0.783796 -0.740733 -1.242303 -1.163242 -1.212694   \n",
       "173        -0.126608 -0.138757 -0.313844  0.677869  0.055242  1.012062   \n",
       "91          1.220829  1.152158  2.304227  1.677860  1.028816  1.287261   \n",
       "32          0.360794 -0.169009 -1.001495 -1.131690 -0.244469 -0.689660   \n",
       "115        -0.457595  0.390617  0.490665 -1.067688 -1.171305 -0.512084   \n",
       "\n",
       "                  X7        X8        X9       X10  ...       X41       X42  \\\n",
       "Unnamed: 0                                          ...                       \n",
       "197        -0.452534 -1.131233  0.133795 -0.418722  ... -1.561397 -2.482910   \n",
       "173         1.163580  1.047987  1.476314  1.023488  ...  0.976987  1.456594   \n",
       "91          0.898676  0.329356 -0.270997 -0.013628  ...  1.025245  0.438917   \n",
       "32         -0.310123  1.028226  2.213308  0.702918  ...  0.444737  0.376687   \n",
       "115        -0.617741 -0.661668 -0.896942 -1.862642  ... -0.096453 -0.669618   \n",
       "\n",
       "                 X43       X44       X45       X46       X47       X48  \\\n",
       "Unnamed: 0                                                               \n",
       "197        -1.313567 -1.638248  0.738732  1.625043  0.114122  0.951867   \n",
       "173         2.312725  2.590555  2.198431  1.623511  1.245002  0.969153   \n",
       "91          1.205298  1.388782  1.483501  0.643471 -1.208070  0.355058   \n",
       "32         -0.137839 -0.306592  0.468382 -0.870461 -0.757333  1.464392   \n",
       "115         0.289299  0.543524  1.147592 -0.127134  1.098374 -0.170330   \n",
       "\n",
       "                 X49       X50  \n",
       "Unnamed: 0                      \n",
       "197        -0.442631 -0.003690  \n",
       "173         0.090563 -0.334109  \n",
       "91          1.094515  1.585643  \n",
       "32          0.528941  0.243400  \n",
       "115        -0.691020 -0.108611  \n",
       "\n",
       "[5 rows x 50 columns]"
      ]
     },
     "execution_count": 23,
     "metadata": {},
     "output_type": "execute_result"
    }
   ],
   "source": [
    "X_trained_scaled.head()"
   ]
  },
  {
   "cell_type": "code",
   "execution_count": 24,
   "metadata": {},
   "outputs": [
    {
     "data": {
      "text/plain": [
       "140"
      ]
     },
     "execution_count": 24,
     "metadata": {},
     "output_type": "execute_result"
    }
   ],
   "source": [
    "len(X_trained_scaled)"
   ]
  },
  {
   "cell_type": "markdown",
   "metadata": {},
   "source": [
    "### Leyendo los datos del test"
   ]
  },
  {
   "cell_type": "code",
   "execution_count": 25,
   "metadata": {},
   "outputs": [],
   "source": [
    "path = 'datanew_test.csv'\n",
    "test = pd.read_csv(path, sep = ',', na_filter = False)\n",
    "test = test.drop(columns = ['Unnamed: 0']).copy()"
   ]
  },
  {
   "cell_type": "code",
   "execution_count": 26,
   "metadata": {},
   "outputs": [],
   "source": [
    "X_test = test.drop(columns = ['y']).copy()\n",
    "y_test = test[['y']].copy()"
   ]
  },
  {
   "cell_type": "code",
   "execution_count": 27,
   "metadata": {},
   "outputs": [],
   "source": [
    "X_test_scaled = standarscaler.transform(X_test)"
   ]
  },
  {
   "cell_type": "code",
   "execution_count": 28,
   "metadata": {},
   "outputs": [],
   "source": [
    "X_test_scaled = pd.DataFrame(X_test_scaled, index=X_test.index, columns=X_test.columns.values)"
   ]
  },
  {
   "cell_type": "markdown",
   "metadata": {},
   "source": [
    "### Feature selection"
   ]
  },
  {
   "cell_type": "code",
   "execution_count": 29,
   "metadata": {},
   "outputs": [],
   "source": [
    "from sklearn.datasets import make_regression\n",
    "from sklearn.ensemble import RandomForestRegressor\n",
    "from sklearn.metrics import r2_score, mean_squared_error"
   ]
  },
  {
   "cell_type": "code",
   "execution_count": 30,
   "metadata": {},
   "outputs": [],
   "source": [
    "features = [15,16,17,18,19,20,21,22,23,24,25]\n",
    "selected_features = []\n",
    "estimator = SVR(kernel=\"linear\")\n",
    "\n",
    "for i in features:\n",
    "    selector = RFE(estimator, i, step=1)\n",
    "    sel_ = selector.fit(X_trained_scaled,np.ravel(y_train))\n",
    "    selected_feat = X_trained_scaled.columns[sel_.get_support()]\n",
    "    selected_features.append(selected_feat)"
   ]
  },
  {
   "cell_type": "code",
   "execution_count": 31,
   "metadata": {},
   "outputs": [],
   "source": [
    "mse_results = {}\n",
    "\n",
    "def get_random_forest(X_train, X_test, y_train, y_test):\n",
    "    \"\"\"\n",
    "    Retorna una tupla con el error de los modelos en el conjunto train y test\n",
    "    \"\"\"\n",
    "\n",
    "    rf = RandomForestRegressor(n_estimators=200, random_state=39, max_depth=4, n_jobs=8)\n",
    "    rf.fit(X_train, y_train)\n",
    "    \n",
    "    pred = rf.predict(X_train)\n",
    "    train_mse = mean_squared_error(y_train,pred)\n",
    "    \n",
    "    pred = rf.predict(X_test)\n",
    "    test_mse = mean_squared_error(y_test,pred)\n",
    "    return train_mse, test_mse\n",
    "\n",
    "    "
   ]
  },
  {
   "cell_type": "code",
   "execution_count": 32,
   "metadata": {},
   "outputs": [
    {
     "name": "stdout",
     "output_type": "stream",
     "text": [
      "Min test mse of 9.710032064151306\n",
      "Corresponding features list is: , X2, X3, X6, X7, X11, X12, X15, X25, X29, X30, X33, X35, X38, X39, X40, X41, X42, X44, X46, X47, X48, X49\n"
     ]
    }
   ],
   "source": [
    "# evaluate performance of algorithm built using selected features\n",
    "\n",
    "min_test_mse = 1000\n",
    "features_of_min_test = None\n",
    "for feat_list in selected_features:\n",
    "    train_mse, test_mse = get_random_forest(X_trained_scaled[feat_list].fillna(0),\n",
    "                                              X_test_scaled[feat_list].fillna(0),\n",
    "                                              np.ravel(y_train), y_test)\n",
    "    if test_mse < min_test_mse:\n",
    "        min_test_mse = test_mse\n",
    "        features_of_min_test = feat_list\n",
    "\n",
    "print(f'Min test mse of {min_test_mse}')\n",
    "print('Corresponding features list is: ', *features_of_min_test, sep=', ')    "
   ]
  },
  {
   "cell_type": "markdown",
   "metadata": {},
   "source": [
    "### 1. Mutual information"
   ]
  },
  {
   "cell_type": "code",
   "execution_count": 33,
   "metadata": {},
   "outputs": [],
   "source": [
    "from sklearn.feature_selection import mutual_info_classif, mutual_info_regression\n",
    "from sklearn.feature_selection import SelectKBest, SelectPercentile"
   ]
  },
  {
   "cell_type": "code",
   "execution_count": 34,
   "metadata": {},
   "outputs": [
    {
     "data": {
      "text/plain": [
       "X23    0.154872\n",
       "X6     0.129030\n",
       "X24    0.113757\n",
       "X11    0.113483\n",
       "X17    0.103218\n",
       "X14    0.101668\n",
       "X33    0.079858\n",
       "X38    0.073649\n",
       "X13    0.054264\n",
       "X5     0.053641\n",
       "X29    0.048878\n",
       "X8     0.046084\n",
       "X36    0.045194\n",
       "X47    0.036201\n",
       "X16    0.034210\n",
       "X39    0.030193\n",
       "X37    0.029548\n",
       "X15    0.025808\n",
       "X32    0.024942\n",
       "X7     0.016846\n",
       "X12    0.015568\n",
       "X3     0.009389\n",
       "X4     0.008783\n",
       "X2     0.008598\n",
       "X18    0.000000\n",
       "X50    0.000000\n",
       "X10    0.000000\n",
       "X20    0.000000\n",
       "X9     0.000000\n",
       "X19    0.000000\n",
       "X25    0.000000\n",
       "X21    0.000000\n",
       "X40    0.000000\n",
       "X48    0.000000\n",
       "X46    0.000000\n",
       "X45    0.000000\n",
       "X44    0.000000\n",
       "X43    0.000000\n",
       "X42    0.000000\n",
       "X41    0.000000\n",
       "X35    0.000000\n",
       "X22    0.000000\n",
       "X34    0.000000\n",
       "X31    0.000000\n",
       "X30    0.000000\n",
       "X28    0.000000\n",
       "X27    0.000000\n",
       "X26    0.000000\n",
       "X49    0.000000\n",
       "X1     0.000000\n",
       "dtype: float64"
      ]
     },
     "execution_count": 34,
     "metadata": {},
     "output_type": "execute_result"
    }
   ],
   "source": [
    "# determine the mutual information\n",
    "mi = mutual_info_regression(X_train.fillna(0), np.ravel(y_train))\n",
    "mi = pd.Series(mi)\n",
    "mi.index = X_train.columns\n",
    "mi.sort_values(ascending=False)"
   ]
  },
  {
   "cell_type": "code",
   "execution_count": 35,
   "metadata": {},
   "outputs": [
    {
     "data": {
      "text/plain": [
       "<matplotlib.axes._subplots.AxesSubplot at 0x1229d5eb8>"
      ]
     },
     "execution_count": 35,
     "metadata": {},
     "output_type": "execute_result"
    }
   ],
   "source": [
    "mi.sort_values(ascending=False).plot.bar(figsize=(20,8))"
   ]
  },
  {
   "cell_type": "code",
   "execution_count": 36,
   "metadata": {},
   "outputs": [
    {
     "data": {
      "text/plain": [
       "Index(['X1', 'X2', 'X3', 'X4', 'X5', 'X6', 'X7', 'X8', 'X11', 'X12', 'X13',\n",
       "       'X14', 'X15', 'X16', 'X17', 'X23', 'X24', 'X29', 'X32', 'X33', 'X36',\n",
       "       'X37', 'X38', 'X39', 'X47'],\n",
       "      dtype='object')"
      ]
     },
     "execution_count": 36,
     "metadata": {},
     "output_type": "execute_result"
    }
   ],
   "source": [
    "# here I will select the top 10 percentile\n",
    "sel_ = SelectPercentile(mutual_info_regression, percentile=51).fit(X_train.fillna(0), np.ravel(y_train))\n",
    "X_train.columns[sel_.get_support()]"
   ]
  },
  {
   "cell_type": "markdown",
   "metadata": {},
   "source": [
    "### 2. Univariate feature selection"
   ]
  },
  {
   "cell_type": "code",
   "execution_count": 47,
   "metadata": {},
   "outputs": [],
   "source": [
    "from sklearn.feature_selection import f_classif, f_regression\n",
    "from sklearn.feature_selection import SelectKBest, SelectPercentile\n",
    "from sklearn.metrics import r2_score, mean_squared_error"
   ]
  },
  {
   "cell_type": "code",
   "execution_count": 48,
   "metadata": {},
   "outputs": [],
   "source": [
    "univariate = f_regression(X_train.fillna(0), np.ravel(y_train))\n",
    "univariate = pd.Series(univariate[1])\n",
    "univariate.index = X_train.columns\n",
    "univariate.sort_values(ascending=False, inplace=True)"
   ]
  },
  {
   "cell_type": "code",
   "execution_count": 49,
   "metadata": {},
   "outputs": [
    {
     "data": {
      "text/plain": [
       "<matplotlib.axes._subplots.AxesSubplot at 0x11ce3a518>"
      ]
     },
     "execution_count": 49,
     "metadata": {},
     "output_type": "execute_result"
    },
    {
     "data": {
      "image/png": "[encoded data removed]",
      "text/plain": [
       "<Figure size 1440x576 with 1 Axes>"
      ]
     },
     "metadata": {
      "needs_background": "light"
     },
     "output_type": "display_data"
    }
   ],
   "source": [
    "univariate.sort_values(ascending=False).plot.bar(figsize=(20,8))"
   ]
  },
  {
   "cell_type": "code",
   "execution_count": 52,
   "metadata": {},
   "outputs": [
    {
     "data": {
      "text/plain": [
       "Index(['X1', 'X4', 'X6', 'X11', 'X12', 'X13', 'X14', 'X15', 'X16', 'X17',\n",
       "       'X18', 'X19', 'X20', 'X44', 'X45', 'X46', 'X47', 'X48', 'X49', 'X50'],\n",
       "      dtype='object')"
      ]
     },
     "execution_count": 52,
     "metadata": {},
     "output_type": "execute_result"
    }
   ],
   "source": [
    "# here I will select the top 10 percentile\n",
    "sel_ = SelectPercentile(f_regression, percentile=40).fit(X_train.fillna(0), np.ravel(y_train))\n",
    "X_train.columns[sel_.get_support()]"
   ]
  },
  {
   "cell_type": "markdown",
   "metadata": {},
   "source": [
    "### 3. Step forward"
   ]
  },
  {
   "cell_type": "code",
   "execution_count": 53,
   "metadata": {},
   "outputs": [],
   "source": [
    "from sklearn.ensemble import RandomForestRegressor\n",
    "from mlxtend.feature_selection import SequentialFeatureSelector as SFS\n",
    "from sklearn.metrics import r2_score, mean_squared_error"
   ]
  },
  {
   "cell_type": "code",
   "execution_count": 54,
   "metadata": {},
   "outputs": [
    {
     "name": "stdout",
     "output_type": "stream",
     "text": [
      "correlated features:  4\n"
     ]
    }
   ],
   "source": [
    "# find and remove correlated features\n",
    "def correlation(dataset, threshold):\n",
    "    col_corr = set()  # Set of all the names of correlated columns\n",
    "    corr_matrix = dataset.corr()\n",
    "    for i in range(len(corr_matrix.columns)):\n",
    "        for j in range(i):\n",
    "            if abs(corr_matrix.iloc[i, j]) > threshold: # we are interested in absolute coeff value\n",
    "                colname = corr_matrix.columns[i]  # getting the name of column\n",
    "                col_corr.add(colname)\n",
    "    return col_corr\n",
    "\n",
    "corr_features = correlation(X_train, 0.8)\n",
    "print('correlated features: ', len(set(corr_features)) )"
   ]
  },
  {
   "cell_type": "code",
   "execution_count": 55,
   "metadata": {},
   "outputs": [
    {
     "data": {
      "text/plain": [
       "((140, 46), (60, 46))"
      ]
     },
     "execution_count": 55,
     "metadata": {},
     "output_type": "execute_result"
    }
   ],
   "source": [
    "# removed correlated  features\n",
    "X_train.drop(labels=corr_features, axis=1, inplace=True)\n",
    "X_test.drop(labels=corr_features, axis=1, inplace=True)\n",
    "\n",
    "X_train.shape, X_test.shape"
   ]
  },
  {
   "cell_type": "code",
   "execution_count": 56,
   "metadata": {},
   "outputs": [],
   "source": [
    "X_train.fillna(0, inplace=True)"
   ]
  },
  {
   "cell_type": "code",
   "execution_count": 63,
   "metadata": {},
   "outputs": [
    {
     "name": "stderr",
     "output_type": "stream",
     "text": [
      "[Parallel(n_jobs=-1)]: Using backend LokyBackend with 16 concurrent workers.\n",
      "[Parallel(n_jobs=-1)]: Done   9 tasks      | elapsed:    1.5s\n",
      "[Parallel(n_jobs=-1)]: Done  39 out of  46 | elapsed:    2.4s remaining:    0.4s\n",
      "[Parallel(n_jobs=-1)]: Done  46 out of  46 | elapsed:    2.4s finished\n",
      "\n",
      "[2019-09-29 21:05:26] Features: 1/15 -- score: -0.2257531933041565[Parallel(n_jobs=-1)]: Using backend LokyBackend with 16 concurrent workers.\n",
      "[Parallel(n_jobs=-1)]: Done   9 tasks      | elapsed:    0.5s\n",
      "[Parallel(n_jobs=-1)]: Done  37 out of  45 | elapsed:    1.4s remaining:    0.3s\n",
      "[Parallel(n_jobs=-1)]: Done  45 out of  45 | elapsed:    1.4s finished\n",
      "\n",
      "[2019-09-29 21:05:27] Features: 2/15 -- score: -0.09528014567022795[Parallel(n_jobs=-1)]: Using backend LokyBackend with 16 concurrent workers.\n",
      "[Parallel(n_jobs=-1)]: Done   9 tasks      | elapsed:    0.5s\n",
      "[Parallel(n_jobs=-1)]: Done  36 out of  44 | elapsed:    1.5s remaining:    0.3s\n",
      "[Parallel(n_jobs=-1)]: Done  44 out of  44 | elapsed:    1.5s finished\n",
      "\n",
      "[2019-09-29 21:05:29] Features: 3/15 -- score: -0.003237802727365091[Parallel(n_jobs=-1)]: Using backend LokyBackend with 16 concurrent workers.\n",
      "[Parallel(n_jobs=-1)]: Done   9 tasks      | elapsed:    0.6s\n",
      "[Parallel(n_jobs=-1)]: Done  34 out of  43 | elapsed:    1.5s remaining:    0.4s\n",
      "[Parallel(n_jobs=-1)]: Done  43 out of  43 | elapsed:    1.6s finished\n",
      "\n",
      "[2019-09-29 21:05:30] Features: 4/15 -- score: 0.0066892797514488175[Parallel(n_jobs=-1)]: Using backend LokyBackend with 16 concurrent workers.\n",
      "[Parallel(n_jobs=-1)]: Done   9 tasks      | elapsed:    0.6s\n",
      "[Parallel(n_jobs=-1)]: Done  33 out of  42 | elapsed:    1.6s remaining:    0.4s\n",
      "[Parallel(n_jobs=-1)]: Done  42 out of  42 | elapsed:    1.7s finished\n",
      "\n",
      "[2019-09-29 21:05:32] Features: 5/15 -- score: 0.03848375985808226[Parallel(n_jobs=-1)]: Using backend LokyBackend with 16 concurrent workers.\n",
      "[Parallel(n_jobs=-1)]: Done   9 tasks      | elapsed:    0.7s\n",
      "[Parallel(n_jobs=-1)]: Done  31 out of  41 | elapsed:    1.4s remaining:    0.4s\n",
      "[Parallel(n_jobs=-1)]: Done  41 out of  41 | elapsed:    1.8s finished\n",
      "\n",
      "[2019-09-29 21:05:34] Features: 6/15 -- score: 0.03473349676158024[Parallel(n_jobs=-1)]: Using backend LokyBackend with 16 concurrent workers.\n",
      "[Parallel(n_jobs=-1)]: Done   9 tasks      | elapsed:    0.7s\n",
      "[Parallel(n_jobs=-1)]: Done  30 out of  40 | elapsed:    1.4s remaining:    0.5s\n",
      "[Parallel(n_jobs=-1)]: Done  40 out of  40 | elapsed:    1.7s finished\n",
      "\n",
      "[2019-09-29 21:05:35] Features: 7/15 -- score: 0.04598358831122875[Parallel(n_jobs=-1)]: Using backend LokyBackend with 16 concurrent workers.\n",
      "[Parallel(n_jobs=-1)]: Done  28 out of  39 | elapsed:    1.4s remaining:    0.6s\n",
      "[Parallel(n_jobs=-1)]: Done  39 out of  39 | elapsed:    1.8s finished\n",
      "\n",
      "[2019-09-29 21:05:37] Features: 8/15 -- score: 0.057105547879799864[Parallel(n_jobs=-1)]: Using backend LokyBackend with 16 concurrent workers.\n",
      "[Parallel(n_jobs=-1)]: Done  27 out of  38 | elapsed:    1.4s remaining:    0.6s\n",
      "[Parallel(n_jobs=-1)]: Done  38 out of  38 | elapsed:    1.8s finished\n",
      "\n",
      "[2019-09-29 21:05:39] Features: 9/15 -- score: 0.07123425328136586[Parallel(n_jobs=-1)]: Using backend LokyBackend with 16 concurrent workers.\n",
      "[Parallel(n_jobs=-1)]: Done  25 out of  37 | elapsed:    1.5s remaining:    0.7s\n",
      "[Parallel(n_jobs=-1)]: Done  37 out of  37 | elapsed:    1.9s finished\n",
      "\n",
      "[2019-09-29 21:05:41] Features: 10/15 -- score: 0.08603265189844919[Parallel(n_jobs=-1)]: Using backend LokyBackend with 16 concurrent workers.\n",
      "[Parallel(n_jobs=-1)]: Done  24 out of  36 | elapsed:    1.5s remaining:    0.8s\n",
      "[Parallel(n_jobs=-1)]: Done  36 out of  36 | elapsed:    1.9s finished\n",
      "\n",
      "[2019-09-29 21:05:43] Features: 11/15 -- score: 0.10253627414390509[Parallel(n_jobs=-1)]: Using backend LokyBackend with 16 concurrent workers.\n",
      "[Parallel(n_jobs=-1)]: Done  22 out of  35 | elapsed:    1.5s remaining:    0.9s\n",
      "[Parallel(n_jobs=-1)]: Done  35 out of  35 | elapsed:    2.0s finished\n",
      "\n",
      "[2019-09-29 21:05:45] Features: 12/15 -- score: 0.08197088150673079[Parallel(n_jobs=-1)]: Using backend LokyBackend with 16 concurrent workers.\n",
      "[Parallel(n_jobs=-1)]: Done  21 out of  34 | elapsed:    1.5s remaining:    0.9s\n",
      "[Parallel(n_jobs=-1)]: Done  34 out of  34 | elapsed:    1.9s finished\n",
      "\n",
      "[2019-09-29 21:05:47] Features: 13/15 -- score: 0.09427846950882487[Parallel(n_jobs=-1)]: Using backend LokyBackend with 16 concurrent workers.\n",
      "[Parallel(n_jobs=-1)]: Done  19 out of  33 | elapsed:    1.5s remaining:    1.1s\n",
      "[Parallel(n_jobs=-1)]: Done  33 out of  33 | elapsed:    2.0s finished\n",
      "\n",
      "[2019-09-29 21:05:49] Features: 14/15 -- score: 0.06033990180474587[Parallel(n_jobs=-1)]: Using backend LokyBackend with 16 concurrent workers.\n",
      "[Parallel(n_jobs=-1)]: Done  18 out of  32 | elapsed:    1.5s remaining:    1.2s\n",
      "[Parallel(n_jobs=-1)]: Done  32 out of  32 | elapsed:    1.6s finished\n",
      "\n",
      "[2019-09-29 21:05:50] Features: 15/15 -- score: 0.08052329841409747[Parallel(n_jobs=-1)]: Using backend LokyBackend with 16 concurrent workers.\n",
      "[Parallel(n_jobs=-1)]: Done   9 tasks      | elapsed:    0.5s\n",
      "[Parallel(n_jobs=-1)]: Done  39 out of  46 | elapsed:    1.5s remaining:    0.3s\n",
      "[Parallel(n_jobs=-1)]: Done  46 out of  46 | elapsed:    1.6s finished\n",
      "\n",
      "[2019-09-29 21:05:52] Features: 1/16 -- score: -0.23519979746577616[Parallel(n_jobs=-1)]: Using backend LokyBackend with 16 concurrent workers.\n",
      "[Parallel(n_jobs=-1)]: Done   9 tasks      | elapsed:    0.6s\n",
      "[Parallel(n_jobs=-1)]: Done  37 out of  45 | elapsed:    1.6s remaining:    0.4s\n",
      "[Parallel(n_jobs=-1)]: Done  45 out of  45 | elapsed:    1.7s finished\n",
      "\n",
      "[2019-09-29 21:05:54] Features: 2/16 -- score: -0.09348807137418244[Parallel(n_jobs=-1)]: Using backend LokyBackend with 16 concurrent workers.\n",
      "[Parallel(n_jobs=-1)]: Done   9 tasks      | elapsed:    0.6s\n",
      "[Parallel(n_jobs=-1)]: Done  36 out of  44 | elapsed:    1.6s remaining:    0.4s\n",
      "[Parallel(n_jobs=-1)]: Done  44 out of  44 | elapsed:    1.7s finished\n",
      "\n",
      "[2019-09-29 21:05:55] Features: 3/16 -- score: -0.007416761390552607[Parallel(n_jobs=-1)]: Using backend LokyBackend with 16 concurrent workers.\n",
      "[Parallel(n_jobs=-1)]: Done   9 tasks      | elapsed:    0.6s\n",
      "[Parallel(n_jobs=-1)]: Done  34 out of  43 | elapsed:    1.6s remaining:    0.4s\n",
      "[Parallel(n_jobs=-1)]: Done  43 out of  43 | elapsed:    1.7s finished\n",
      "\n",
      "[2019-09-29 21:05:57] Features: 4/16 -- score: 0.05308785718286926[Parallel(n_jobs=-1)]: Using backend LokyBackend with 16 concurrent workers.\n",
      "[Parallel(n_jobs=-1)]: Done   9 tasks      | elapsed:    0.6s\n",
      "[Parallel(n_jobs=-1)]: Done  33 out of  42 | elapsed:    1.6s remaining:    0.4s\n",
      "[Parallel(n_jobs=-1)]: Done  42 out of  42 | elapsed:    1.7s finished\n",
      "\n",
      "[2019-09-29 21:05:59] Features: 5/16 -- score: 0.08862502973999953[Parallel(n_jobs=-1)]: Using backend LokyBackend with 16 concurrent workers.\n",
      "[Parallel(n_jobs=-1)]: Done   9 tasks      | elapsed:    0.6s\n",
      "[Parallel(n_jobs=-1)]: Done  31 out of  41 | elapsed:    1.3s remaining:    0.4s\n",
      "[Parallel(n_jobs=-1)]: Done  41 out of  41 | elapsed:    1.7s finished\n",
      "\n",
      "[2019-09-29 21:06:00] Features: 6/16 -- score: 0.09012036317051915[Parallel(n_jobs=-1)]: Using backend LokyBackend with 16 concurrent workers.\n",
      "[Parallel(n_jobs=-1)]: Done   9 tasks      | elapsed:    0.7s\n",
      "[Parallel(n_jobs=-1)]: Done  30 out of  40 | elapsed:    1.4s remaining:    0.5s\n",
      "[Parallel(n_jobs=-1)]: Done  40 out of  40 | elapsed:    1.7s finished\n",
      "\n",
      "[2019-09-29 21:06:02] Features: 7/16 -- score: 0.08848365996294574[Parallel(n_jobs=-1)]: Using backend LokyBackend with 16 concurrent workers.\n",
      "[Parallel(n_jobs=-1)]: Done  28 out of  39 | elapsed:    1.4s remaining:    0.5s\n",
      "[Parallel(n_jobs=-1)]: Done  39 out of  39 | elapsed:    1.8s finished\n",
      "\n",
      "[2019-09-29 21:06:04] Features: 8/16 -- score: 0.1138203803749718[Parallel(n_jobs=-1)]: Using backend LokyBackend with 16 concurrent workers.\n",
      "[Parallel(n_jobs=-1)]: Done  27 out of  38 | elapsed:    1.4s remaining:    0.6s\n",
      "[Parallel(n_jobs=-1)]: Done  38 out of  38 | elapsed:    1.8s finished\n",
      "\n",
      "[2019-09-29 21:06:06] Features: 9/16 -- score: 0.116808350428988[Parallel(n_jobs=-1)]: Using backend LokyBackend with 16 concurrent workers.\n",
      "[Parallel(n_jobs=-1)]: Done  25 out of  37 | elapsed:    1.5s remaining:    0.7s\n",
      "[Parallel(n_jobs=-1)]: Done  37 out of  37 | elapsed:    1.8s finished\n",
      "\n",
      "[2019-09-29 21:06:08] Features: 10/16 -- score: 0.11483641988455853[Parallel(n_jobs=-1)]: Using backend LokyBackend with 16 concurrent workers.\n"
     ]
    },
    {
     "name": "stderr",
     "output_type": "stream",
     "text": [
      "[Parallel(n_jobs=-1)]: Done  24 out of  36 | elapsed:    1.5s remaining:    0.7s\n",
      "[Parallel(n_jobs=-1)]: Done  36 out of  36 | elapsed:    1.9s finished\n",
      "\n",
      "[2019-09-29 21:06:09] Features: 11/16 -- score: 0.11500377405265585[Parallel(n_jobs=-1)]: Using backend LokyBackend with 16 concurrent workers.\n",
      "[Parallel(n_jobs=-1)]: Done  22 out of  35 | elapsed:    1.6s remaining:    0.9s\n",
      "[Parallel(n_jobs=-1)]: Done  35 out of  35 | elapsed:    2.0s finished\n",
      "\n",
      "[2019-09-29 21:06:12] Features: 12/16 -- score: 0.10879477852685562[Parallel(n_jobs=-1)]: Using backend LokyBackend with 16 concurrent workers.\n",
      "[Parallel(n_jobs=-1)]: Done  21 out of  34 | elapsed:    1.6s remaining:    1.0s\n",
      "[Parallel(n_jobs=-1)]: Done  34 out of  34 | elapsed:    2.0s finished\n",
      "\n",
      "[2019-09-29 21:06:14] Features: 13/16 -- score: 0.1196768599784938[Parallel(n_jobs=-1)]: Using backend LokyBackend with 16 concurrent workers.\n",
      "[Parallel(n_jobs=-1)]: Done  19 out of  33 | elapsed:    1.6s remaining:    1.1s\n",
      "[Parallel(n_jobs=-1)]: Done  33 out of  33 | elapsed:    2.0s finished\n",
      "\n",
      "[2019-09-29 21:06:16] Features: 14/16 -- score: 0.10492562854013716[Parallel(n_jobs=-1)]: Using backend LokyBackend with 16 concurrent workers.\n",
      "[Parallel(n_jobs=-1)]: Done  18 out of  32 | elapsed:    1.6s remaining:    1.3s\n",
      "[Parallel(n_jobs=-1)]: Done  32 out of  32 | elapsed:    1.7s finished\n",
      "\n",
      "[2019-09-29 21:06:17] Features: 15/16 -- score: 0.09719573188421618[Parallel(n_jobs=-1)]: Using backend LokyBackend with 16 concurrent workers.\n",
      "[Parallel(n_jobs=-1)]: Done  16 out of  31 | elapsed:    0.9s remaining:    0.9s\n",
      "[Parallel(n_jobs=-1)]: Done  31 out of  31 | elapsed:    1.8s finished\n",
      "\n",
      "[2019-09-29 21:06:19] Features: 16/16 -- score: 0.07240943027477502[Parallel(n_jobs=-1)]: Using backend LokyBackend with 16 concurrent workers.\n",
      "[Parallel(n_jobs=-1)]: Done   9 tasks      | elapsed:    0.6s\n",
      "[Parallel(n_jobs=-1)]: Done  39 out of  46 | elapsed:    1.6s remaining:    0.3s\n",
      "[Parallel(n_jobs=-1)]: Done  46 out of  46 | elapsed:    1.6s finished\n",
      "\n",
      "[2019-09-29 21:06:21] Features: 1/17 -- score: -0.21558110649644613[Parallel(n_jobs=-1)]: Using backend LokyBackend with 16 concurrent workers.\n",
      "[Parallel(n_jobs=-1)]: Done   9 tasks      | elapsed:    0.6s\n",
      "[Parallel(n_jobs=-1)]: Done  37 out of  45 | elapsed:    1.6s remaining:    0.4s\n",
      "[Parallel(n_jobs=-1)]: Done  45 out of  45 | elapsed:    1.7s finished\n",
      "\n",
      "[2019-09-29 21:06:22] Features: 2/17 -- score: -0.09004631041763311[Parallel(n_jobs=-1)]: Using backend LokyBackend with 16 concurrent workers.\n",
      "[Parallel(n_jobs=-1)]: Done   9 tasks      | elapsed:    0.6s\n",
      "[Parallel(n_jobs=-1)]: Done  36 out of  44 | elapsed:    1.7s remaining:    0.4s\n",
      "[Parallel(n_jobs=-1)]: Done  44 out of  44 | elapsed:    1.7s finished\n",
      "\n",
      "[2019-09-29 21:06:24] Features: 3/17 -- score: 0.0326098425326651[Parallel(n_jobs=-1)]: Using backend LokyBackend with 16 concurrent workers.\n",
      "[Parallel(n_jobs=-1)]: Done   9 tasks      | elapsed:    0.6s\n",
      "[Parallel(n_jobs=-1)]: Done  34 out of  43 | elapsed:    1.7s remaining:    0.4s\n",
      "[Parallel(n_jobs=-1)]: Done  43 out of  43 | elapsed:    1.8s finished\n",
      "\n",
      "[2019-09-29 21:06:26] Features: 4/17 -- score: 0.06910192802571698[Parallel(n_jobs=-1)]: Using backend LokyBackend with 16 concurrent workers.\n",
      "[Parallel(n_jobs=-1)]: Done   9 tasks      | elapsed:    0.6s\n",
      "[Parallel(n_jobs=-1)]: Done  33 out of  42 | elapsed:    1.6s remaining:    0.4s\n",
      "[Parallel(n_jobs=-1)]: Done  42 out of  42 | elapsed:    1.7s finished\n",
      "\n",
      "[2019-09-29 21:06:27] Features: 5/17 -- score: 0.07107331163300037[Parallel(n_jobs=-1)]: Using backend LokyBackend with 16 concurrent workers.\n",
      "[Parallel(n_jobs=-1)]: Done   9 tasks      | elapsed:    0.6s\n",
      "[Parallel(n_jobs=-1)]: Done  31 out of  41 | elapsed:    1.3s remaining:    0.4s\n",
      "[Parallel(n_jobs=-1)]: Done  41 out of  41 | elapsed:    1.7s finished\n",
      "\n",
      "[2019-09-29 21:06:29] Features: 6/17 -- score: 0.06287399511914005[Parallel(n_jobs=-1)]: Using backend LokyBackend with 16 concurrent workers.\n",
      "[Parallel(n_jobs=-1)]: Done   9 tasks      | elapsed:    0.7s\n",
      "[Parallel(n_jobs=-1)]: Done  30 out of  40 | elapsed:    1.4s remaining:    0.5s\n",
      "[Parallel(n_jobs=-1)]: Done  40 out of  40 | elapsed:    1.7s finished\n",
      "\n",
      "[2019-09-29 21:06:31] Features: 7/17 -- score: 0.07228631409919133[Parallel(n_jobs=-1)]: Using backend LokyBackend with 16 concurrent workers.\n",
      "[Parallel(n_jobs=-1)]: Done  28 out of  39 | elapsed:    1.4s remaining:    0.6s\n",
      "[Parallel(n_jobs=-1)]: Done  39 out of  39 | elapsed:    1.8s finished\n",
      "\n",
      "[2019-09-29 21:06:33] Features: 8/17 -- score: 0.07158109682945882[Parallel(n_jobs=-1)]: Using backend LokyBackend with 16 concurrent workers.\n",
      "[Parallel(n_jobs=-1)]: Done  27 out of  38 | elapsed:    1.4s remaining:    0.6s\n",
      "[Parallel(n_jobs=-1)]: Done  38 out of  38 | elapsed:    1.8s finished\n",
      "\n",
      "[2019-09-29 21:06:35] Features: 9/17 -- score: 0.06592276805025662[Parallel(n_jobs=-1)]: Using backend LokyBackend with 16 concurrent workers.\n",
      "[Parallel(n_jobs=-1)]: Done  25 out of  37 | elapsed:    1.4s remaining:    0.7s\n",
      "[Parallel(n_jobs=-1)]: Done  37 out of  37 | elapsed:    1.9s finished\n",
      "\n",
      "[2019-09-29 21:06:36] Features: 10/17 -- score: 0.07596866490178163[Parallel(n_jobs=-1)]: Using backend LokyBackend with 16 concurrent workers.\n",
      "[Parallel(n_jobs=-1)]: Done  24 out of  36 | elapsed:    1.5s remaining:    0.7s\n",
      "[Parallel(n_jobs=-1)]: Done  36 out of  36 | elapsed:    1.9s finished\n",
      "\n",
      "[2019-09-29 21:06:38] Features: 11/17 -- score: 0.09156065085685627[Parallel(n_jobs=-1)]: Using backend LokyBackend with 16 concurrent workers.\n",
      "[Parallel(n_jobs=-1)]: Done  22 out of  35 | elapsed:    1.5s remaining:    0.9s\n",
      "[Parallel(n_jobs=-1)]: Done  35 out of  35 | elapsed:    2.0s finished\n",
      "\n",
      "[2019-09-29 21:06:40] Features: 12/17 -- score: 0.08295351133432831[Parallel(n_jobs=-1)]: Using backend LokyBackend with 16 concurrent workers.\n",
      "[Parallel(n_jobs=-1)]: Done  21 out of  34 | elapsed:    1.6s remaining:    1.0s\n",
      "[Parallel(n_jobs=-1)]: Done  34 out of  34 | elapsed:    2.1s finished\n",
      "\n",
      "[2019-09-29 21:06:42] Features: 13/17 -- score: 0.08418618319313664[Parallel(n_jobs=-1)]: Using backend LokyBackend with 16 concurrent workers.\n",
      "[Parallel(n_jobs=-1)]: Done  19 out of  33 | elapsed:    1.8s remaining:    1.3s\n",
      "[Parallel(n_jobs=-1)]: Done  33 out of  33 | elapsed:    2.3s finished\n",
      "\n",
      "[2019-09-29 21:06:45] Features: 14/17 -- score: 0.10913043487489893[Parallel(n_jobs=-1)]: Using backend LokyBackend with 16 concurrent workers.\n",
      "[Parallel(n_jobs=-1)]: Done  18 out of  32 | elapsed:    1.9s remaining:    1.5s\n",
      "[Parallel(n_jobs=-1)]: Done  32 out of  32 | elapsed:    2.0s finished\n",
      "\n",
      "[2019-09-29 21:06:47] Features: 15/17 -- score: 0.09912581137056209[Parallel(n_jobs=-1)]: Using backend LokyBackend with 16 concurrent workers.\n",
      "[Parallel(n_jobs=-1)]: Done  16 out of  31 | elapsed:    1.1s remaining:    1.0s\n",
      "[Parallel(n_jobs=-1)]: Done  31 out of  31 | elapsed:    2.0s finished\n",
      "\n",
      "[2019-09-29 21:06:49] Features: 16/17 -- score: 0.08773910125155475[Parallel(n_jobs=-1)]: Using backend LokyBackend with 16 concurrent workers.\n",
      "[Parallel(n_jobs=-1)]: Done  15 out of  30 | elapsed:    1.1s remaining:    1.1s\n",
      "[Parallel(n_jobs=-1)]: Done  30 out of  30 | elapsed:    2.0s finished\n",
      "\n",
      "[2019-09-29 21:06:51] Features: 17/17 -- score: 0.09132613299746865[Parallel(n_jobs=-1)]: Using backend LokyBackend with 16 concurrent workers.\n",
      "[Parallel(n_jobs=-1)]: Done   9 tasks      | elapsed:    0.6s\n",
      "[Parallel(n_jobs=-1)]: Done  39 out of  46 | elapsed:    1.8s remaining:    0.3s\n",
      "[Parallel(n_jobs=-1)]: Done  46 out of  46 | elapsed:    1.8s finished\n",
      "\n",
      "[2019-09-29 21:06:53] Features: 1/18 -- score: -0.23525780622072726[Parallel(n_jobs=-1)]: Using backend LokyBackend with 16 concurrent workers.\n",
      "[Parallel(n_jobs=-1)]: Done   9 tasks      | elapsed:    0.7s\n",
      "[Parallel(n_jobs=-1)]: Done  37 out of  45 | elapsed:    1.9s remaining:    0.4s\n",
      "[Parallel(n_jobs=-1)]: Done  45 out of  45 | elapsed:    2.0s finished\n",
      "\n",
      "[2019-09-29 21:06:55] Features: 2/18 -- score: -0.05116074895994651[Parallel(n_jobs=-1)]: Using backend LokyBackend with 16 concurrent workers.\n",
      "[Parallel(n_jobs=-1)]: Done   9 tasks      | elapsed:    0.7s\n",
      "[Parallel(n_jobs=-1)]: Done  36 out of  44 | elapsed:    2.0s remaining:    0.4s\n",
      "[Parallel(n_jobs=-1)]: Done  44 out of  44 | elapsed:    2.0s finished\n",
      "\n",
      "[2019-09-29 21:06:57] Features: 3/18 -- score: 0.007689282990118196[Parallel(n_jobs=-1)]: Using backend LokyBackend with 16 concurrent workers.\n"
     ]
    },
    {
     "name": "stderr",
     "output_type": "stream",
     "text": [
      "[Parallel(n_jobs=-1)]: Done   9 tasks      | elapsed:    0.8s\n",
      "[Parallel(n_jobs=-1)]: Done  34 out of  43 | elapsed:    2.0s remaining:    0.5s\n",
      "[Parallel(n_jobs=-1)]: Done  43 out of  43 | elapsed:    2.1s finished\n",
      "\n",
      "[2019-09-29 21:06:59] Features: 4/18 -- score: 0.06951627590107949[Parallel(n_jobs=-1)]: Using backend LokyBackend with 16 concurrent workers.\n",
      "[Parallel(n_jobs=-1)]: Done   9 tasks      | elapsed:    0.8s\n",
      "[Parallel(n_jobs=-1)]: Done  33 out of  42 | elapsed:    2.1s remaining:    0.6s\n",
      "[Parallel(n_jobs=-1)]: Done  42 out of  42 | elapsed:    2.2s finished\n",
      "\n",
      "[2019-09-29 21:07:01] Features: 5/18 -- score: 0.07444844242107237[Parallel(n_jobs=-1)]: Using backend LokyBackend with 16 concurrent workers.\n",
      "[Parallel(n_jobs=-1)]: Done   9 tasks      | elapsed:    0.8s\n",
      "[Parallel(n_jobs=-1)]: Done  31 out of  41 | elapsed:    1.6s remaining:    0.5s\n",
      "[Parallel(n_jobs=-1)]: Done  41 out of  41 | elapsed:    2.1s finished\n",
      "\n",
      "[2019-09-29 21:07:03] Features: 6/18 -- score: 0.07651991664494187[Parallel(n_jobs=-1)]: Using backend LokyBackend with 16 concurrent workers.\n",
      "[Parallel(n_jobs=-1)]: Done   9 tasks      | elapsed:    0.8s\n",
      "[Parallel(n_jobs=-1)]: Done  30 out of  40 | elapsed:    1.7s remaining:    0.6s\n",
      "[Parallel(n_jobs=-1)]: Done  40 out of  40 | elapsed:    2.1s finished\n",
      "\n",
      "[2019-09-29 21:07:05] Features: 7/18 -- score: 0.07802743508563785[Parallel(n_jobs=-1)]: Using backend LokyBackend with 16 concurrent workers.\n",
      "[Parallel(n_jobs=-1)]: Done  28 out of  39 | elapsed:    1.7s remaining:    0.7s\n",
      "[Parallel(n_jobs=-1)]: Done  39 out of  39 | elapsed:    2.2s finished\n",
      "\n",
      "[2019-09-29 21:07:07] Features: 8/18 -- score: 0.09316526805960759[Parallel(n_jobs=-1)]: Using backend LokyBackend with 16 concurrent workers.\n",
      "[Parallel(n_jobs=-1)]: Done  27 out of  38 | elapsed:    1.8s remaining:    0.7s\n",
      "[Parallel(n_jobs=-1)]: Done  38 out of  38 | elapsed:    2.2s finished\n",
      "\n",
      "[2019-09-29 21:07:09] Features: 9/18 -- score: 0.08844060047662057[Parallel(n_jobs=-1)]: Using backend LokyBackend with 16 concurrent workers.\n",
      "[Parallel(n_jobs=-1)]: Done  25 out of  37 | elapsed:    1.8s remaining:    0.9s\n",
      "[Parallel(n_jobs=-1)]: Done  37 out of  37 | elapsed:    2.3s finished\n",
      "\n",
      "[2019-09-29 21:07:12] Features: 10/18 -- score: 0.08938877458468879[Parallel(n_jobs=-1)]: Using backend LokyBackend with 16 concurrent workers.\n",
      "[Parallel(n_jobs=-1)]: Done  24 out of  36 | elapsed:    1.8s remaining:    0.9s\n",
      "[Parallel(n_jobs=-1)]: Done  36 out of  36 | elapsed:    2.4s finished\n",
      "\n",
      "[2019-09-29 21:07:14] Features: 11/18 -- score: 0.0928931903444643[Parallel(n_jobs=-1)]: Using backend LokyBackend with 16 concurrent workers.\n",
      "[Parallel(n_jobs=-1)]: Done  22 out of  35 | elapsed:    1.9s remaining:    1.1s\n",
      "[Parallel(n_jobs=-1)]: Done  35 out of  35 | elapsed:    2.4s finished\n",
      "\n",
      "[2019-09-29 21:07:17] Features: 12/18 -- score: 0.08352678688952661[Parallel(n_jobs=-1)]: Using backend LokyBackend with 16 concurrent workers.\n",
      "[Parallel(n_jobs=-1)]: Done  21 out of  34 | elapsed:    1.9s remaining:    1.2s\n",
      "[Parallel(n_jobs=-1)]: Done  34 out of  34 | elapsed:    2.5s finished\n",
      "\n",
      "[2019-09-29 21:07:19] Features: 13/18 -- score: 0.08797217664651455[Parallel(n_jobs=-1)]: Using backend LokyBackend with 16 concurrent workers.\n",
      "[Parallel(n_jobs=-1)]: Done  19 out of  33 | elapsed:    2.0s remaining:    1.4s\n",
      "[Parallel(n_jobs=-1)]: Done  33 out of  33 | elapsed:    2.5s finished\n",
      "\n",
      "[2019-09-29 21:07:22] Features: 14/18 -- score: 0.10471300151970231[Parallel(n_jobs=-1)]: Using backend LokyBackend with 16 concurrent workers.\n",
      "[Parallel(n_jobs=-1)]: Done  18 out of  32 | elapsed:    1.9s remaining:    1.5s\n",
      "[Parallel(n_jobs=-1)]: Done  32 out of  32 | elapsed:    2.0s finished\n",
      "\n",
      "[2019-09-29 21:07:24] Features: 15/18 -- score: 0.0831739222858466[Parallel(n_jobs=-1)]: Using backend LokyBackend with 16 concurrent workers.\n",
      "[Parallel(n_jobs=-1)]: Done  16 out of  31 | elapsed:    1.1s remaining:    1.0s\n",
      "[Parallel(n_jobs=-1)]: Done  31 out of  31 | elapsed:    2.0s finished\n",
      "\n",
      "[2019-09-29 21:07:26] Features: 16/18 -- score: 0.07954113132830598[Parallel(n_jobs=-1)]: Using backend LokyBackend with 16 concurrent workers.\n",
      "[Parallel(n_jobs=-1)]: Done  15 out of  30 | elapsed:    1.1s remaining:    1.1s\n",
      "[Parallel(n_jobs=-1)]: Done  30 out of  30 | elapsed:    2.0s finished\n",
      "\n",
      "[2019-09-29 21:07:28] Features: 17/18 -- score: 0.09067949223042818[Parallel(n_jobs=-1)]: Using backend LokyBackend with 16 concurrent workers.\n",
      "[Parallel(n_jobs=-1)]: Done  13 out of  29 | elapsed:    1.1s remaining:    1.3s\n",
      "[Parallel(n_jobs=-1)]: Done  29 out of  29 | elapsed:    2.0s finished\n",
      "\n",
      "[2019-09-29 21:07:30] Features: 18/18 -- score: 0.08293505769038745[Parallel(n_jobs=-1)]: Using backend LokyBackend with 16 concurrent workers.\n",
      "[Parallel(n_jobs=-1)]: Done   9 tasks      | elapsed:    0.6s\n",
      "[Parallel(n_jobs=-1)]: Done  39 out of  46 | elapsed:    1.7s remaining:    0.3s\n",
      "[Parallel(n_jobs=-1)]: Done  46 out of  46 | elapsed:    1.7s finished\n",
      "\n",
      "[2019-09-29 21:07:31] Features: 1/19 -- score: -0.20047741614080464[Parallel(n_jobs=-1)]: Using backend LokyBackend with 16 concurrent workers.\n",
      "[Parallel(n_jobs=-1)]: Done   9 tasks      | elapsed:    0.6s\n",
      "[Parallel(n_jobs=-1)]: Done  37 out of  45 | elapsed:    1.8s remaining:    0.4s\n",
      "[Parallel(n_jobs=-1)]: Done  45 out of  45 | elapsed:    1.8s finished\n",
      "\n",
      "[2019-09-29 21:07:33] Features: 2/19 -- score: -0.0832284803835291[Parallel(n_jobs=-1)]: Using backend LokyBackend with 16 concurrent workers.\n",
      "[Parallel(n_jobs=-1)]: Done   9 tasks      | elapsed:    0.7s\n",
      "[Parallel(n_jobs=-1)]: Done  36 out of  44 | elapsed:    1.8s remaining:    0.4s\n",
      "[Parallel(n_jobs=-1)]: Done  44 out of  44 | elapsed:    1.9s finished\n",
      "\n",
      "[2019-09-29 21:07:35] Features: 3/19 -- score: 0.002301139065277691[Parallel(n_jobs=-1)]: Using backend LokyBackend with 16 concurrent workers.\n",
      "[Parallel(n_jobs=-1)]: Done   9 tasks      | elapsed:    0.7s\n",
      "[Parallel(n_jobs=-1)]: Done  34 out of  43 | elapsed:    1.9s remaining:    0.5s\n",
      "[Parallel(n_jobs=-1)]: Done  43 out of  43 | elapsed:    1.9s finished\n",
      "\n",
      "[2019-09-29 21:07:37] Features: 4/19 -- score: 0.039291478535518974[Parallel(n_jobs=-1)]: Using backend LokyBackend with 16 concurrent workers.\n",
      "[Parallel(n_jobs=-1)]: Done   9 tasks      | elapsed:    0.7s\n",
      "[Parallel(n_jobs=-1)]: Done  33 out of  42 | elapsed:    1.9s remaining:    0.5s\n",
      "[Parallel(n_jobs=-1)]: Done  42 out of  42 | elapsed:    1.9s finished\n",
      "\n",
      "[2019-09-29 21:07:39] Features: 5/19 -- score: 0.07948385583567932[Parallel(n_jobs=-1)]: Using backend LokyBackend with 16 concurrent workers.\n",
      "[Parallel(n_jobs=-1)]: Done   9 tasks      | elapsed:    0.8s\n",
      "[Parallel(n_jobs=-1)]: Done  31 out of  41 | elapsed:    1.6s remaining:    0.5s\n",
      "[Parallel(n_jobs=-1)]: Done  41 out of  41 | elapsed:    2.1s finished\n",
      "\n",
      "[2019-09-29 21:07:41] Features: 6/19 -- score: 0.09121638656973752[Parallel(n_jobs=-1)]: Using backend LokyBackend with 16 concurrent workers.\n",
      "[Parallel(n_jobs=-1)]: Done   9 tasks      | elapsed:    0.8s\n",
      "[Parallel(n_jobs=-1)]: Done  30 out of  40 | elapsed:    1.6s remaining:    0.5s\n",
      "[Parallel(n_jobs=-1)]: Done  40 out of  40 | elapsed:    2.0s finished\n",
      "\n",
      "[2019-09-29 21:07:43] Features: 7/19 -- score: 0.12870464837634438[Parallel(n_jobs=-1)]: Using backend LokyBackend with 16 concurrent workers.\n",
      "[Parallel(n_jobs=-1)]: Done  28 out of  39 | elapsed:    1.6s remaining:    0.6s\n",
      "[Parallel(n_jobs=-1)]: Done  39 out of  39 | elapsed:    2.0s finished\n",
      "\n",
      "[2019-09-29 21:07:45] Features: 8/19 -- score: 0.10387962813515417[Parallel(n_jobs=-1)]: Using backend LokyBackend with 16 concurrent workers.\n",
      "[Parallel(n_jobs=-1)]: Done  27 out of  38 | elapsed:    1.6s remaining:    0.7s\n",
      "[Parallel(n_jobs=-1)]: Done  38 out of  38 | elapsed:    2.1s finished\n",
      "\n",
      "[2019-09-29 21:07:47] Features: 9/19 -- score: 0.11679913749998543[Parallel(n_jobs=-1)]: Using backend LokyBackend with 16 concurrent workers.\n",
      "[Parallel(n_jobs=-1)]: Done  25 out of  37 | elapsed:    1.7s remaining:    0.8s\n",
      "[Parallel(n_jobs=-1)]: Done  37 out of  37 | elapsed:    2.2s finished\n",
      "\n",
      "[2019-09-29 21:07:49] Features: 10/19 -- score: 0.10834211335587884[Parallel(n_jobs=-1)]: Using backend LokyBackend with 16 concurrent workers.\n",
      "[Parallel(n_jobs=-1)]: Done  24 out of  36 | elapsed:    1.8s remaining:    0.9s\n",
      "[Parallel(n_jobs=-1)]: Done  36 out of  36 | elapsed:    2.3s finished\n",
      "\n",
      "[2019-09-29 21:07:52] Features: 11/19 -- score: 0.11235847272909646[Parallel(n_jobs=-1)]: Using backend LokyBackend with 16 concurrent workers.\n"
     ]
    },
    {
     "name": "stderr",
     "output_type": "stream",
     "text": [
      "[Parallel(n_jobs=-1)]: Done  22 out of  35 | elapsed:    1.9s remaining:    1.1s\n",
      "[Parallel(n_jobs=-1)]: Done  35 out of  35 | elapsed:    2.4s finished\n",
      "\n",
      "[2019-09-29 21:07:54] Features: 12/19 -- score: 0.11639771448731111[Parallel(n_jobs=-1)]: Using backend LokyBackend with 16 concurrent workers.\n",
      "[Parallel(n_jobs=-1)]: Done  21 out of  34 | elapsed:    2.0s remaining:    1.2s\n",
      "[Parallel(n_jobs=-1)]: Done  34 out of  34 | elapsed:    2.6s finished\n",
      "\n",
      "[2019-09-29 21:07:57] Features: 13/19 -- score: 0.11604604363991237[Parallel(n_jobs=-1)]: Using backend LokyBackend with 16 concurrent workers.\n",
      "[Parallel(n_jobs=-1)]: Done  19 out of  33 | elapsed:    2.0s remaining:    1.4s\n",
      "[Parallel(n_jobs=-1)]: Done  33 out of  33 | elapsed:    2.5s finished\n",
      "\n",
      "[2019-09-29 21:07:59] Features: 14/19 -- score: 0.09015011201310444[Parallel(n_jobs=-1)]: Using backend LokyBackend with 16 concurrent workers.\n",
      "[Parallel(n_jobs=-1)]: Done  18 out of  32 | elapsed:    2.0s remaining:    1.6s\n",
      "[Parallel(n_jobs=-1)]: Done  32 out of  32 | elapsed:    2.1s finished\n",
      "\n",
      "[2019-09-29 21:08:01] Features: 15/19 -- score: 0.08915937429112217[Parallel(n_jobs=-1)]: Using backend LokyBackend with 16 concurrent workers.\n",
      "[Parallel(n_jobs=-1)]: Done  16 out of  31 | elapsed:    1.2s remaining:    1.1s\n",
      "[Parallel(n_jobs=-1)]: Done  31 out of  31 | elapsed:    2.2s finished\n",
      "\n",
      "[2019-09-29 21:08:03] Features: 16/19 -- score: 0.0816838244924454[Parallel(n_jobs=-1)]: Using backend LokyBackend with 16 concurrent workers.\n",
      "[Parallel(n_jobs=-1)]: Done  15 out of  30 | elapsed:    1.2s remaining:    1.2s\n",
      "[Parallel(n_jobs=-1)]: Done  30 out of  30 | elapsed:    2.3s finished\n",
      "\n",
      "[2019-09-29 21:08:06] Features: 17/19 -- score: 0.07417447350559958[Parallel(n_jobs=-1)]: Using backend LokyBackend with 16 concurrent workers.\n",
      "[Parallel(n_jobs=-1)]: Done  13 out of  29 | elapsed:    1.2s remaining:    1.5s\n",
      "[Parallel(n_jobs=-1)]: Done  29 out of  29 | elapsed:    2.3s finished\n",
      "\n",
      "[2019-09-29 21:08:08] Features: 18/19 -- score: 0.07064739387238021[Parallel(n_jobs=-1)]: Using backend LokyBackend with 16 concurrent workers.\n",
      "[Parallel(n_jobs=-1)]: Done  12 out of  28 | elapsed:    1.4s remaining:    1.9s\n",
      "[Parallel(n_jobs=-1)]: Done  28 out of  28 | elapsed:    2.5s finished\n",
      "\n",
      "[2019-09-29 21:08:10] Features: 19/19 -- score: 0.07184629732981274[Parallel(n_jobs=-1)]: Using backend LokyBackend with 16 concurrent workers.\n",
      "[Parallel(n_jobs=-1)]: Done   9 tasks      | elapsed:    0.7s\n",
      "[Parallel(n_jobs=-1)]: Done  39 out of  46 | elapsed:    2.2s remaining:    0.4s\n",
      "[Parallel(n_jobs=-1)]: Done  46 out of  46 | elapsed:    2.2s finished\n",
      "\n",
      "[2019-09-29 21:08:13] Features: 1/20 -- score: -0.22296061838876238[Parallel(n_jobs=-1)]: Using backend LokyBackend with 16 concurrent workers.\n",
      "[Parallel(n_jobs=-1)]: Done   9 tasks      | elapsed:    0.8s\n",
      "[Parallel(n_jobs=-1)]: Done  37 out of  45 | elapsed:    2.2s remaining:    0.5s\n",
      "[Parallel(n_jobs=-1)]: Done  45 out of  45 | elapsed:    2.3s finished\n",
      "\n",
      "[2019-09-29 21:08:15] Features: 2/20 -- score: -0.09490043561541628[Parallel(n_jobs=-1)]: Using backend LokyBackend with 16 concurrent workers.\n",
      "[Parallel(n_jobs=-1)]: Done   9 tasks      | elapsed:    0.9s\n",
      "[Parallel(n_jobs=-1)]: Done  36 out of  44 | elapsed:    2.4s remaining:    0.5s\n",
      "[Parallel(n_jobs=-1)]: Done  44 out of  44 | elapsed:    2.5s finished\n",
      "\n",
      "[2019-09-29 21:08:17] Features: 3/20 -- score: -0.00904760183243052[Parallel(n_jobs=-1)]: Using backend LokyBackend with 16 concurrent workers.\n",
      "[Parallel(n_jobs=-1)]: Done   9 tasks      | elapsed:    0.8s\n",
      "[Parallel(n_jobs=-1)]: Done  34 out of  43 | elapsed:    2.4s remaining:    0.6s\n",
      "[Parallel(n_jobs=-1)]: Done  43 out of  43 | elapsed:    2.4s finished\n",
      "\n",
      "[2019-09-29 21:08:20] Features: 4/20 -- score: 0.040017924101388026[Parallel(n_jobs=-1)]: Using backend LokyBackend with 16 concurrent workers.\n",
      "[Parallel(n_jobs=-1)]: Done   9 tasks      | elapsed:    0.9s\n",
      "[Parallel(n_jobs=-1)]: Done  33 out of  42 | elapsed:    2.3s remaining:    0.6s\n",
      "[Parallel(n_jobs=-1)]: Done  42 out of  42 | elapsed:    2.3s finished\n",
      "\n",
      "[2019-09-29 21:08:22] Features: 5/20 -- score: 0.03570495728908276[Parallel(n_jobs=-1)]: Using backend LokyBackend with 16 concurrent workers.\n",
      "[Parallel(n_jobs=-1)]: Done   9 tasks      | elapsed:    0.9s\n",
      "[Parallel(n_jobs=-1)]: Done  31 out of  41 | elapsed:    1.8s remaining:    0.6s\n",
      "[Parallel(n_jobs=-1)]: Done  41 out of  41 | elapsed:    2.3s finished\n",
      "\n",
      "[2019-09-29 21:08:24] Features: 6/20 -- score: 0.04522720551738648[Parallel(n_jobs=-1)]: Using backend LokyBackend with 16 concurrent workers.\n",
      "[Parallel(n_jobs=-1)]: Done   9 tasks      | elapsed:    0.9s\n",
      "[Parallel(n_jobs=-1)]: Done  30 out of  40 | elapsed:    1.8s remaining:    0.6s\n",
      "[Parallel(n_jobs=-1)]: Done  40 out of  40 | elapsed:    2.3s finished\n",
      "\n",
      "[2019-09-29 21:08:27] Features: 7/20 -- score: 0.030969994689295822[Parallel(n_jobs=-1)]: Using backend LokyBackend with 16 concurrent workers.\n",
      "[Parallel(n_jobs=-1)]: Done  28 out of  39 | elapsed:    1.8s remaining:    0.7s\n",
      "[Parallel(n_jobs=-1)]: Done  39 out of  39 | elapsed:    2.2s finished\n",
      "\n",
      "[2019-09-29 21:08:29] Features: 8/20 -- score: 0.048185837697215475[Parallel(n_jobs=-1)]: Using backend LokyBackend with 16 concurrent workers.\n",
      "[Parallel(n_jobs=-1)]: Done  27 out of  38 | elapsed:    1.8s remaining:    0.7s\n",
      "[Parallel(n_jobs=-1)]: Done  38 out of  38 | elapsed:    2.2s finished\n",
      "\n",
      "[2019-09-29 21:08:31] Features: 9/20 -- score: 0.05460795519767112[Parallel(n_jobs=-1)]: Using backend LokyBackend with 16 concurrent workers.\n",
      "[Parallel(n_jobs=-1)]: Done  25 out of  37 | elapsed:    1.8s remaining:    0.8s\n",
      "[Parallel(n_jobs=-1)]: Done  37 out of  37 | elapsed:    2.2s finished\n",
      "\n",
      "[2019-09-29 21:08:33] Features: 10/20 -- score: 0.08302667943694031[Parallel(n_jobs=-1)]: Using backend LokyBackend with 16 concurrent workers.\n",
      "[Parallel(n_jobs=-1)]: Done  24 out of  36 | elapsed:    1.8s remaining:    0.9s\n",
      "[Parallel(n_jobs=-1)]: Done  36 out of  36 | elapsed:    2.3s finished\n",
      "\n",
      "[2019-09-29 21:08:36] Features: 11/20 -- score: 0.10744773802758115[Parallel(n_jobs=-1)]: Using backend LokyBackend with 16 concurrent workers.\n",
      "[Parallel(n_jobs=-1)]: Done  22 out of  35 | elapsed:    1.8s remaining:    1.1s\n",
      "[Parallel(n_jobs=-1)]: Done  35 out of  35 | elapsed:    2.3s finished\n",
      "\n",
      "[2019-09-29 21:08:38] Features: 12/20 -- score: 0.11284228939956165[Parallel(n_jobs=-1)]: Using backend LokyBackend with 16 concurrent workers.\n",
      "[Parallel(n_jobs=-1)]: Done  21 out of  34 | elapsed:    1.8s remaining:    1.1s\n",
      "[Parallel(n_jobs=-1)]: Done  34 out of  34 | elapsed:    2.3s finished\n",
      "\n",
      "[2019-09-29 21:08:40] Features: 13/20 -- score: 0.11313157190361034[Parallel(n_jobs=-1)]: Using backend LokyBackend with 16 concurrent workers.\n",
      "[Parallel(n_jobs=-1)]: Done  19 out of  33 | elapsed:    1.7s remaining:    1.3s\n",
      "[Parallel(n_jobs=-1)]: Done  33 out of  33 | elapsed:    2.3s finished\n",
      "\n",
      "[2019-09-29 21:08:43] Features: 14/20 -- score: 0.09760096759259396[Parallel(n_jobs=-1)]: Using backend LokyBackend with 16 concurrent workers.\n",
      "[Parallel(n_jobs=-1)]: Done  18 out of  32 | elapsed:    1.8s remaining:    1.4s\n",
      "[Parallel(n_jobs=-1)]: Done  32 out of  32 | elapsed:    2.0s finished\n",
      "\n",
      "[2019-09-29 21:08:45] Features: 15/20 -- score: 0.1037729719472003[Parallel(n_jobs=-1)]: Using backend LokyBackend with 16 concurrent workers.\n",
      "[Parallel(n_jobs=-1)]: Done  16 out of  31 | elapsed:    1.0s remaining:    1.0s\n",
      "[Parallel(n_jobs=-1)]: Done  31 out of  31 | elapsed:    1.9s finished\n",
      "\n",
      "[2019-09-29 21:08:47] Features: 16/20 -- score: 0.07534443981418026[Parallel(n_jobs=-1)]: Using backend LokyBackend with 16 concurrent workers.\n",
      "[Parallel(n_jobs=-1)]: Done  15 out of  30 | elapsed:    1.1s remaining:    1.1s\n",
      "[Parallel(n_jobs=-1)]: Done  30 out of  30 | elapsed:    2.1s finished\n",
      "\n",
      "[2019-09-29 21:08:49] Features: 17/20 -- score: 0.09365418516237085[Parallel(n_jobs=-1)]: Using backend LokyBackend with 16 concurrent workers.\n",
      "[Parallel(n_jobs=-1)]: Done  13 out of  29 | elapsed:    1.1s remaining:    1.4s\n",
      "[Parallel(n_jobs=-1)]: Done  29 out of  29 | elapsed:    2.1s finished\n",
      "\n",
      "[2019-09-29 21:08:51] Features: 18/20 -- score: 0.08692882434811955[Parallel(n_jobs=-1)]: Using backend LokyBackend with 16 concurrent workers.\n",
      "[Parallel(n_jobs=-1)]: Done  12 out of  28 | elapsed:    1.2s remaining:    1.6s\n"
     ]
    },
    {
     "name": "stderr",
     "output_type": "stream",
     "text": [
      "[Parallel(n_jobs=-1)]: Done  28 out of  28 | elapsed:    2.2s finished\n",
      "\n",
      "[2019-09-29 21:08:53] Features: 19/20 -- score: 0.07222708410045305[Parallel(n_jobs=-1)]: Using backend LokyBackend with 16 concurrent workers.\n",
      "[Parallel(n_jobs=-1)]: Done  10 out of  27 | elapsed:    1.2s remaining:    2.1s\n",
      "[Parallel(n_jobs=-1)]: Done  24 out of  27 | elapsed:    2.1s remaining:    0.3s\n",
      "[Parallel(n_jobs=-1)]: Done  27 out of  27 | elapsed:    2.2s finished\n",
      "\n",
      "[2019-09-29 21:08:55] Features: 20/20 -- score: 0.08310669356094899[Parallel(n_jobs=-1)]: Using backend LokyBackend with 16 concurrent workers.\n",
      "[Parallel(n_jobs=-1)]: Done   9 tasks      | elapsed:    0.7s\n",
      "[Parallel(n_jobs=-1)]: Done  39 out of  46 | elapsed:    1.9s remaining:    0.3s\n",
      "[Parallel(n_jobs=-1)]: Done  46 out of  46 | elapsed:    1.9s finished\n",
      "\n",
      "[2019-09-29 21:08:57] Features: 1/21 -- score: -0.20871277282633657[Parallel(n_jobs=-1)]: Using backend LokyBackend with 16 concurrent workers.\n",
      "[Parallel(n_jobs=-1)]: Done   9 tasks      | elapsed:    0.7s\n",
      "[Parallel(n_jobs=-1)]: Done  37 out of  45 | elapsed:    1.9s remaining:    0.4s\n",
      "[Parallel(n_jobs=-1)]: Done  45 out of  45 | elapsed:    1.9s finished\n",
      "\n",
      "[2019-09-29 21:08:59] Features: 2/21 -- score: -0.06843799371436246[Parallel(n_jobs=-1)]: Using backend LokyBackend with 16 concurrent workers.\n",
      "[Parallel(n_jobs=-1)]: Done   9 tasks      | elapsed:    0.7s\n",
      "[Parallel(n_jobs=-1)]: Done  36 out of  44 | elapsed:    2.0s remaining:    0.4s\n",
      "[Parallel(n_jobs=-1)]: Done  44 out of  44 | elapsed:    2.0s finished\n",
      "\n",
      "[2019-09-29 21:09:01] Features: 3/21 -- score: 0.040837327276022496[Parallel(n_jobs=-1)]: Using backend LokyBackend with 16 concurrent workers.\n",
      "[Parallel(n_jobs=-1)]: Done   9 tasks      | elapsed:    0.8s\n",
      "[Parallel(n_jobs=-1)]: Done  34 out of  43 | elapsed:    2.0s remaining:    0.5s\n",
      "[Parallel(n_jobs=-1)]: Done  43 out of  43 | elapsed:    2.0s finished\n",
      "\n",
      "[2019-09-29 21:09:03] Features: 4/21 -- score: 0.06884170107189061[Parallel(n_jobs=-1)]: Using backend LokyBackend with 16 concurrent workers.\n",
      "[Parallel(n_jobs=-1)]: Done   9 tasks      | elapsed:    0.8s\n",
      "[Parallel(n_jobs=-1)]: Done  33 out of  42 | elapsed:    2.0s remaining:    0.6s\n",
      "[Parallel(n_jobs=-1)]: Done  42 out of  42 | elapsed:    2.1s finished\n",
      "\n",
      "[2019-09-29 21:09:05] Features: 5/21 -- score: 0.08421424493345317[Parallel(n_jobs=-1)]: Using backend LokyBackend with 16 concurrent workers.\n",
      "[Parallel(n_jobs=-1)]: Done   9 tasks      | elapsed:    0.8s\n",
      "[Parallel(n_jobs=-1)]: Done  31 out of  41 | elapsed:    1.6s remaining:    0.5s\n",
      "[Parallel(n_jobs=-1)]: Done  41 out of  41 | elapsed:    2.0s finished\n",
      "\n",
      "[2019-09-29 21:09:07] Features: 6/21 -- score: 0.08781772870566387[Parallel(n_jobs=-1)]: Using backend LokyBackend with 16 concurrent workers.\n",
      "[Parallel(n_jobs=-1)]: Done   9 tasks      | elapsed:    0.8s\n",
      "[Parallel(n_jobs=-1)]: Done  30 out of  40 | elapsed:    1.6s remaining:    0.5s\n",
      "[Parallel(n_jobs=-1)]: Done  40 out of  40 | elapsed:    2.1s finished\n",
      "\n",
      "[2019-09-29 21:09:09] Features: 7/21 -- score: 0.10000328991040505[Parallel(n_jobs=-1)]: Using backend LokyBackend with 16 concurrent workers.\n",
      "[Parallel(n_jobs=-1)]: Done  28 out of  39 | elapsed:    1.6s remaining:    0.6s\n",
      "[Parallel(n_jobs=-1)]: Done  39 out of  39 | elapsed:    2.1s finished\n",
      "\n",
      "[2019-09-29 21:09:11] Features: 8/21 -- score: 0.11195684162749524[Parallel(n_jobs=-1)]: Using backend LokyBackend with 16 concurrent workers.\n",
      "[Parallel(n_jobs=-1)]: Done  27 out of  38 | elapsed:    1.7s remaining:    0.7s\n",
      "[Parallel(n_jobs=-1)]: Done  38 out of  38 | elapsed:    2.2s finished\n",
      "\n",
      "[2019-09-29 21:09:13] Features: 9/21 -- score: 0.10943512712109091[Parallel(n_jobs=-1)]: Using backend LokyBackend with 16 concurrent workers.\n",
      "[Parallel(n_jobs=-1)]: Done  25 out of  37 | elapsed:    1.9s remaining:    0.9s\n",
      "[Parallel(n_jobs=-1)]: Done  37 out of  37 | elapsed:    2.4s finished\n",
      "\n",
      "[2019-09-29 21:09:16] Features: 10/21 -- score: 0.11825249755390455[Parallel(n_jobs=-1)]: Using backend LokyBackend with 16 concurrent workers.\n",
      "[Parallel(n_jobs=-1)]: Done  24 out of  36 | elapsed:    1.8s remaining:    0.9s\n",
      "[Parallel(n_jobs=-1)]: Done  36 out of  36 | elapsed:    2.3s finished\n",
      "\n",
      "[2019-09-29 21:09:18] Features: 11/21 -- score: 0.12212100857348666[Parallel(n_jobs=-1)]: Using backend LokyBackend with 16 concurrent workers.\n",
      "[Parallel(n_jobs=-1)]: Done  22 out of  35 | elapsed:    1.8s remaining:    1.1s\n",
      "[Parallel(n_jobs=-1)]: Done  35 out of  35 | elapsed:    2.4s finished\n",
      "\n",
      "[2019-09-29 21:09:21] Features: 12/21 -- score: 0.11020802520491586[Parallel(n_jobs=-1)]: Using backend LokyBackend with 16 concurrent workers.\n",
      "[Parallel(n_jobs=-1)]: Done  21 out of  34 | elapsed:    2.0s remaining:    1.2s\n",
      "[Parallel(n_jobs=-1)]: Done  34 out of  34 | elapsed:    2.5s finished\n",
      "\n",
      "[2019-09-29 21:09:23] Features: 13/21 -- score: 0.10602932351695016[Parallel(n_jobs=-1)]: Using backend LokyBackend with 16 concurrent workers.\n",
      "[Parallel(n_jobs=-1)]: Done  19 out of  33 | elapsed:    1.9s remaining:    1.4s\n",
      "[Parallel(n_jobs=-1)]: Done  33 out of  33 | elapsed:    2.5s finished\n",
      "\n",
      "[2019-09-29 21:09:26] Features: 14/21 -- score: 0.11517041093782736[Parallel(n_jobs=-1)]: Using backend LokyBackend with 16 concurrent workers.\n",
      "[Parallel(n_jobs=-1)]: Done  18 out of  32 | elapsed:    1.9s remaining:    1.5s\n",
      "[Parallel(n_jobs=-1)]: Done  32 out of  32 | elapsed:    2.0s finished\n",
      "\n",
      "[2019-09-29 21:09:28] Features: 15/21 -- score: 0.10818162291111011[Parallel(n_jobs=-1)]: Using backend LokyBackend with 16 concurrent workers.\n",
      "[Parallel(n_jobs=-1)]: Done  16 out of  31 | elapsed:    1.1s remaining:    1.0s\n",
      "[Parallel(n_jobs=-1)]: Done  31 out of  31 | elapsed:    2.0s finished\n",
      "\n",
      "[2019-09-29 21:09:30] Features: 16/21 -- score: 0.10744480503471796[Parallel(n_jobs=-1)]: Using backend LokyBackend with 16 concurrent workers.\n",
      "[Parallel(n_jobs=-1)]: Done  15 out of  30 | elapsed:    1.1s remaining:    1.1s\n",
      "[Parallel(n_jobs=-1)]: Done  30 out of  30 | elapsed:    2.0s finished\n",
      "\n",
      "[2019-09-29 21:09:32] Features: 17/21 -- score: 0.09457479305547542[Parallel(n_jobs=-1)]: Using backend LokyBackend with 16 concurrent workers.\n",
      "[Parallel(n_jobs=-1)]: Done  13 out of  29 | elapsed:    1.1s remaining:    1.4s\n",
      "[Parallel(n_jobs=-1)]: Done  29 out of  29 | elapsed:    2.0s finished\n",
      "\n",
      "[2019-09-29 21:09:34] Features: 18/21 -- score: 0.09521361114753527[Parallel(n_jobs=-1)]: Using backend LokyBackend with 16 concurrent workers.\n",
      "[Parallel(n_jobs=-1)]: Done  12 out of  28 | elapsed:    1.1s remaining:    1.5s\n",
      "[Parallel(n_jobs=-1)]: Done  28 out of  28 | elapsed:    2.0s finished\n",
      "\n",
      "[2019-09-29 21:09:36] Features: 19/21 -- score: 0.09083524575437266[Parallel(n_jobs=-1)]: Using backend LokyBackend with 16 concurrent workers.\n",
      "[Parallel(n_jobs=-1)]: Done  10 out of  27 | elapsed:    1.1s remaining:    1.9s\n",
      "[Parallel(n_jobs=-1)]: Done  24 out of  27 | elapsed:    2.0s remaining:    0.2s\n",
      "[Parallel(n_jobs=-1)]: Done  27 out of  27 | elapsed:    2.0s finished\n",
      "\n",
      "[2019-09-29 21:09:38] Features: 20/21 -- score: 0.08763979737366472[Parallel(n_jobs=-1)]: Using backend LokyBackend with 16 concurrent workers.\n",
      "[Parallel(n_jobs=-1)]: Done   9 out of  26 | elapsed:    1.1s remaining:    2.1s\n",
      "[Parallel(n_jobs=-1)]: Done  23 out of  26 | elapsed:    2.0s remaining:    0.3s\n",
      "[Parallel(n_jobs=-1)]: Done  26 out of  26 | elapsed:    2.1s finished\n",
      "\n",
      "[2019-09-29 21:09:40] Features: 21/21 -- score: 0.09589571249712234[Parallel(n_jobs=-1)]: Using backend LokyBackend with 16 concurrent workers.\n",
      "[Parallel(n_jobs=-1)]: Done   9 tasks      | elapsed:    0.6s\n",
      "[Parallel(n_jobs=-1)]: Done  39 out of  46 | elapsed:    1.8s remaining:    0.3s\n",
      "[Parallel(n_jobs=-1)]: Done  46 out of  46 | elapsed:    1.9s finished\n",
      "\n",
      "[2019-09-29 21:09:42] Features: 1/22 -- score: -0.22164913813765885[Parallel(n_jobs=-1)]: Using backend LokyBackend with 16 concurrent workers.\n",
      "[Parallel(n_jobs=-1)]: Done   9 tasks      | elapsed:    0.7s\n",
      "[Parallel(n_jobs=-1)]: Done  37 out of  45 | elapsed:    1.9s remaining:    0.4s\n",
      "[Parallel(n_jobs=-1)]: Done  45 out of  45 | elapsed:    1.9s finished\n",
      "\n",
      "[2019-09-29 21:09:44] Features: 2/22 -- score: -0.08597528141203052[Parallel(n_jobs=-1)]: Using backend LokyBackend with 16 concurrent workers.\n",
      "[Parallel(n_jobs=-1)]: Done   9 tasks      | elapsed:    0.7s\n"
     ]
    },
    {
     "name": "stderr",
     "output_type": "stream",
     "text": [
      "[Parallel(n_jobs=-1)]: Done  36 out of  44 | elapsed:    1.9s remaining:    0.4s\n",
      "[Parallel(n_jobs=-1)]: Done  44 out of  44 | elapsed:    2.0s finished\n",
      "\n",
      "[2019-09-29 21:09:46] Features: 3/22 -- score: 0.011155430868562966[Parallel(n_jobs=-1)]: Using backend LokyBackend with 16 concurrent workers.\n",
      "[Parallel(n_jobs=-1)]: Done   9 tasks      | elapsed:    0.7s\n",
      "[Parallel(n_jobs=-1)]: Done  34 out of  43 | elapsed:    1.9s remaining:    0.5s\n",
      "[Parallel(n_jobs=-1)]: Done  43 out of  43 | elapsed:    2.0s finished\n",
      "\n",
      "[2019-09-29 21:09:48] Features: 4/22 -- score: 0.05810004792543919[Parallel(n_jobs=-1)]: Using backend LokyBackend with 16 concurrent workers.\n",
      "[Parallel(n_jobs=-1)]: Done   9 tasks      | elapsed:    0.8s\n",
      "[Parallel(n_jobs=-1)]: Done  33 out of  42 | elapsed:    2.0s remaining:    0.6s\n",
      "[Parallel(n_jobs=-1)]: Done  42 out of  42 | elapsed:    2.2s finished\n",
      "\n",
      "[2019-09-29 21:09:50] Features: 5/22 -- score: 0.07458392088826413[Parallel(n_jobs=-1)]: Using backend LokyBackend with 16 concurrent workers.\n",
      "[Parallel(n_jobs=-1)]: Done   9 tasks      | elapsed:    0.8s\n",
      "[Parallel(n_jobs=-1)]: Done  31 out of  41 | elapsed:    1.6s remaining:    0.5s\n",
      "[Parallel(n_jobs=-1)]: Done  41 out of  41 | elapsed:    2.2s finished\n",
      "\n",
      "[2019-09-29 21:09:52] Features: 6/22 -- score: 0.07458957388197418[Parallel(n_jobs=-1)]: Using backend LokyBackend with 16 concurrent workers.\n",
      "[Parallel(n_jobs=-1)]: Done   9 tasks      | elapsed:    0.9s\n",
      "[Parallel(n_jobs=-1)]: Done  30 out of  40 | elapsed:    1.7s remaining:    0.6s\n",
      "[Parallel(n_jobs=-1)]: Done  40 out of  40 | elapsed:    2.2s finished\n",
      "\n",
      "[2019-09-29 21:09:54] Features: 7/22 -- score: 0.07983656702415738[Parallel(n_jobs=-1)]: Using backend LokyBackend with 16 concurrent workers.\n",
      "[Parallel(n_jobs=-1)]: Done  28 out of  39 | elapsed:    1.7s remaining:    0.7s\n",
      "[Parallel(n_jobs=-1)]: Done  39 out of  39 | elapsed:    2.2s finished\n",
      "\n",
      "[2019-09-29 21:09:56] Features: 8/22 -- score: 0.07565061461942268[Parallel(n_jobs=-1)]: Using backend LokyBackend with 16 concurrent workers.\n",
      "[Parallel(n_jobs=-1)]: Done  27 out of  38 | elapsed:    1.7s remaining:    0.7s\n",
      "[Parallel(n_jobs=-1)]: Done  38 out of  38 | elapsed:    2.1s finished\n",
      "\n",
      "[2019-09-29 21:09:58] Features: 9/22 -- score: 0.09727528372355398[Parallel(n_jobs=-1)]: Using backend LokyBackend with 16 concurrent workers.\n",
      "[Parallel(n_jobs=-1)]: Done  25 out of  37 | elapsed:    1.6s remaining:    0.8s\n",
      "[Parallel(n_jobs=-1)]: Done  37 out of  37 | elapsed:    2.1s finished\n",
      "\n",
      "[2019-09-29 21:10:01] Features: 10/22 -- score: 0.06348863031122601[Parallel(n_jobs=-1)]: Using backend LokyBackend with 16 concurrent workers.\n",
      "[Parallel(n_jobs=-1)]: Done  24 out of  36 | elapsed:    1.7s remaining:    0.8s\n",
      "[Parallel(n_jobs=-1)]: Done  36 out of  36 | elapsed:    2.2s finished\n",
      "\n",
      "[2019-09-29 21:10:03] Features: 11/22 -- score: 0.06999511455871905[Parallel(n_jobs=-1)]: Using backend LokyBackend with 16 concurrent workers.\n",
      "[Parallel(n_jobs=-1)]: Done  22 out of  35 | elapsed:    1.8s remaining:    1.1s\n",
      "[Parallel(n_jobs=-1)]: Done  35 out of  35 | elapsed:    2.3s finished\n",
      "\n",
      "[2019-09-29 21:10:05] Features: 12/22 -- score: 0.1094453298753886[Parallel(n_jobs=-1)]: Using backend LokyBackend with 16 concurrent workers.\n",
      "[Parallel(n_jobs=-1)]: Done  21 out of  34 | elapsed:    1.8s remaining:    1.1s\n",
      "[Parallel(n_jobs=-1)]: Done  34 out of  34 | elapsed:    2.3s finished\n",
      "\n",
      "[2019-09-29 21:10:07] Features: 13/22 -- score: 0.10421039153262997[Parallel(n_jobs=-1)]: Using backend LokyBackend with 16 concurrent workers.\n",
      "[Parallel(n_jobs=-1)]: Done  19 out of  33 | elapsed:    1.8s remaining:    1.3s\n",
      "[Parallel(n_jobs=-1)]: Done  33 out of  33 | elapsed:    2.3s finished\n",
      "\n",
      "[2019-09-29 21:10:10] Features: 14/22 -- score: 0.06825915804574981[Parallel(n_jobs=-1)]: Using backend LokyBackend with 16 concurrent workers.\n",
      "[Parallel(n_jobs=-1)]: Done  18 out of  32 | elapsed:    1.8s remaining:    1.4s\n",
      "[Parallel(n_jobs=-1)]: Done  32 out of  32 | elapsed:    1.9s finished\n",
      "\n",
      "[2019-09-29 21:10:12] Features: 15/22 -- score: 0.10680041514568243[Parallel(n_jobs=-1)]: Using backend LokyBackend with 16 concurrent workers.\n",
      "[Parallel(n_jobs=-1)]: Done  16 out of  31 | elapsed:    1.0s remaining:    0.9s\n",
      "[Parallel(n_jobs=-1)]: Done  31 out of  31 | elapsed:    1.9s finished\n",
      "\n",
      "[2019-09-29 21:10:13] Features: 16/22 -- score: 0.09664660828250923[Parallel(n_jobs=-1)]: Using backend LokyBackend with 16 concurrent workers.\n",
      "[Parallel(n_jobs=-1)]: Done  15 out of  30 | elapsed:    1.0s remaining:    1.0s\n",
      "[Parallel(n_jobs=-1)]: Done  30 out of  30 | elapsed:    1.9s finished\n",
      "\n",
      "[2019-09-29 21:10:15] Features: 17/22 -- score: 0.09402108754053211[Parallel(n_jobs=-1)]: Using backend LokyBackend with 16 concurrent workers.\n",
      "[Parallel(n_jobs=-1)]: Done  13 out of  29 | elapsed:    1.1s remaining:    1.3s\n",
      "[Parallel(n_jobs=-1)]: Done  29 out of  29 | elapsed:    1.9s finished\n",
      "\n",
      "[2019-09-29 21:10:17] Features: 18/22 -- score: 0.07651349579682029[Parallel(n_jobs=-1)]: Using backend LokyBackend with 16 concurrent workers.\n",
      "[Parallel(n_jobs=-1)]: Done  12 out of  28 | elapsed:    1.1s remaining:    1.5s\n",
      "[Parallel(n_jobs=-1)]: Done  28 out of  28 | elapsed:    2.0s finished\n",
      "\n",
      "[2019-09-29 21:10:19] Features: 19/22 -- score: 0.09540233294846348[Parallel(n_jobs=-1)]: Using backend LokyBackend with 16 concurrent workers.\n",
      "[Parallel(n_jobs=-1)]: Done  10 out of  27 | elapsed:    1.1s remaining:    1.9s\n",
      "[Parallel(n_jobs=-1)]: Done  24 out of  27 | elapsed:    2.0s remaining:    0.2s\n",
      "[Parallel(n_jobs=-1)]: Done  27 out of  27 | elapsed:    2.0s finished\n",
      "\n",
      "[2019-09-29 21:10:21] Features: 20/22 -- score: 0.08600153714804612[Parallel(n_jobs=-1)]: Using backend LokyBackend with 16 concurrent workers.\n",
      "[Parallel(n_jobs=-1)]: Done   9 out of  26 | elapsed:    1.2s remaining:    2.2s\n",
      "[Parallel(n_jobs=-1)]: Done  23 out of  26 | elapsed:    1.9s remaining:    0.3s\n",
      "[Parallel(n_jobs=-1)]: Done  26 out of  26 | elapsed:    2.0s finished\n",
      "\n",
      "[2019-09-29 21:10:23] Features: 21/22 -- score: 0.0870224646687183[Parallel(n_jobs=-1)]: Using backend LokyBackend with 16 concurrent workers.\n",
      "[Parallel(n_jobs=-1)]: Done   7 out of  25 | elapsed:    1.2s remaining:    3.0s\n",
      "[Parallel(n_jobs=-1)]: Done  20 out of  25 | elapsed:    1.9s remaining:    0.5s\n",
      "[Parallel(n_jobs=-1)]: Done  25 out of  25 | elapsed:    2.0s finished\n",
      "\n",
      "[2019-09-29 21:10:25] Features: 22/22 -- score: 0.08917729722489756"
     ]
    }
   ],
   "source": [
    "# step forward feature selection\n",
    "\n",
    "from mlxtend.feature_selection import SequentialFeatureSelector as SFS\n",
    "features = [15, 16,17,18, 19, 20, 21, 22]\n",
    "selected_features= []\n",
    "for i in features:\n",
    "\n",
    "    sfs1 = SFS(RandomForestRegressor(n_estimators = 100), \n",
    "           n_jobs = -1,\n",
    "           k_features = i, \n",
    "           forward=True, \n",
    "           floating=False, \n",
    "           verbose=2,\n",
    "           scoring='r2',\n",
    "           cv=5)\n",
    "\n",
    "    sfs1 = sfs1.fit(np.array(X_train), np.ravel(y_train))\n",
    "    selected_feat= X_train.columns[list(sfs1.k_feature_idx_)]\n",
    "    selected_features.append(selected_feat)"
   ]
  },
  {
   "cell_type": "code",
   "execution_count": 64,
   "metadata": {},
   "outputs": [
    {
     "name": "stdout",
     "output_type": "stream",
     "text": [
      "Min test mse of 8.630954706124164\n",
      "Corresponding features list is: , X3, X6, X7, X8, X11, X12, X18, X19, X23, X34, X36, X38, X39, X45, X49\n"
     ]
    }
   ],
   "source": [
    "# evaluate performance of algorithm built using selected features\n",
    "\n",
    "min_test_mse = 1000\n",
    "features_of_min_test = None\n",
    "for feat_list in selected_features:\n",
    "    train_mse, test_mse = get_random_forest(X_trained_scaled[feat_list].fillna(0),\n",
    "                                              X_test_scaled[feat_list].fillna(0),\n",
    "                                              np.ravel(y_train), y_test)\n",
    "    if test_mse < min_test_mse:\n",
    "        min_test_mse = test_mse\n",
    "        features_of_min_test = feat_list\n",
    "\n",
    "print(f'Min test mse of {min_test_mse}')\n",
    "print('Corresponding features list is: ', *features_of_min_test, sep=', ') "
   ]
  },
  {
   "cell_type": "markdown",
   "metadata": {},
   "source": [
    "### 4. Step backward feature selection"
   ]
  },
  {
   "cell_type": "code",
   "execution_count": 65,
   "metadata": {},
   "outputs": [
    {
     "name": "stderr",
     "output_type": "stream",
     "text": [
      "[Parallel(n_jobs=-1)]: Using backend LokyBackend with 16 concurrent workers.\n",
      "[Parallel(n_jobs=-1)]: Done   9 tasks      | elapsed:    1.2s\n",
      "[Parallel(n_jobs=-1)]: Done  39 out of  46 | elapsed:    3.6s remaining:    0.6s\n",
      "[Parallel(n_jobs=-1)]: Done  46 out of  46 | elapsed:    3.7s finished\n",
      "\n",
      "[2019-09-29 21:12:23] Features: 45/15 -- score: -0.014104732669531406[Parallel(n_jobs=-1)]: Using backend LokyBackend with 16 concurrent workers.\n",
      "[Parallel(n_jobs=-1)]: Done   9 tasks      | elapsed:    1.4s\n",
      "[Parallel(n_jobs=-1)]: Done  37 out of  45 | elapsed:    4.2s remaining:    0.9s\n",
      "[Parallel(n_jobs=-1)]: Done  45 out of  45 | elapsed:    4.3s finished\n",
      "\n",
      "[2019-09-29 21:12:27] Features: 44/15 -- score: 0.0002937135130956392[Parallel(n_jobs=-1)]: Using backend LokyBackend with 16 concurrent workers.\n",
      "[Parallel(n_jobs=-1)]: Done   9 tasks      | elapsed:    1.5s\n",
      "[Parallel(n_jobs=-1)]: Done  36 out of  44 | elapsed:    4.1s remaining:    0.9s\n",
      "[Parallel(n_jobs=-1)]: Done  44 out of  44 | elapsed:    4.2s finished\n",
      "\n",
      "[2019-09-29 21:12:32] Features: 43/15 -- score: -0.0002980657217974469[Parallel(n_jobs=-1)]: Using backend LokyBackend with 16 concurrent workers.\n",
      "[Parallel(n_jobs=-1)]: Done   9 tasks      | elapsed:    1.4s\n",
      "[Parallel(n_jobs=-1)]: Done  34 out of  43 | elapsed:    3.9s remaining:    1.0s\n",
      "[Parallel(n_jobs=-1)]: Done  43 out of  43 | elapsed:    4.0s finished\n",
      "\n",
      "[2019-09-29 21:12:36] Features: 42/15 -- score: 0.0021244737384298997[Parallel(n_jobs=-1)]: Using backend LokyBackend with 16 concurrent workers.\n",
      "[Parallel(n_jobs=-1)]: Done   9 tasks      | elapsed:    1.4s\n",
      "[Parallel(n_jobs=-1)]: Done  33 out of  42 | elapsed:    3.9s remaining:    1.1s\n",
      "[Parallel(n_jobs=-1)]: Done  42 out of  42 | elapsed:    4.0s finished\n",
      "\n",
      "[2019-09-29 21:12:40] Features: 41/15 -- score: 0.010106726129001365[Parallel(n_jobs=-1)]: Using backend LokyBackend with 16 concurrent workers.\n",
      "[Parallel(n_jobs=-1)]: Done   9 tasks      | elapsed:    1.4s\n",
      "[Parallel(n_jobs=-1)]: Done  31 out of  41 | elapsed:    2.8s remaining:    0.9s\n",
      "[Parallel(n_jobs=-1)]: Done  41 out of  41 | elapsed:    3.8s finished\n",
      "\n",
      "[2019-09-29 21:12:43] Features: 40/15 -- score: -0.015014389540980222[Parallel(n_jobs=-1)]: Using backend LokyBackend with 16 concurrent workers.\n",
      "[Parallel(n_jobs=-1)]: Done   9 tasks      | elapsed:    1.4s\n",
      "[Parallel(n_jobs=-1)]: Done  30 out of  40 | elapsed:    2.8s remaining:    0.9s\n",
      "[Parallel(n_jobs=-1)]: Done  40 out of  40 | elapsed:    3.6s finished\n",
      "\n",
      "[2019-09-29 21:12:47] Features: 39/15 -- score: 0.005633823494423251[Parallel(n_jobs=-1)]: Using backend LokyBackend with 16 concurrent workers.\n",
      "[Parallel(n_jobs=-1)]: Done  28 out of  39 | elapsed:    2.7s remaining:    1.1s\n",
      "[Parallel(n_jobs=-1)]: Done  39 out of  39 | elapsed:    3.5s finished\n",
      "\n",
      "[2019-09-29 21:12:50] Features: 38/15 -- score: 0.00895042145455478[Parallel(n_jobs=-1)]: Using backend LokyBackend with 16 concurrent workers.\n",
      "[Parallel(n_jobs=-1)]: Done  27 out of  38 | elapsed:    2.8s remaining:    1.2s\n",
      "[Parallel(n_jobs=-1)]: Done  38 out of  38 | elapsed:    3.6s finished\n",
      "\n",
      "[2019-09-29 21:12:54] Features: 37/15 -- score: 0.013855206960304112[Parallel(n_jobs=-1)]: Using backend LokyBackend with 16 concurrent workers.\n",
      "[Parallel(n_jobs=-1)]: Done  25 out of  37 | elapsed:    2.6s remaining:    1.2s\n",
      "[Parallel(n_jobs=-1)]: Done  37 out of  37 | elapsed:    3.3s finished\n",
      "\n",
      "[2019-09-29 21:12:57] Features: 36/15 -- score: 0.013020562341648879[Parallel(n_jobs=-1)]: Using backend LokyBackend with 16 concurrent workers.\n",
      "[Parallel(n_jobs=-1)]: Done  24 out of  36 | elapsed:    2.5s remaining:    1.2s\n",
      "[Parallel(n_jobs=-1)]: Done  36 out of  36 | elapsed:    3.2s finished\n",
      "\n",
      "[2019-09-29 21:13:01] Features: 35/15 -- score: 0.019407674971083866[Parallel(n_jobs=-1)]: Using backend LokyBackend with 16 concurrent workers.\n",
      "[Parallel(n_jobs=-1)]: Done  22 out of  35 | elapsed:    2.4s remaining:    1.4s\n",
      "[Parallel(n_jobs=-1)]: Done  35 out of  35 | elapsed:    3.1s finished\n",
      "\n",
      "[2019-09-29 21:13:04] Features: 34/15 -- score: 0.008706425520705774[Parallel(n_jobs=-1)]: Using backend LokyBackend with 16 concurrent workers.\n",
      "[Parallel(n_jobs=-1)]: Done  21 out of  34 | elapsed:    2.3s remaining:    1.4s\n",
      "[Parallel(n_jobs=-1)]: Done  34 out of  34 | elapsed:    3.0s finished\n",
      "\n",
      "[2019-09-29 21:13:07] Features: 33/15 -- score: 0.019812866054996815[Parallel(n_jobs=-1)]: Using backend LokyBackend with 16 concurrent workers.\n",
      "[Parallel(n_jobs=-1)]: Done  19 out of  33 | elapsed:    2.2s remaining:    1.6s\n",
      "[Parallel(n_jobs=-1)]: Done  33 out of  33 | elapsed:    2.9s finished\n",
      "\n",
      "[2019-09-29 21:13:10] Features: 32/15 -- score: 0.013853073501670088[Parallel(n_jobs=-1)]: Using backend LokyBackend with 16 concurrent workers.\n",
      "[Parallel(n_jobs=-1)]: Done  18 out of  32 | elapsed:    2.2s remaining:    1.7s\n",
      "[Parallel(n_jobs=-1)]: Done  32 out of  32 | elapsed:    2.3s finished\n",
      "\n",
      "[2019-09-29 21:13:12] Features: 31/15 -- score: 0.02894340919276448[Parallel(n_jobs=-1)]: Using backend LokyBackend with 16 concurrent workers.\n",
      "[Parallel(n_jobs=-1)]: Done  16 out of  31 | elapsed:    1.2s remaining:    1.1s\n",
      "[Parallel(n_jobs=-1)]: Done  31 out of  31 | elapsed:    2.3s finished\n",
      "\n",
      "[2019-09-29 21:13:14] Features: 30/15 -- score: 0.02049546941721292[Parallel(n_jobs=-1)]: Using backend LokyBackend with 16 concurrent workers.\n",
      "[Parallel(n_jobs=-1)]: Done  15 out of  30 | elapsed:    1.2s remaining:    1.2s\n",
      "[Parallel(n_jobs=-1)]: Done  30 out of  30 | elapsed:    2.2s finished\n",
      "\n",
      "[2019-09-29 21:13:16] Features: 29/15 -- score: 0.024276335431133455[Parallel(n_jobs=-1)]: Using backend LokyBackend with 16 concurrent workers.\n",
      "[Parallel(n_jobs=-1)]: Done  13 out of  29 | elapsed:    1.2s remaining:    1.4s\n",
      "[Parallel(n_jobs=-1)]: Done  29 out of  29 | elapsed:    2.1s finished\n",
      "\n",
      "[2019-09-29 21:13:19] Features: 28/15 -- score: 0.05387347294060183[Parallel(n_jobs=-1)]: Using backend LokyBackend with 16 concurrent workers.\n",
      "[Parallel(n_jobs=-1)]: Done  12 out of  28 | elapsed:    1.1s remaining:    1.5s\n",
      "[Parallel(n_jobs=-1)]: Done  28 out of  28 | elapsed:    2.0s finished\n",
      "\n",
      "[2019-09-29 21:13:21] Features: 27/15 -- score: 0.020269337740374715[Parallel(n_jobs=-1)]: Using backend LokyBackend with 16 concurrent workers.\n",
      "[Parallel(n_jobs=-1)]: Done  10 out of  27 | elapsed:    1.1s remaining:    1.9s\n",
      "[Parallel(n_jobs=-1)]: Done  24 out of  27 | elapsed:    1.9s remaining:    0.2s\n",
      "[Parallel(n_jobs=-1)]: Done  27 out of  27 | elapsed:    1.9s finished\n",
      "\n",
      "[2019-09-29 21:13:22] Features: 26/15 -- score: 0.04067299407074256[Parallel(n_jobs=-1)]: Using backend LokyBackend with 16 concurrent workers.\n",
      "[Parallel(n_jobs=-1)]: Done   9 out of  26 | elapsed:    1.0s remaining:    2.0s\n",
      "[Parallel(n_jobs=-1)]: Done  23 out of  26 | elapsed:    1.8s remaining:    0.2s\n",
      "[Parallel(n_jobs=-1)]: Done  26 out of  26 | elapsed:    1.9s finished\n",
      "\n",
      "[2019-09-29 21:13:24] Features: 25/15 -- score: 0.03373365378187589[Parallel(n_jobs=-1)]: Using backend LokyBackend with 16 concurrent workers.\n",
      "[Parallel(n_jobs=-1)]: Done   7 out of  25 | elapsed:    1.0s remaining:    2.6s\n",
      "[Parallel(n_jobs=-1)]: Done  20 out of  25 | elapsed:    1.7s remaining:    0.4s\n",
      "[Parallel(n_jobs=-1)]: Done  25 out of  25 | elapsed:    1.8s finished\n",
      "\n",
      "[2019-09-29 21:13:26] Features: 24/15 -- score: 0.054034113565643804[Parallel(n_jobs=-1)]: Using backend LokyBackend with 16 concurrent workers.\n",
      "[Parallel(n_jobs=-1)]: Done   6 out of  24 | elapsed:    1.0s remaining:    3.1s\n",
      "[Parallel(n_jobs=-1)]: Done  19 out of  24 | elapsed:    1.7s remaining:    0.4s\n",
      "[Parallel(n_jobs=-1)]: Done  24 out of  24 | elapsed:    1.7s finished\n",
      "\n",
      "[2019-09-29 21:13:28] Features: 23/15 -- score: 0.036028412595079315[Parallel(n_jobs=-1)]: Using backend LokyBackend with 16 concurrent workers.\n",
      "[Parallel(n_jobs=-1)]: Done   4 out of  23 | elapsed:    0.9s remaining:    4.5s\n",
      "[Parallel(n_jobs=-1)]: Done  16 out of  23 | elapsed:    1.0s remaining:    0.5s\n",
      "[Parallel(n_jobs=-1)]: Done  23 out of  23 | elapsed:    1.6s finished\n",
      "\n",
      "[2019-09-29 21:13:29] Features: 22/15 -- score: 0.061117366520867744[Parallel(n_jobs=-1)]: Using backend LokyBackend with 16 concurrent workers.\n",
      "[Parallel(n_jobs=-1)]: Done   3 out of  22 | elapsed:    0.9s remaining:    5.7s\n",
      "[Parallel(n_jobs=-1)]: Done  15 out of  22 | elapsed:    1.0s remaining:    0.5s\n"
     ]
    },
    {
     "name": "stderr",
     "output_type": "stream",
     "text": [
      "[Parallel(n_jobs=-1)]: Done  22 out of  22 | elapsed:    1.5s finished\n",
      "\n",
      "[2019-09-29 21:13:31] Features: 21/15 -- score: 0.07759586866317685[Parallel(n_jobs=-1)]: Using backend LokyBackend with 16 concurrent workers.\n",
      "[Parallel(n_jobs=-1)]: Done  12 out of  21 | elapsed:    1.0s remaining:    0.7s\n",
      "[Parallel(n_jobs=-1)]: Done  21 out of  21 | elapsed:    1.5s finished\n",
      "\n",
      "[2019-09-29 21:13:32] Features: 20/15 -- score: 0.10121611010201267[Parallel(n_jobs=-1)]: Using backend LokyBackend with 16 concurrent workers.\n",
      "[Parallel(n_jobs=-1)]: Done  11 out of  20 | elapsed:    0.9s remaining:    0.8s\n",
      "[Parallel(n_jobs=-1)]: Done  20 out of  20 | elapsed:    1.4s finished\n",
      "\n",
      "[2019-09-29 21:13:34] Features: 19/15 -- score: 0.08383776046966367[Parallel(n_jobs=-1)]: Using backend LokyBackend with 16 concurrent workers.\n",
      "[Parallel(n_jobs=-1)]: Done   8 out of  19 | elapsed:    0.9s remaining:    1.2s\n",
      "[Parallel(n_jobs=-1)]: Done  19 out of  19 | elapsed:    1.4s finished\n",
      "\n",
      "[2019-09-29 21:13:35] Features: 18/15 -- score: 0.0806336241858433[Parallel(n_jobs=-1)]: Using backend LokyBackend with 16 concurrent workers.\n",
      "[Parallel(n_jobs=-1)]: Done   7 out of  18 | elapsed:    0.8s remaining:    1.3s\n",
      "[Parallel(n_jobs=-1)]: Done  18 out of  18 | elapsed:    1.3s finished\n",
      "\n",
      "[2019-09-29 21:13:36] Features: 17/15 -- score: 0.11277317631147998[Parallel(n_jobs=-1)]: Using backend LokyBackend with 16 concurrent workers.\n",
      "[Parallel(n_jobs=-1)]: Done   4 out of  17 | elapsed:    0.8s remaining:    2.5s\n",
      "[Parallel(n_jobs=-1)]: Done  13 out of  17 | elapsed:    0.9s remaining:    0.3s\n",
      "[Parallel(n_jobs=-1)]: Done  17 out of  17 | elapsed:    1.3s finished\n",
      "\n",
      "[2019-09-29 21:13:38] Features: 16/15 -- score: 0.09517840008470724[Parallel(n_jobs=-1)]: Using backend LokyBackend with 16 concurrent workers.\n",
      "[Parallel(n_jobs=-1)]: Done   3 out of  16 | elapsed:    0.8s remaining:    3.3s\n",
      "[Parallel(n_jobs=-1)]: Done  12 out of  16 | elapsed:    0.8s remaining:    0.3s\n",
      "[Parallel(n_jobs=-1)]: Done  16 out of  16 | elapsed:    0.8s finished\n",
      "\n",
      "[2019-09-29 21:13:39] Features: 15/15 -- score: 0.10647284011888687[Parallel(n_jobs=-1)]: Using backend LokyBackend with 16 concurrent workers.\n",
      "[Parallel(n_jobs=-1)]: Done   9 tasks      | elapsed:    1.4s\n",
      "[Parallel(n_jobs=-1)]: Done  39 out of  46 | elapsed:    4.3s remaining:    0.8s\n",
      "[Parallel(n_jobs=-1)]: Done  46 out of  46 | elapsed:    4.3s finished\n",
      "\n",
      "[2019-09-29 21:13:44] Features: 45/16 -- score: -0.02609986032585787[Parallel(n_jobs=-1)]: Using backend LokyBackend with 16 concurrent workers.\n",
      "[Parallel(n_jobs=-1)]: Done   9 tasks      | elapsed:    1.5s\n",
      "[Parallel(n_jobs=-1)]: Done  37 out of  45 | elapsed:    4.4s remaining:    0.9s\n",
      "[Parallel(n_jobs=-1)]: Done  45 out of  45 | elapsed:    4.4s finished\n",
      "\n",
      "[2019-09-29 21:13:48] Features: 44/16 -- score: -0.002804959513983585[Parallel(n_jobs=-1)]: Using backend LokyBackend with 16 concurrent workers.\n",
      "[Parallel(n_jobs=-1)]: Done   9 tasks      | elapsed:    1.5s\n",
      "[Parallel(n_jobs=-1)]: Done  36 out of  44 | elapsed:    4.2s remaining:    0.9s\n",
      "[Parallel(n_jobs=-1)]: Done  44 out of  44 | elapsed:    4.3s finished\n",
      "\n",
      "[2019-09-29 21:13:52] Features: 43/16 -- score: 0.01711351139090809[Parallel(n_jobs=-1)]: Using backend LokyBackend with 16 concurrent workers.\n",
      "[Parallel(n_jobs=-1)]: Done   9 tasks      | elapsed:    1.4s\n",
      "[Parallel(n_jobs=-1)]: Done  34 out of  43 | elapsed:    4.1s remaining:    1.1s\n",
      "[Parallel(n_jobs=-1)]: Done  43 out of  43 | elapsed:    4.2s finished\n",
      "\n",
      "[2019-09-29 21:13:56] Features: 42/16 -- score: 0.008465745563103266[Parallel(n_jobs=-1)]: Using backend LokyBackend with 16 concurrent workers.\n",
      "[Parallel(n_jobs=-1)]: Done   9 tasks      | elapsed:    1.4s\n",
      "[Parallel(n_jobs=-1)]: Done  33 out of  42 | elapsed:    3.9s remaining:    1.1s\n",
      "[Parallel(n_jobs=-1)]: Done  42 out of  42 | elapsed:    4.0s finished\n",
      "\n",
      "[2019-09-29 21:14:00] Features: 41/16 -- score: 0.011316825773321115[Parallel(n_jobs=-1)]: Using backend LokyBackend with 16 concurrent workers.\n",
      "[Parallel(n_jobs=-1)]: Done   9 tasks      | elapsed:    1.5s\n",
      "[Parallel(n_jobs=-1)]: Done  31 out of  41 | elapsed:    3.0s remaining:    1.0s\n",
      "[Parallel(n_jobs=-1)]: Done  41 out of  41 | elapsed:    4.1s finished\n",
      "\n",
      "[2019-09-29 21:14:05] Features: 40/16 -- score: 0.008490884251331089[Parallel(n_jobs=-1)]: Using backend LokyBackend with 16 concurrent workers.\n",
      "[Parallel(n_jobs=-1)]: Done   9 tasks      | elapsed:    1.6s\n",
      "[Parallel(n_jobs=-1)]: Done  30 out of  40 | elapsed:    3.2s remaining:    1.1s\n",
      "[Parallel(n_jobs=-1)]: Done  40 out of  40 | elapsed:    4.2s finished\n",
      "\n",
      "[2019-09-29 21:14:09] Features: 39/16 -- score: 0.01224854959615782[Parallel(n_jobs=-1)]: Using backend LokyBackend with 16 concurrent workers.\n",
      "[Parallel(n_jobs=-1)]: Done  28 out of  39 | elapsed:    3.2s remaining:    1.2s\n",
      "[Parallel(n_jobs=-1)]: Done  39 out of  39 | elapsed:    4.2s finished\n",
      "\n",
      "[2019-09-29 21:14:13] Features: 38/16 -- score: 0.01803302636055386[Parallel(n_jobs=-1)]: Using backend LokyBackend with 16 concurrent workers.\n",
      "[Parallel(n_jobs=-1)]: Done  27 out of  38 | elapsed:    3.3s remaining:    1.3s\n",
      "[Parallel(n_jobs=-1)]: Done  38 out of  38 | elapsed:    4.3s finished\n",
      "\n",
      "[2019-09-29 21:14:17] Features: 37/16 -- score: 0.021322474474896123[Parallel(n_jobs=-1)]: Using backend LokyBackend with 16 concurrent workers.\n",
      "[Parallel(n_jobs=-1)]: Done  25 out of  37 | elapsed:    3.2s remaining:    1.5s\n",
      "[Parallel(n_jobs=-1)]: Done  37 out of  37 | elapsed:    4.1s finished\n",
      "\n",
      "[2019-09-29 21:14:21] Features: 36/16 -- score: 0.011715657420711456[Parallel(n_jobs=-1)]: Using backend LokyBackend with 16 concurrent workers.\n",
      "[Parallel(n_jobs=-1)]: Done  24 out of  36 | elapsed:    3.1s remaining:    1.5s\n",
      "[Parallel(n_jobs=-1)]: Done  36 out of  36 | elapsed:    4.0s finished\n",
      "\n",
      "[2019-09-29 21:14:25] Features: 35/16 -- score: 0.026342390471765165[Parallel(n_jobs=-1)]: Using backend LokyBackend with 16 concurrent workers.\n",
      "[Parallel(n_jobs=-1)]: Done  22 out of  35 | elapsed:    3.0s remaining:    1.8s\n",
      "[Parallel(n_jobs=-1)]: Done  35 out of  35 | elapsed:    3.9s finished\n",
      "\n",
      "[2019-09-29 21:14:29] Features: 34/16 -- score: 0.03787617218438781[Parallel(n_jobs=-1)]: Using backend LokyBackend with 16 concurrent workers.\n",
      "[Parallel(n_jobs=-1)]: Done  21 out of  34 | elapsed:    2.9s remaining:    1.8s\n",
      "[Parallel(n_jobs=-1)]: Done  34 out of  34 | elapsed:    3.8s finished\n",
      "\n",
      "[2019-09-29 21:14:33] Features: 33/16 -- score: 0.01685441526106197[Parallel(n_jobs=-1)]: Using backend LokyBackend with 16 concurrent workers.\n",
      "[Parallel(n_jobs=-1)]: Done  19 out of  33 | elapsed:    2.7s remaining:    2.0s\n",
      "[Parallel(n_jobs=-1)]: Done  33 out of  33 | elapsed:    3.6s finished\n",
      "\n",
      "[2019-09-29 21:14:37] Features: 32/16 -- score: 0.039186881410418484[Parallel(n_jobs=-1)]: Using backend LokyBackend with 16 concurrent workers.\n",
      "[Parallel(n_jobs=-1)]: Done  18 out of  32 | elapsed:    2.6s remaining:    2.0s\n",
      "[Parallel(n_jobs=-1)]: Done  32 out of  32 | elapsed:    2.7s finished\n",
      "\n",
      "[2019-09-29 21:14:39] Features: 31/16 -- score: 0.03963062179654382[Parallel(n_jobs=-1)]: Using backend LokyBackend with 16 concurrent workers.\n",
      "[Parallel(n_jobs=-1)]: Done  16 out of  31 | elapsed:    1.4s remaining:    1.3s\n",
      "[Parallel(n_jobs=-1)]: Done  31 out of  31 | elapsed:    2.6s finished\n",
      "\n",
      "[2019-09-29 21:14:42] Features: 30/16 -- score: 0.04456373108497347[Parallel(n_jobs=-1)]: Using backend LokyBackend with 16 concurrent workers.\n",
      "[Parallel(n_jobs=-1)]: Done  15 out of  30 | elapsed:    1.3s remaining:    1.3s\n",
      "[Parallel(n_jobs=-1)]: Done  30 out of  30 | elapsed:    2.5s finished\n",
      "\n",
      "[2019-09-29 21:14:45] Features: 29/16 -- score: 0.04716111543758648[Parallel(n_jobs=-1)]: Using backend LokyBackend with 16 concurrent workers.\n",
      "[Parallel(n_jobs=-1)]: Done  13 out of  29 | elapsed:    1.3s remaining:    1.6s\n",
      "[Parallel(n_jobs=-1)]: Done  29 out of  29 | elapsed:    2.4s finished\n",
      "\n",
      "[2019-09-29 21:14:47] Features: 28/16 -- score: 0.060284232669426195[Parallel(n_jobs=-1)]: Using backend LokyBackend with 16 concurrent workers.\n",
      "[Parallel(n_jobs=-1)]: Done  12 out of  28 | elapsed:    1.3s remaining:    1.8s\n",
      "[Parallel(n_jobs=-1)]: Done  28 out of  28 | elapsed:    2.4s finished\n",
      "\n",
      "[2019-09-29 21:14:49] Features: 27/16 -- score: 0.0477296383293863[Parallel(n_jobs=-1)]: Using backend LokyBackend with 16 concurrent workers.\n"
     ]
    },
    {
     "name": "stderr",
     "output_type": "stream",
     "text": [
      "[Parallel(n_jobs=-1)]: Done  10 out of  27 | elapsed:    1.3s remaining:    2.2s\n",
      "[Parallel(n_jobs=-1)]: Done  24 out of  27 | elapsed:    2.2s remaining:    0.3s\n",
      "[Parallel(n_jobs=-1)]: Done  27 out of  27 | elapsed:    2.3s finished\n",
      "\n",
      "[2019-09-29 21:14:52] Features: 26/16 -- score: 0.10364364326920336[Parallel(n_jobs=-1)]: Using backend LokyBackend with 16 concurrent workers.\n",
      "[Parallel(n_jobs=-1)]: Done   9 out of  26 | elapsed:    1.2s remaining:    2.3s\n",
      "[Parallel(n_jobs=-1)]: Done  23 out of  26 | elapsed:    2.1s remaining:    0.3s\n",
      "[Parallel(n_jobs=-1)]: Done  26 out of  26 | elapsed:    2.1s finished\n",
      "\n",
      "[2019-09-29 21:14:54] Features: 25/16 -- score: 0.06821602289833772[Parallel(n_jobs=-1)]: Using backend LokyBackend with 16 concurrent workers.\n",
      "[Parallel(n_jobs=-1)]: Done   7 out of  25 | elapsed:    1.2s remaining:    3.0s\n",
      "[Parallel(n_jobs=-1)]: Done  20 out of  25 | elapsed:    2.0s remaining:    0.5s\n",
      "[Parallel(n_jobs=-1)]: Done  25 out of  25 | elapsed:    2.0s finished\n",
      "\n",
      "[2019-09-29 21:14:56] Features: 24/16 -- score: 0.08823429633939761[Parallel(n_jobs=-1)]: Using backend LokyBackend with 16 concurrent workers.\n",
      "[Parallel(n_jobs=-1)]: Done   6 out of  24 | elapsed:    1.2s remaining:    3.5s\n",
      "[Parallel(n_jobs=-1)]: Done  19 out of  24 | elapsed:    1.9s remaining:    0.5s\n",
      "[Parallel(n_jobs=-1)]: Done  24 out of  24 | elapsed:    2.0s finished\n",
      "\n",
      "[2019-09-29 21:14:58] Features: 23/16 -- score: 0.09073010359886724[Parallel(n_jobs=-1)]: Using backend LokyBackend with 16 concurrent workers.\n",
      "[Parallel(n_jobs=-1)]: Done   4 out of  23 | elapsed:    1.2s remaining:    5.5s\n",
      "[Parallel(n_jobs=-1)]: Done  16 out of  23 | elapsed:    1.3s remaining:    0.6s\n",
      "[Parallel(n_jobs=-1)]: Done  23 out of  23 | elapsed:    1.9s finished\n",
      "\n",
      "[2019-09-29 21:15:00] Features: 22/16 -- score: 0.08800643569720645[Parallel(n_jobs=-1)]: Using backend LokyBackend with 16 concurrent workers.\n",
      "[Parallel(n_jobs=-1)]: Done   3 out of  22 | elapsed:    1.1s remaining:    7.0s\n",
      "[Parallel(n_jobs=-1)]: Done  15 out of  22 | elapsed:    1.2s remaining:    0.6s\n",
      "[Parallel(n_jobs=-1)]: Done  22 out of  22 | elapsed:    1.9s finished\n",
      "\n",
      "[2019-09-29 21:15:02] Features: 21/16 -- score: 0.08136707489731117[Parallel(n_jobs=-1)]: Using backend LokyBackend with 16 concurrent workers.\n",
      "[Parallel(n_jobs=-1)]: Done  12 out of  21 | elapsed:    1.2s remaining:    0.9s\n",
      "[Parallel(n_jobs=-1)]: Done  21 out of  21 | elapsed:    1.8s finished\n",
      "\n",
      "[2019-09-29 21:15:03] Features: 20/16 -- score: 0.09350325266207613[Parallel(n_jobs=-1)]: Using backend LokyBackend with 16 concurrent workers.\n",
      "[Parallel(n_jobs=-1)]: Done  11 out of  20 | elapsed:    1.1s remaining:    0.9s\n",
      "[Parallel(n_jobs=-1)]: Done  20 out of  20 | elapsed:    1.7s finished\n",
      "\n",
      "[2019-09-29 21:15:05] Features: 19/16 -- score: 0.09090090314560577[Parallel(n_jobs=-1)]: Using backend LokyBackend with 16 concurrent workers.\n",
      "[Parallel(n_jobs=-1)]: Done   8 out of  19 | elapsed:    1.1s remaining:    1.5s\n",
      "[Parallel(n_jobs=-1)]: Done  19 out of  19 | elapsed:    1.6s finished\n",
      "\n",
      "[2019-09-29 21:15:07] Features: 18/16 -- score: 0.08698164916527332[Parallel(n_jobs=-1)]: Using backend LokyBackend with 16 concurrent workers.\n",
      "[Parallel(n_jobs=-1)]: Done   7 out of  18 | elapsed:    1.0s remaining:    1.6s\n",
      "[Parallel(n_jobs=-1)]: Done  18 out of  18 | elapsed:    1.6s finished\n",
      "\n",
      "[2019-09-29 21:15:08] Features: 17/16 -- score: 0.08534266980515752[Parallel(n_jobs=-1)]: Using backend LokyBackend with 16 concurrent workers.\n",
      "[Parallel(n_jobs=-1)]: Done   4 out of  17 | elapsed:    1.0s remaining:    3.1s\n",
      "[Parallel(n_jobs=-1)]: Done  13 out of  17 | elapsed:    1.0s remaining:    0.3s\n",
      "[Parallel(n_jobs=-1)]: Done  17 out of  17 | elapsed:    1.5s finished\n",
      "\n",
      "[2019-09-29 21:15:10] Features: 16/16 -- score: 0.09222859804439143[Parallel(n_jobs=-1)]: Using backend LokyBackend with 16 concurrent workers.\n",
      "[Parallel(n_jobs=-1)]: Done   9 tasks      | elapsed:    1.5s\n",
      "[Parallel(n_jobs=-1)]: Done  39 out of  46 | elapsed:    4.7s remaining:    0.8s\n",
      "[Parallel(n_jobs=-1)]: Done  46 out of  46 | elapsed:    4.8s finished\n",
      "\n",
      "[2019-09-29 21:15:16] Features: 45/17 -- score: -0.02976369318583185[Parallel(n_jobs=-1)]: Using backend LokyBackend with 16 concurrent workers.\n",
      "[Parallel(n_jobs=-1)]: Done   9 tasks      | elapsed:    1.7s\n",
      "[Parallel(n_jobs=-1)]: Done  37 out of  45 | elapsed:    5.0s remaining:    1.1s\n",
      "[Parallel(n_jobs=-1)]: Done  45 out of  45 | elapsed:    5.0s finished\n",
      "\n",
      "[2019-09-29 21:15:21] Features: 44/17 -- score: 0.005406646349990307[Parallel(n_jobs=-1)]: Using backend LokyBackend with 16 concurrent workers.\n",
      "[Parallel(n_jobs=-1)]: Done   9 tasks      | elapsed:    1.8s\n",
      "[Parallel(n_jobs=-1)]: Done  36 out of  44 | elapsed:    5.1s remaining:    1.1s\n",
      "[Parallel(n_jobs=-1)]: Done  44 out of  44 | elapsed:    5.1s finished\n",
      "\n",
      "[2019-09-29 21:15:26] Features: 43/17 -- score: 0.013285076497684113[Parallel(n_jobs=-1)]: Using backend LokyBackend with 16 concurrent workers.\n",
      "[Parallel(n_jobs=-1)]: Done   9 tasks      | elapsed:    1.8s\n",
      "[Parallel(n_jobs=-1)]: Done  34 out of  43 | elapsed:    5.1s remaining:    1.3s\n",
      "[Parallel(n_jobs=-1)]: Done  43 out of  43 | elapsed:    5.2s finished\n",
      "\n",
      "[2019-09-29 21:15:31] Features: 42/17 -- score: -0.00227441653265541[Parallel(n_jobs=-1)]: Using backend LokyBackend with 16 concurrent workers.\n",
      "[Parallel(n_jobs=-1)]: Done   9 tasks      | elapsed:    1.9s\n",
      "[Parallel(n_jobs=-1)]: Done  33 out of  42 | elapsed:    5.0s remaining:    1.4s\n",
      "[Parallel(n_jobs=-1)]: Done  42 out of  42 | elapsed:    5.1s finished\n",
      "\n",
      "[2019-09-29 21:15:36] Features: 41/17 -- score: 0.025097980802732935[Parallel(n_jobs=-1)]: Using backend LokyBackend with 16 concurrent workers.\n",
      "[Parallel(n_jobs=-1)]: Done   9 tasks      | elapsed:    1.7s\n",
      "[Parallel(n_jobs=-1)]: Done  31 out of  41 | elapsed:    3.6s remaining:    1.1s\n",
      "[Parallel(n_jobs=-1)]: Done  41 out of  41 | elapsed:    4.7s finished\n",
      "\n",
      "[2019-09-29 21:15:41] Features: 40/17 -- score: 0.013368336672086834[Parallel(n_jobs=-1)]: Using backend LokyBackend with 16 concurrent workers.\n",
      "[Parallel(n_jobs=-1)]: Done   9 tasks      | elapsed:    1.7s\n",
      "[Parallel(n_jobs=-1)]: Done  30 out of  40 | elapsed:    3.3s remaining:    1.1s\n",
      "[Parallel(n_jobs=-1)]: Done  40 out of  40 | elapsed:    4.4s finished\n",
      "\n",
      "[2019-09-29 21:15:45] Features: 39/17 -- score: 0.0008151737180816631[Parallel(n_jobs=-1)]: Using backend LokyBackend with 16 concurrent workers.\n",
      "[Parallel(n_jobs=-1)]: Done  28 out of  39 | elapsed:    3.3s remaining:    1.3s\n",
      "[Parallel(n_jobs=-1)]: Done  39 out of  39 | elapsed:    4.3s finished\n",
      "\n",
      "[2019-09-29 21:15:49] Features: 38/17 -- score: 0.004051393992754915[Parallel(n_jobs=-1)]: Using backend LokyBackend with 16 concurrent workers.\n",
      "[Parallel(n_jobs=-1)]: Done  27 out of  38 | elapsed:    3.2s remaining:    1.3s\n",
      "[Parallel(n_jobs=-1)]: Done  38 out of  38 | elapsed:    4.2s finished\n",
      "\n",
      "[2019-09-29 21:15:54] Features: 37/17 -- score: 0.02536923058630778[Parallel(n_jobs=-1)]: Using backend LokyBackend with 16 concurrent workers.\n",
      "[Parallel(n_jobs=-1)]: Done  25 out of  37 | elapsed:    3.2s remaining:    1.5s\n",
      "[Parallel(n_jobs=-1)]: Done  37 out of  37 | elapsed:    4.1s finished\n",
      "\n",
      "[2019-09-29 21:15:58] Features: 36/17 -- score: 0.0037211463970970417[Parallel(n_jobs=-1)]: Using backend LokyBackend with 16 concurrent workers.\n",
      "[Parallel(n_jobs=-1)]: Done  24 out of  36 | elapsed:    2.9s remaining:    1.4s\n",
      "[Parallel(n_jobs=-1)]: Done  36 out of  36 | elapsed:    3.7s finished\n",
      "\n",
      "[2019-09-29 21:16:01] Features: 35/17 -- score: 0.025284206895906068[Parallel(n_jobs=-1)]: Using backend LokyBackend with 16 concurrent workers.\n",
      "[Parallel(n_jobs=-1)]: Done  22 out of  35 | elapsed:    2.7s remaining:    1.6s\n",
      "[Parallel(n_jobs=-1)]: Done  35 out of  35 | elapsed:    3.6s finished\n",
      "\n",
      "[2019-09-29 21:16:05] Features: 34/17 -- score: 0.03146593020102595[Parallel(n_jobs=-1)]: Using backend LokyBackend with 16 concurrent workers.\n",
      "[Parallel(n_jobs=-1)]: Done  21 out of  34 | elapsed:    2.8s remaining:    1.7s\n",
      "[Parallel(n_jobs=-1)]: Done  34 out of  34 | elapsed:    3.6s finished\n",
      "\n",
      "[2019-09-29 21:16:09] Features: 33/17 -- score: 0.01720147772282461[Parallel(n_jobs=-1)]: Using backend LokyBackend with 16 concurrent workers.\n",
      "[Parallel(n_jobs=-1)]: Done  19 out of  33 | elapsed:    2.6s remaining:    1.9s\n"
     ]
    },
    {
     "name": "stderr",
     "output_type": "stream",
     "text": [
      "[Parallel(n_jobs=-1)]: Done  33 out of  33 | elapsed:    3.5s finished\n",
      "\n",
      "[2019-09-29 21:16:12] Features: 32/17 -- score: 0.03402814849492734[Parallel(n_jobs=-1)]: Using backend LokyBackend with 16 concurrent workers.\n",
      "[Parallel(n_jobs=-1)]: Done  18 out of  32 | elapsed:    2.7s remaining:    2.1s\n",
      "[Parallel(n_jobs=-1)]: Done  32 out of  32 | elapsed:    2.8s finished\n",
      "\n",
      "[2019-09-29 21:16:15] Features: 31/17 -- score: 0.04015293332507477[Parallel(n_jobs=-1)]: Using backend LokyBackend with 16 concurrent workers.\n",
      "[Parallel(n_jobs=-1)]: Done  16 out of  31 | elapsed:    1.4s remaining:    1.3s\n",
      "[Parallel(n_jobs=-1)]: Done  31 out of  31 | elapsed:    2.8s finished\n",
      "\n",
      "[2019-09-29 21:16:18] Features: 30/17 -- score: 0.036180523008214616[Parallel(n_jobs=-1)]: Using backend LokyBackend with 16 concurrent workers.\n",
      "[Parallel(n_jobs=-1)]: Done  15 out of  30 | elapsed:    1.7s remaining:    1.7s\n",
      "[Parallel(n_jobs=-1)]: Done  30 out of  30 | elapsed:    3.0s finished\n",
      "\n",
      "[2019-09-29 21:16:21] Features: 29/17 -- score: 0.05566851151289336[Parallel(n_jobs=-1)]: Using backend LokyBackend with 16 concurrent workers.\n",
      "[Parallel(n_jobs=-1)]: Done  13 out of  29 | elapsed:    1.5s remaining:    1.9s\n",
      "[Parallel(n_jobs=-1)]: Done  29 out of  29 | elapsed:    3.0s finished\n",
      "\n",
      "[2019-09-29 21:16:24] Features: 28/17 -- score: 0.06067237004661232[Parallel(n_jobs=-1)]: Using backend LokyBackend with 16 concurrent workers.\n",
      "[Parallel(n_jobs=-1)]: Done  12 out of  28 | elapsed:    1.7s remaining:    2.3s\n",
      "[Parallel(n_jobs=-1)]: Done  28 out of  28 | elapsed:    3.0s finished\n",
      "\n",
      "[2019-09-29 21:16:27] Features: 27/17 -- score: 0.050824041634185566[Parallel(n_jobs=-1)]: Using backend LokyBackend with 16 concurrent workers.\n",
      "[Parallel(n_jobs=-1)]: Done  10 out of  27 | elapsed:    1.6s remaining:    2.7s\n",
      "[Parallel(n_jobs=-1)]: Done  24 out of  27 | elapsed:    2.8s remaining:    0.3s\n",
      "[Parallel(n_jobs=-1)]: Done  27 out of  27 | elapsed:    2.8s finished\n",
      "\n",
      "[2019-09-29 21:16:29] Features: 26/17 -- score: 0.044108932110588125[Parallel(n_jobs=-1)]: Using backend LokyBackend with 16 concurrent workers.\n",
      "[Parallel(n_jobs=-1)]: Done   9 out of  26 | elapsed:    1.5s remaining:    2.9s\n",
      "[Parallel(n_jobs=-1)]: Done  23 out of  26 | elapsed:    2.6s remaining:    0.3s\n",
      "[Parallel(n_jobs=-1)]: Done  26 out of  26 | elapsed:    2.6s finished\n",
      "\n",
      "[2019-09-29 21:16:32] Features: 25/17 -- score: 0.06081738679100277[Parallel(n_jobs=-1)]: Using backend LokyBackend with 16 concurrent workers.\n",
      "[Parallel(n_jobs=-1)]: Done   7 out of  25 | elapsed:    1.4s remaining:    3.7s\n",
      "[Parallel(n_jobs=-1)]: Done  20 out of  25 | elapsed:    2.4s remaining:    0.6s\n",
      "[Parallel(n_jobs=-1)]: Done  25 out of  25 | elapsed:    2.4s finished\n",
      "\n",
      "[2019-09-29 21:16:35] Features: 24/17 -- score: 0.04974531765323285[Parallel(n_jobs=-1)]: Using backend LokyBackend with 16 concurrent workers.\n",
      "[Parallel(n_jobs=-1)]: Done   6 out of  24 | elapsed:    1.4s remaining:    4.2s\n",
      "[Parallel(n_jobs=-1)]: Done  19 out of  24 | elapsed:    2.4s remaining:    0.6s\n",
      "[Parallel(n_jobs=-1)]: Done  24 out of  24 | elapsed:    2.4s finished\n",
      "\n",
      "[2019-09-29 21:16:37] Features: 23/17 -- score: 0.05736529671694446[Parallel(n_jobs=-1)]: Using backend LokyBackend with 16 concurrent workers.\n",
      "[Parallel(n_jobs=-1)]: Done   4 out of  23 | elapsed:    1.5s remaining:    7.2s\n",
      "[Parallel(n_jobs=-1)]: Done  16 out of  23 | elapsed:    1.7s remaining:    0.7s\n",
      "[Parallel(n_jobs=-1)]: Done  23 out of  23 | elapsed:    2.5s finished\n",
      "\n",
      "[2019-09-29 21:16:39] Features: 22/17 -- score: 0.06887059276909327[Parallel(n_jobs=-1)]: Using backend LokyBackend with 16 concurrent workers.\n",
      "[Parallel(n_jobs=-1)]: Done   3 out of  22 | elapsed:    1.3s remaining:    8.0s\n",
      "[Parallel(n_jobs=-1)]: Done  15 out of  22 | elapsed:    1.4s remaining:    0.6s\n",
      "[Parallel(n_jobs=-1)]: Done  22 out of  22 | elapsed:    2.1s finished\n",
      "\n",
      "[2019-09-29 21:16:42] Features: 21/17 -- score: 0.05294531023270925[Parallel(n_jobs=-1)]: Using backend LokyBackend with 16 concurrent workers.\n",
      "[Parallel(n_jobs=-1)]: Done  12 out of  21 | elapsed:    1.3s remaining:    1.0s\n",
      "[Parallel(n_jobs=-1)]: Done  21 out of  21 | elapsed:    2.0s finished\n",
      "\n",
      "[2019-09-29 21:16:44] Features: 20/17 -- score: 0.06285434282470556[Parallel(n_jobs=-1)]: Using backend LokyBackend with 16 concurrent workers.\n",
      "[Parallel(n_jobs=-1)]: Done  11 out of  20 | elapsed:    1.2s remaining:    1.0s\n",
      "[Parallel(n_jobs=-1)]: Done  20 out of  20 | elapsed:    1.9s finished\n",
      "\n",
      "[2019-09-29 21:16:46] Features: 19/17 -- score: 0.08720020883156043[Parallel(n_jobs=-1)]: Using backend LokyBackend with 16 concurrent workers.\n",
      "[Parallel(n_jobs=-1)]: Done   8 out of  19 | elapsed:    1.2s remaining:    1.7s\n",
      "[Parallel(n_jobs=-1)]: Done  19 out of  19 | elapsed:    1.9s finished\n",
      "\n",
      "[2019-09-29 21:16:47] Features: 18/17 -- score: 0.09372949714811107[Parallel(n_jobs=-1)]: Using backend LokyBackend with 16 concurrent workers.\n",
      "[Parallel(n_jobs=-1)]: Done   7 out of  18 | elapsed:    1.2s remaining:    1.9s\n",
      "[Parallel(n_jobs=-1)]: Done  18 out of  18 | elapsed:    1.8s finished\n",
      "\n",
      "[2019-09-29 21:16:49] Features: 17/17 -- score: 0.10919820062186562[Parallel(n_jobs=-1)]: Using backend LokyBackend with 16 concurrent workers.\n",
      "[Parallel(n_jobs=-1)]: Done   9 tasks      | elapsed:    1.8s\n",
      "[Parallel(n_jobs=-1)]: Done  39 out of  46 | elapsed:    5.1s remaining:    0.9s\n",
      "[Parallel(n_jobs=-1)]: Done  46 out of  46 | elapsed:    5.1s finished\n",
      "\n",
      "[2019-09-29 21:16:55] Features: 45/18 -- score: -0.038395212369876155[Parallel(n_jobs=-1)]: Using backend LokyBackend with 16 concurrent workers.\n",
      "[Parallel(n_jobs=-1)]: Done   9 tasks      | elapsed:    1.8s\n",
      "[Parallel(n_jobs=-1)]: Done  37 out of  45 | elapsed:    5.2s remaining:    1.1s\n",
      "[Parallel(n_jobs=-1)]: Done  45 out of  45 | elapsed:    5.3s finished\n",
      "\n",
      "[2019-09-29 21:17:01] Features: 44/18 -- score: -0.00991778055421919[Parallel(n_jobs=-1)]: Using backend LokyBackend with 16 concurrent workers.\n",
      "[Parallel(n_jobs=-1)]: Done   9 tasks      | elapsed:    1.9s\n",
      "[Parallel(n_jobs=-1)]: Done  36 out of  44 | elapsed:    5.2s remaining:    1.2s\n",
      "[Parallel(n_jobs=-1)]: Done  44 out of  44 | elapsed:    5.2s finished\n",
      "\n",
      "[2019-09-29 21:17:06] Features: 43/18 -- score: 0.00619071407412306[Parallel(n_jobs=-1)]: Using backend LokyBackend with 16 concurrent workers.\n",
      "[Parallel(n_jobs=-1)]: Done   9 tasks      | elapsed:    1.8s\n",
      "[Parallel(n_jobs=-1)]: Done  34 out of  43 | elapsed:    5.0s remaining:    1.3s\n",
      "[Parallel(n_jobs=-1)]: Done  43 out of  43 | elapsed:    5.1s finished\n",
      "\n",
      "[2019-09-29 21:17:11] Features: 42/18 -- score: 0.004955290531276235[Parallel(n_jobs=-1)]: Using backend LokyBackend with 16 concurrent workers.\n",
      "[Parallel(n_jobs=-1)]: Done   9 tasks      | elapsed:    1.7s\n",
      "[Parallel(n_jobs=-1)]: Done  33 out of  42 | elapsed:    4.7s remaining:    1.3s\n",
      "[Parallel(n_jobs=-1)]: Done  42 out of  42 | elapsed:    4.8s finished\n",
      "\n",
      "[2019-09-29 21:17:16] Features: 41/18 -- score: 0.005762903294554045[Parallel(n_jobs=-1)]: Using backend LokyBackend with 16 concurrent workers.\n",
      "[Parallel(n_jobs=-1)]: Done   9 tasks      | elapsed:    1.8s\n",
      "[Parallel(n_jobs=-1)]: Done  31 out of  41 | elapsed:    3.5s remaining:    1.1s\n",
      "[Parallel(n_jobs=-1)]: Done  41 out of  41 | elapsed:    4.7s finished\n",
      "\n",
      "[2019-09-29 21:17:21] Features: 40/18 -- score: 0.0050329106114872955[Parallel(n_jobs=-1)]: Using backend LokyBackend with 16 concurrent workers.\n",
      "[Parallel(n_jobs=-1)]: Done   9 tasks      | elapsed:    1.6s\n",
      "[Parallel(n_jobs=-1)]: Done  30 out of  40 | elapsed:    3.4s remaining:    1.1s\n",
      "[Parallel(n_jobs=-1)]: Done  40 out of  40 | elapsed:    4.4s finished\n",
      "\n",
      "[2019-09-29 21:17:25] Features: 39/18 -- score: 0.01493475302225491[Parallel(n_jobs=-1)]: Using backend LokyBackend with 16 concurrent workers.\n",
      "[Parallel(n_jobs=-1)]: Done  28 out of  39 | elapsed:    3.3s remaining:    1.3s\n",
      "[Parallel(n_jobs=-1)]: Done  39 out of  39 | elapsed:    4.2s finished\n",
      "\n",
      "[2019-09-29 21:17:29] Features: 38/18 -- score: 0.009343461762822126[Parallel(n_jobs=-1)]: Using backend LokyBackend with 16 concurrent workers.\n",
      "[Parallel(n_jobs=-1)]: Done  27 out of  38 | elapsed:    3.1s remaining:    1.3s\n",
      "[Parallel(n_jobs=-1)]: Done  38 out of  38 | elapsed:    4.0s finished\n",
      "\n",
      "[2019-09-29 21:17:33] Features: 37/18 -- score: -0.0014829092181480874[Parallel(n_jobs=-1)]: Using backend LokyBackend with 16 concurrent workers.\n"
     ]
    },
    {
     "name": "stderr",
     "output_type": "stream",
     "text": [
      "[Parallel(n_jobs=-1)]: Done  25 out of  37 | elapsed:    3.1s remaining:    1.5s\n",
      "[Parallel(n_jobs=-1)]: Done  37 out of  37 | elapsed:    4.0s finished\n",
      "\n",
      "[2019-09-29 21:17:37] Features: 36/18 -- score: 0.006291580263546037[Parallel(n_jobs=-1)]: Using backend LokyBackend with 16 concurrent workers.\n",
      "[Parallel(n_jobs=-1)]: Done  24 out of  36 | elapsed:    3.0s remaining:    1.5s\n",
      "[Parallel(n_jobs=-1)]: Done  36 out of  36 | elapsed:    4.0s finished\n",
      "\n",
      "[2019-09-29 21:17:41] Features: 35/18 -- score: 0.032594913892613174[Parallel(n_jobs=-1)]: Using backend LokyBackend with 16 concurrent workers.\n",
      "[Parallel(n_jobs=-1)]: Done  22 out of  35 | elapsed:    3.0s remaining:    1.8s\n",
      "[Parallel(n_jobs=-1)]: Done  35 out of  35 | elapsed:    3.9s finished\n",
      "\n",
      "[2019-09-29 21:17:45] Features: 34/18 -- score: 0.020146827031816604[Parallel(n_jobs=-1)]: Using backend LokyBackend with 16 concurrent workers.\n",
      "[Parallel(n_jobs=-1)]: Done  21 out of  34 | elapsed:    2.8s remaining:    1.7s\n",
      "[Parallel(n_jobs=-1)]: Done  34 out of  34 | elapsed:    3.6s finished\n",
      "\n",
      "[2019-09-29 21:17:49] Features: 33/18 -- score: 0.051814972827630236[Parallel(n_jobs=-1)]: Using backend LokyBackend with 16 concurrent workers.\n",
      "[Parallel(n_jobs=-1)]: Done  19 out of  33 | elapsed:    2.8s remaining:    2.1s\n",
      "[Parallel(n_jobs=-1)]: Done  33 out of  33 | elapsed:    3.7s finished\n",
      "\n",
      "[2019-09-29 21:17:53] Features: 32/18 -- score: 0.024810395100517902[Parallel(n_jobs=-1)]: Using backend LokyBackend with 16 concurrent workers.\n",
      "[Parallel(n_jobs=-1)]: Done  18 out of  32 | elapsed:    2.8s remaining:    2.2s\n",
      "[Parallel(n_jobs=-1)]: Done  32 out of  32 | elapsed:    2.9s finished\n",
      "\n",
      "[2019-09-29 21:17:55] Features: 31/18 -- score: 0.04393686665269538[Parallel(n_jobs=-1)]: Using backend LokyBackend with 16 concurrent workers.\n",
      "[Parallel(n_jobs=-1)]: Done  16 out of  31 | elapsed:    1.5s remaining:    1.4s\n",
      "[Parallel(n_jobs=-1)]: Done  31 out of  31 | elapsed:    2.8s finished\n",
      "\n",
      "[2019-09-29 21:17:58] Features: 30/18 -- score: 0.032483323583567404[Parallel(n_jobs=-1)]: Using backend LokyBackend with 16 concurrent workers.\n",
      "[Parallel(n_jobs=-1)]: Done  15 out of  30 | elapsed:    1.5s remaining:    1.5s\n",
      "[Parallel(n_jobs=-1)]: Done  30 out of  30 | elapsed:    2.7s finished\n",
      "\n",
      "[2019-09-29 21:18:01] Features: 29/18 -- score: 0.03584572792839598[Parallel(n_jobs=-1)]: Using backend LokyBackend with 16 concurrent workers.\n",
      "[Parallel(n_jobs=-1)]: Done  13 out of  29 | elapsed:    1.4s remaining:    1.8s\n",
      "[Parallel(n_jobs=-1)]: Done  29 out of  29 | elapsed:    2.7s finished\n",
      "\n",
      "[2019-09-29 21:18:04] Features: 28/18 -- score: 0.037689540471277594[Parallel(n_jobs=-1)]: Using backend LokyBackend with 16 concurrent workers.\n",
      "[Parallel(n_jobs=-1)]: Done  12 out of  28 | elapsed:    1.4s remaining:    1.9s\n",
      "[Parallel(n_jobs=-1)]: Done  28 out of  28 | elapsed:    2.6s finished\n",
      "\n",
      "[2019-09-29 21:18:06] Features: 27/18 -- score: 0.039590792419321265[Parallel(n_jobs=-1)]: Using backend LokyBackend with 16 concurrent workers.\n",
      "[Parallel(n_jobs=-1)]: Done  10 out of  27 | elapsed:    1.4s remaining:    2.3s\n",
      "[Parallel(n_jobs=-1)]: Done  24 out of  27 | elapsed:    2.4s remaining:    0.3s\n",
      "[Parallel(n_jobs=-1)]: Done  27 out of  27 | elapsed:    2.5s finished\n",
      "\n",
      "[2019-09-29 21:18:09] Features: 26/18 -- score: 0.05628455008454136[Parallel(n_jobs=-1)]: Using backend LokyBackend with 16 concurrent workers.\n",
      "[Parallel(n_jobs=-1)]: Done   9 out of  26 | elapsed:    1.4s remaining:    2.6s\n",
      "[Parallel(n_jobs=-1)]: Done  23 out of  26 | elapsed:    2.3s remaining:    0.3s\n",
      "[Parallel(n_jobs=-1)]: Done  26 out of  26 | elapsed:    2.4s finished\n",
      "\n",
      "[2019-09-29 21:18:11] Features: 25/18 -- score: 0.0624561990038218[Parallel(n_jobs=-1)]: Using backend LokyBackend with 16 concurrent workers.\n",
      "[Parallel(n_jobs=-1)]: Done   7 out of  25 | elapsed:    1.3s remaining:    3.4s\n",
      "[Parallel(n_jobs=-1)]: Done  20 out of  25 | elapsed:    2.2s remaining:    0.6s\n",
      "[Parallel(n_jobs=-1)]: Done  25 out of  25 | elapsed:    2.3s finished\n",
      "\n",
      "[2019-09-29 21:18:13] Features: 24/18 -- score: 0.05602001617774503[Parallel(n_jobs=-1)]: Using backend LokyBackend with 16 concurrent workers.\n",
      "[Parallel(n_jobs=-1)]: Done   6 out of  24 | elapsed:    1.3s remaining:    3.8s\n",
      "[Parallel(n_jobs=-1)]: Done  19 out of  24 | elapsed:    2.1s remaining:    0.5s\n",
      "[Parallel(n_jobs=-1)]: Done  24 out of  24 | elapsed:    2.1s finished\n",
      "\n",
      "[2019-09-29 21:18:15] Features: 23/18 -- score: 0.08427870258451334[Parallel(n_jobs=-1)]: Using backend LokyBackend with 16 concurrent workers.\n",
      "[Parallel(n_jobs=-1)]: Done   4 out of  23 | elapsed:    1.2s remaining:    5.9s\n",
      "[Parallel(n_jobs=-1)]: Done  16 out of  23 | elapsed:    1.3s remaining:    0.6s\n",
      "[Parallel(n_jobs=-1)]: Done  23 out of  23 | elapsed:    2.1s finished\n",
      "\n",
      "[2019-09-29 21:18:18] Features: 22/18 -- score: 0.05727837804989422[Parallel(n_jobs=-1)]: Using backend LokyBackend with 16 concurrent workers.\n",
      "[Parallel(n_jobs=-1)]: Done   3 out of  22 | elapsed:    1.2s remaining:    7.4s\n",
      "[Parallel(n_jobs=-1)]: Done  15 out of  22 | elapsed:    1.3s remaining:    0.6s\n",
      "[Parallel(n_jobs=-1)]: Done  22 out of  22 | elapsed:    2.0s finished\n",
      "\n",
      "[2019-09-29 21:18:19] Features: 21/18 -- score: 0.06871696587999918[Parallel(n_jobs=-1)]: Using backend LokyBackend with 16 concurrent workers.\n",
      "[Parallel(n_jobs=-1)]: Done  12 out of  21 | elapsed:    1.2s remaining:    0.9s\n",
      "[Parallel(n_jobs=-1)]: Done  21 out of  21 | elapsed:    1.9s finished\n",
      "\n",
      "[2019-09-29 21:18:21] Features: 20/18 -- score: 0.0918969918285163[Parallel(n_jobs=-1)]: Using backend LokyBackend with 16 concurrent workers.\n",
      "[Parallel(n_jobs=-1)]: Done  11 out of  20 | elapsed:    1.1s remaining:    0.9s\n",
      "[Parallel(n_jobs=-1)]: Done  20 out of  20 | elapsed:    1.8s finished\n",
      "\n",
      "[2019-09-29 21:18:23] Features: 19/18 -- score: 0.1072476747723822[Parallel(n_jobs=-1)]: Using backend LokyBackend with 16 concurrent workers.\n",
      "[Parallel(n_jobs=-1)]: Done   8 out of  19 | elapsed:    1.1s remaining:    1.5s\n",
      "[Parallel(n_jobs=-1)]: Done  19 out of  19 | elapsed:    1.8s finished\n",
      "\n",
      "[2019-09-29 21:18:25] Features: 18/18 -- score: 0.10218246727795113[Parallel(n_jobs=-1)]: Using backend LokyBackend with 16 concurrent workers.\n",
      "[Parallel(n_jobs=-1)]: Done   9 tasks      | elapsed:    1.7s\n",
      "[Parallel(n_jobs=-1)]: Done  39 out of  46 | elapsed:    5.0s remaining:    0.9s\n",
      "[Parallel(n_jobs=-1)]: Done  46 out of  46 | elapsed:    5.0s finished\n",
      "\n",
      "[2019-09-29 21:18:31] Features: 45/19 -- score: -0.03169707025800654[Parallel(n_jobs=-1)]: Using backend LokyBackend with 16 concurrent workers.\n",
      "[Parallel(n_jobs=-1)]: Done   9 tasks      | elapsed:    1.8s\n",
      "[Parallel(n_jobs=-1)]: Done  37 out of  45 | elapsed:    5.1s remaining:    1.1s\n",
      "[Parallel(n_jobs=-1)]: Done  45 out of  45 | elapsed:    5.2s finished\n",
      "\n",
      "[2019-09-29 21:18:36] Features: 44/19 -- score: 0.004679937925473121[Parallel(n_jobs=-1)]: Using backend LokyBackend with 16 concurrent workers.\n",
      "[Parallel(n_jobs=-1)]: Done   9 tasks      | elapsed:    1.8s\n",
      "[Parallel(n_jobs=-1)]: Done  36 out of  44 | elapsed:    5.3s remaining:    1.2s\n",
      "[Parallel(n_jobs=-1)]: Done  44 out of  44 | elapsed:    5.3s finished\n",
      "\n",
      "[2019-09-29 21:18:42] Features: 43/19 -- score: 0.010921843994586511[Parallel(n_jobs=-1)]: Using backend LokyBackend with 16 concurrent workers.\n",
      "[Parallel(n_jobs=-1)]: Done   9 tasks      | elapsed:    1.9s\n",
      "[Parallel(n_jobs=-1)]: Done  34 out of  43 | elapsed:    5.3s remaining:    1.4s\n",
      "[Parallel(n_jobs=-1)]: Done  43 out of  43 | elapsed:    5.4s finished\n",
      "\n",
      "[2019-09-29 21:18:47] Features: 42/19 -- score: 0.015613802269452859[Parallel(n_jobs=-1)]: Using backend LokyBackend with 16 concurrent workers.\n",
      "[Parallel(n_jobs=-1)]: Done   9 tasks      | elapsed:    2.0s\n",
      "[Parallel(n_jobs=-1)]: Done  33 out of  42 | elapsed:    5.3s remaining:    1.4s\n",
      "[Parallel(n_jobs=-1)]: Done  42 out of  42 | elapsed:    5.4s finished\n",
      "\n",
      "[2019-09-29 21:18:52] Features: 41/19 -- score: 0.02188975734254972[Parallel(n_jobs=-1)]: Using backend LokyBackend with 16 concurrent workers.\n",
      "[Parallel(n_jobs=-1)]: Done   9 tasks      | elapsed:    1.9s\n",
      "[Parallel(n_jobs=-1)]: Done  31 out of  41 | elapsed:    3.8s remaining:    1.2s\n",
      "[Parallel(n_jobs=-1)]: Done  41 out of  41 | elapsed:    5.2s finished\n",
      "\n",
      "[2019-09-29 21:18:57] Features: 40/19 -- score: 0.047629782881905156[Parallel(n_jobs=-1)]: Using backend LokyBackend with 16 concurrent workers.\n"
     ]
    },
    {
     "name": "stderr",
     "output_type": "stream",
     "text": [
      "[Parallel(n_jobs=-1)]: Done   9 tasks      | elapsed:    1.9s\n",
      "[Parallel(n_jobs=-1)]: Done  30 out of  40 | elapsed:    3.8s remaining:    1.3s\n",
      "[Parallel(n_jobs=-1)]: Done  40 out of  40 | elapsed:    5.0s finished\n",
      "\n",
      "[2019-09-29 21:19:02] Features: 39/19 -- score: 0.0448001368923205[Parallel(n_jobs=-1)]: Using backend LokyBackend with 16 concurrent workers.\n",
      "[Parallel(n_jobs=-1)]: Done  28 out of  39 | elapsed:    3.7s remaining:    1.4s\n",
      "[Parallel(n_jobs=-1)]: Done  39 out of  39 | elapsed:    4.8s finished\n",
      "\n",
      "[2019-09-29 21:19:07] Features: 38/19 -- score: 0.02487130723423574[Parallel(n_jobs=-1)]: Using backend LokyBackend with 16 concurrent workers.\n",
      "[Parallel(n_jobs=-1)]: Done  27 out of  38 | elapsed:    3.7s remaining:    1.5s\n",
      "[Parallel(n_jobs=-1)]: Done  38 out of  38 | elapsed:    4.8s finished\n",
      "\n",
      "[2019-09-29 21:19:12] Features: 37/19 -- score: 0.051178445253825755[Parallel(n_jobs=-1)]: Using backend LokyBackend with 16 concurrent workers.\n",
      "[Parallel(n_jobs=-1)]: Done  25 out of  37 | elapsed:    3.5s remaining:    1.7s\n",
      "[Parallel(n_jobs=-1)]: Done  37 out of  37 | elapsed:    4.5s finished\n",
      "\n",
      "[2019-09-29 21:19:17] Features: 36/19 -- score: 0.02093460696356928[Parallel(n_jobs=-1)]: Using backend LokyBackend with 16 concurrent workers.\n",
      "[Parallel(n_jobs=-1)]: Done  24 out of  36 | elapsed:    3.3s remaining:    1.7s\n",
      "[Parallel(n_jobs=-1)]: Done  36 out of  36 | elapsed:    4.3s finished\n",
      "\n",
      "[2019-09-29 21:19:21] Features: 35/19 -- score: 0.01959384603076373[Parallel(n_jobs=-1)]: Using backend LokyBackend with 16 concurrent workers.\n",
      "[Parallel(n_jobs=-1)]: Done  22 out of  35 | elapsed:    3.2s remaining:    1.9s\n",
      "[Parallel(n_jobs=-1)]: Done  35 out of  35 | elapsed:    4.2s finished\n",
      "\n",
      "[2019-09-29 21:19:25] Features: 34/19 -- score: 0.01857421866132345[Parallel(n_jobs=-1)]: Using backend LokyBackend with 16 concurrent workers.\n",
      "[Parallel(n_jobs=-1)]: Done  21 out of  34 | elapsed:    3.0s remaining:    1.9s\n",
      "[Parallel(n_jobs=-1)]: Done  34 out of  34 | elapsed:    3.9s finished\n",
      "\n",
      "[2019-09-29 21:19:29] Features: 33/19 -- score: 0.026532403078628076[Parallel(n_jobs=-1)]: Using backend LokyBackend with 16 concurrent workers.\n",
      "[Parallel(n_jobs=-1)]: Done  19 out of  33 | elapsed:    3.0s remaining:    2.2s\n",
      "[Parallel(n_jobs=-1)]: Done  33 out of  33 | elapsed:    3.9s finished\n",
      "\n",
      "[2019-09-29 21:19:33] Features: 32/19 -- score: 0.022939659227048704[Parallel(n_jobs=-1)]: Using backend LokyBackend with 16 concurrent workers.\n",
      "[Parallel(n_jobs=-1)]: Done  18 out of  32 | elapsed:    2.8s remaining:    2.2s\n",
      "[Parallel(n_jobs=-1)]: Done  32 out of  32 | elapsed:    2.9s finished\n",
      "\n",
      "[2019-09-29 21:19:36] Features: 31/19 -- score: 0.03564473382697102[Parallel(n_jobs=-1)]: Using backend LokyBackend with 16 concurrent workers.\n",
      "[Parallel(n_jobs=-1)]: Done  16 out of  31 | elapsed:    1.5s remaining:    1.4s\n",
      "[Parallel(n_jobs=-1)]: Done  31 out of  31 | elapsed:    2.8s finished\n",
      "\n",
      "[2019-09-29 21:19:39] Features: 30/19 -- score: 0.0170696155838723[Parallel(n_jobs=-1)]: Using backend LokyBackend with 16 concurrent workers.\n",
      "[Parallel(n_jobs=-1)]: Done  15 out of  30 | elapsed:    1.4s remaining:    1.4s\n",
      "[Parallel(n_jobs=-1)]: Done  30 out of  30 | elapsed:    2.7s finished\n",
      "\n",
      "[2019-09-29 21:19:41] Features: 29/19 -- score: 0.02175975173053517[Parallel(n_jobs=-1)]: Using backend LokyBackend with 16 concurrent workers.\n",
      "[Parallel(n_jobs=-1)]: Done  13 out of  29 | elapsed:    1.5s remaining:    1.8s\n",
      "[Parallel(n_jobs=-1)]: Done  29 out of  29 | elapsed:    2.7s finished\n",
      "\n",
      "[2019-09-29 21:19:44] Features: 28/19 -- score: 0.028512383933890263[Parallel(n_jobs=-1)]: Using backend LokyBackend with 16 concurrent workers.\n",
      "[Parallel(n_jobs=-1)]: Done  12 out of  28 | elapsed:    1.4s remaining:    1.9s\n",
      "[Parallel(n_jobs=-1)]: Done  28 out of  28 | elapsed:    2.6s finished\n",
      "\n",
      "[2019-09-29 21:19:47] Features: 27/19 -- score: 0.06201266760703528[Parallel(n_jobs=-1)]: Using backend LokyBackend with 16 concurrent workers.\n",
      "[Parallel(n_jobs=-1)]: Done  10 out of  27 | elapsed:    1.4s remaining:    2.4s\n",
      "[Parallel(n_jobs=-1)]: Done  24 out of  27 | elapsed:    2.5s remaining:    0.3s\n",
      "[Parallel(n_jobs=-1)]: Done  27 out of  27 | elapsed:    2.5s finished\n",
      "\n",
      "[2019-09-29 21:19:49] Features: 26/19 -- score: 0.03554121274001607[Parallel(n_jobs=-1)]: Using backend LokyBackend with 16 concurrent workers.\n",
      "[Parallel(n_jobs=-1)]: Done   9 out of  26 | elapsed:    1.4s remaining:    2.6s\n",
      "[Parallel(n_jobs=-1)]: Done  23 out of  26 | elapsed:    2.4s remaining:    0.3s\n",
      "[Parallel(n_jobs=-1)]: Done  26 out of  26 | elapsed:    2.4s finished\n",
      "\n",
      "[2019-09-29 21:19:52] Features: 25/19 -- score: 0.048597640995088474[Parallel(n_jobs=-1)]: Using backend LokyBackend with 16 concurrent workers.\n",
      "[Parallel(n_jobs=-1)]: Done   7 out of  25 | elapsed:    1.3s remaining:    3.4s\n",
      "[Parallel(n_jobs=-1)]: Done  20 out of  25 | elapsed:    2.3s remaining:    0.6s\n",
      "[Parallel(n_jobs=-1)]: Done  25 out of  25 | elapsed:    2.3s finished\n",
      "\n",
      "[2019-09-29 21:19:54] Features: 24/19 -- score: 0.06314138495097672[Parallel(n_jobs=-1)]: Using backend LokyBackend with 16 concurrent workers.\n",
      "[Parallel(n_jobs=-1)]: Done   6 out of  24 | elapsed:    1.3s remaining:    3.8s\n",
      "[Parallel(n_jobs=-1)]: Done  19 out of  24 | elapsed:    2.1s remaining:    0.5s\n",
      "[Parallel(n_jobs=-1)]: Done  24 out of  24 | elapsed:    2.1s finished\n",
      "\n",
      "[2019-09-29 21:19:56] Features: 23/19 -- score: 0.05616749304121693[Parallel(n_jobs=-1)]: Using backend LokyBackend with 16 concurrent workers.\n",
      "[Parallel(n_jobs=-1)]: Done   4 out of  23 | elapsed:    1.2s remaining:    5.8s\n",
      "[Parallel(n_jobs=-1)]: Done  16 out of  23 | elapsed:    1.3s remaining:    0.6s\n",
      "[Parallel(n_jobs=-1)]: Done  23 out of  23 | elapsed:    2.0s finished\n",
      "\n",
      "[2019-09-29 21:19:58] Features: 22/19 -- score: 0.05572830761769811[Parallel(n_jobs=-1)]: Using backend LokyBackend with 16 concurrent workers.\n",
      "[Parallel(n_jobs=-1)]: Done   3 out of  22 | elapsed:    1.2s remaining:    7.5s\n",
      "[Parallel(n_jobs=-1)]: Done  15 out of  22 | elapsed:    1.3s remaining:    0.6s\n",
      "[Parallel(n_jobs=-1)]: Done  22 out of  22 | elapsed:    2.0s finished\n",
      "\n",
      "[2019-09-29 21:20:00] Features: 21/19 -- score: 0.07028644266776[Parallel(n_jobs=-1)]: Using backend LokyBackend with 16 concurrent workers.\n",
      "[Parallel(n_jobs=-1)]: Done  12 out of  21 | elapsed:    1.3s remaining:    1.0s\n",
      "[Parallel(n_jobs=-1)]: Done  21 out of  21 | elapsed:    2.0s finished\n",
      "\n",
      "[2019-09-29 21:20:02] Features: 20/19 -- score: 0.07735301414260556[Parallel(n_jobs=-1)]: Using backend LokyBackend with 16 concurrent workers.\n",
      "[Parallel(n_jobs=-1)]: Done  11 out of  20 | elapsed:    1.2s remaining:    1.0s\n",
      "[Parallel(n_jobs=-1)]: Done  20 out of  20 | elapsed:    2.0s finished\n",
      "\n",
      "[2019-09-29 21:20:04] Features: 19/19 -- score: 0.0862580737345013[Parallel(n_jobs=-1)]: Using backend LokyBackend with 16 concurrent workers.\n",
      "[Parallel(n_jobs=-1)]: Done   9 tasks      | elapsed:    1.9s\n",
      "[Parallel(n_jobs=-1)]: Done  39 out of  46 | elapsed:    5.4s remaining:    1.0s\n",
      "[Parallel(n_jobs=-1)]: Done  46 out of  46 | elapsed:    5.4s finished\n",
      "\n",
      "[2019-09-29 21:20:11] Features: 45/20 -- score: -0.02276746845187496[Parallel(n_jobs=-1)]: Using backend LokyBackend with 16 concurrent workers.\n",
      "[Parallel(n_jobs=-1)]: Done   9 tasks      | elapsed:    1.8s\n",
      "[Parallel(n_jobs=-1)]: Done  37 out of  45 | elapsed:    5.3s remaining:    1.1s\n",
      "[Parallel(n_jobs=-1)]: Done  45 out of  45 | elapsed:    5.3s finished\n",
      "\n",
      "[2019-09-29 21:20:16] Features: 44/20 -- score: -0.024377643771622527[Parallel(n_jobs=-1)]: Using backend LokyBackend with 16 concurrent workers.\n",
      "[Parallel(n_jobs=-1)]: Done   9 tasks      | elapsed:    1.8s\n",
      "[Parallel(n_jobs=-1)]: Done  36 out of  44 | elapsed:    5.3s remaining:    1.2s\n",
      "[Parallel(n_jobs=-1)]: Done  44 out of  44 | elapsed:    5.3s finished\n",
      "\n",
      "[2019-09-29 21:20:21] Features: 43/20 -- score: -0.01124637851275776[Parallel(n_jobs=-1)]: Using backend LokyBackend with 16 concurrent workers.\n",
      "[Parallel(n_jobs=-1)]: Done   9 tasks      | elapsed:    2.0s\n",
      "[Parallel(n_jobs=-1)]: Done  34 out of  43 | elapsed:    5.4s remaining:    1.4s\n",
      "[Parallel(n_jobs=-1)]: Done  43 out of  43 | elapsed:    5.5s finished\n",
      "\n",
      "[2019-09-29 21:20:27] Features: 42/20 -- score: -0.002879234581452361[Parallel(n_jobs=-1)]: Using backend LokyBackend with 16 concurrent workers.\n"
     ]
    },
    {
     "name": "stderr",
     "output_type": "stream",
     "text": [
      "[Parallel(n_jobs=-1)]: Done   9 tasks      | elapsed:    1.8s\n",
      "[Parallel(n_jobs=-1)]: Done  33 out of  42 | elapsed:    5.0s remaining:    1.4s\n",
      "[Parallel(n_jobs=-1)]: Done  42 out of  42 | elapsed:    5.1s finished\n",
      "\n",
      "[2019-09-29 21:20:32] Features: 41/20 -- score: 0.006070303611096661[Parallel(n_jobs=-1)]: Using backend LokyBackend with 16 concurrent workers.\n",
      "[Parallel(n_jobs=-1)]: Done   9 tasks      | elapsed:    1.9s\n",
      "[Parallel(n_jobs=-1)]: Done  31 out of  41 | elapsed:    3.9s remaining:    1.2s\n",
      "[Parallel(n_jobs=-1)]: Done  41 out of  41 | elapsed:    5.1s finished\n",
      "\n",
      "[2019-09-29 21:20:37] Features: 40/20 -- score: 0.014054115242038433[Parallel(n_jobs=-1)]: Using backend LokyBackend with 16 concurrent workers.\n",
      "[Parallel(n_jobs=-1)]: Done   9 tasks      | elapsed:    1.8s\n",
      "[Parallel(n_jobs=-1)]: Done  30 out of  40 | elapsed:    3.6s remaining:    1.2s\n",
      "[Parallel(n_jobs=-1)]: Done  40 out of  40 | elapsed:    4.7s finished\n",
      "\n",
      "[2019-09-29 21:20:42] Features: 39/20 -- score: 0.016898515547271398[Parallel(n_jobs=-1)]: Using backend LokyBackend with 16 concurrent workers.\n",
      "[Parallel(n_jobs=-1)]: Done  28 out of  39 | elapsed:    3.4s remaining:    1.3s\n",
      "[Parallel(n_jobs=-1)]: Done  39 out of  39 | elapsed:    4.5s finished\n",
      "\n",
      "[2019-09-29 21:20:46] Features: 38/20 -- score: 0.012113487976222314[Parallel(n_jobs=-1)]: Using backend LokyBackend with 16 concurrent workers.\n",
      "[Parallel(n_jobs=-1)]: Done  27 out of  38 | elapsed:    3.4s remaining:    1.4s\n",
      "[Parallel(n_jobs=-1)]: Done  38 out of  38 | elapsed:    4.4s finished\n",
      "\n",
      "[2019-09-29 21:20:51] Features: 37/20 -- score: 0.03004829838833394[Parallel(n_jobs=-1)]: Using backend LokyBackend with 16 concurrent workers.\n",
      "[Parallel(n_jobs=-1)]: Done  25 out of  37 | elapsed:    3.3s remaining:    1.6s\n",
      "[Parallel(n_jobs=-1)]: Done  37 out of  37 | elapsed:    4.3s finished\n",
      "\n",
      "[2019-09-29 21:20:55] Features: 36/20 -- score: 0.014953239650698679[Parallel(n_jobs=-1)]: Using backend LokyBackend with 16 concurrent workers.\n",
      "[Parallel(n_jobs=-1)]: Done  24 out of  36 | elapsed:    3.3s remaining:    1.7s\n",
      "[Parallel(n_jobs=-1)]: Done  36 out of  36 | elapsed:    4.3s finished\n",
      "\n",
      "[2019-09-29 21:20:59] Features: 35/20 -- score: 0.01891402355842322[Parallel(n_jobs=-1)]: Using backend LokyBackend with 16 concurrent workers.\n",
      "[Parallel(n_jobs=-1)]: Done  22 out of  35 | elapsed:    3.1s remaining:    1.9s\n",
      "[Parallel(n_jobs=-1)]: Done  35 out of  35 | elapsed:    4.1s finished\n",
      "\n",
      "[2019-09-29 21:21:03] Features: 34/20 -- score: 0.01584969399185765[Parallel(n_jobs=-1)]: Using backend LokyBackend with 16 concurrent workers.\n",
      "[Parallel(n_jobs=-1)]: Done  21 out of  34 | elapsed:    3.1s remaining:    1.9s\n",
      "[Parallel(n_jobs=-1)]: Done  34 out of  34 | elapsed:    4.0s finished\n",
      "\n",
      "[2019-09-29 21:21:07] Features: 33/20 -- score: 0.033421614319505986[Parallel(n_jobs=-1)]: Using backend LokyBackend with 16 concurrent workers.\n",
      "[Parallel(n_jobs=-1)]: Done  19 out of  33 | elapsed:    2.9s remaining:    2.1s\n",
      "[Parallel(n_jobs=-1)]: Done  33 out of  33 | elapsed:    3.8s finished\n",
      "\n",
      "[2019-09-29 21:21:11] Features: 32/20 -- score: 0.04122053894451514[Parallel(n_jobs=-1)]: Using backend LokyBackend with 16 concurrent workers.\n",
      "[Parallel(n_jobs=-1)]: Done  18 out of  32 | elapsed:    2.8s remaining:    2.2s\n",
      "[Parallel(n_jobs=-1)]: Done  32 out of  32 | elapsed:    2.9s finished\n",
      "\n",
      "[2019-09-29 21:21:14] Features: 31/20 -- score: 0.0526990382564243[Parallel(n_jobs=-1)]: Using backend LokyBackend with 16 concurrent workers.\n",
      "[Parallel(n_jobs=-1)]: Done  16 out of  31 | elapsed:    1.5s remaining:    1.4s\n",
      "[Parallel(n_jobs=-1)]: Done  31 out of  31 | elapsed:    2.8s finished\n",
      "\n",
      "[2019-09-29 21:21:17] Features: 30/20 -- score: 0.04214537947746635[Parallel(n_jobs=-1)]: Using backend LokyBackend with 16 concurrent workers.\n",
      "[Parallel(n_jobs=-1)]: Done  15 out of  30 | elapsed:    1.4s remaining:    1.4s\n",
      "[Parallel(n_jobs=-1)]: Done  30 out of  30 | elapsed:    2.7s finished\n",
      "\n",
      "[2019-09-29 21:21:19] Features: 29/20 -- score: 0.04079384840532672[Parallel(n_jobs=-1)]: Using backend LokyBackend with 16 concurrent workers.\n",
      "[Parallel(n_jobs=-1)]: Done  13 out of  29 | elapsed:    1.4s remaining:    1.7s\n",
      "[Parallel(n_jobs=-1)]: Done  29 out of  29 | elapsed:    2.6s finished\n",
      "\n",
      "[2019-09-29 21:21:22] Features: 28/20 -- score: 0.0558641230667235[Parallel(n_jobs=-1)]: Using backend LokyBackend with 16 concurrent workers.\n",
      "[Parallel(n_jobs=-1)]: Done  12 out of  28 | elapsed:    1.4s remaining:    1.8s\n",
      "[Parallel(n_jobs=-1)]: Done  28 out of  28 | elapsed:    2.5s finished\n",
      "\n",
      "[2019-09-29 21:21:24] Features: 27/20 -- score: 0.053505633229996595[Parallel(n_jobs=-1)]: Using backend LokyBackend with 16 concurrent workers.\n",
      "[Parallel(n_jobs=-1)]: Done  10 out of  27 | elapsed:    1.4s remaining:    2.3s\n",
      "[Parallel(n_jobs=-1)]: Done  24 out of  27 | elapsed:    2.4s remaining:    0.3s\n",
      "[Parallel(n_jobs=-1)]: Done  27 out of  27 | elapsed:    2.4s finished\n",
      "\n",
      "[2019-09-29 21:21:27] Features: 26/20 -- score: 0.05969564095393367[Parallel(n_jobs=-1)]: Using backend LokyBackend with 16 concurrent workers.\n",
      "[Parallel(n_jobs=-1)]: Done   9 out of  26 | elapsed:    1.3s remaining:    2.5s\n",
      "[Parallel(n_jobs=-1)]: Done  23 out of  26 | elapsed:    2.2s remaining:    0.3s\n",
      "[Parallel(n_jobs=-1)]: Done  26 out of  26 | elapsed:    2.3s finished\n",
      "\n",
      "[2019-09-29 21:21:29] Features: 25/20 -- score: 0.054624061609460164[Parallel(n_jobs=-1)]: Using backend LokyBackend with 16 concurrent workers.\n",
      "[Parallel(n_jobs=-1)]: Done   7 out of  25 | elapsed:    1.2s remaining:    3.1s\n",
      "[Parallel(n_jobs=-1)]: Done  20 out of  25 | elapsed:    2.1s remaining:    0.5s\n",
      "[Parallel(n_jobs=-1)]: Done  25 out of  25 | elapsed:    2.1s finished\n",
      "\n",
      "[2019-09-29 21:21:31] Features: 24/20 -- score: 0.06570683334911805[Parallel(n_jobs=-1)]: Using backend LokyBackend with 16 concurrent workers.\n",
      "[Parallel(n_jobs=-1)]: Done   6 out of  24 | elapsed:    1.2s remaining:    3.6s\n",
      "[Parallel(n_jobs=-1)]: Done  19 out of  24 | elapsed:    1.9s remaining:    0.5s\n",
      "[Parallel(n_jobs=-1)]: Done  24 out of  24 | elapsed:    2.0s finished\n",
      "\n",
      "[2019-09-29 21:21:33] Features: 23/20 -- score: 0.09240613570714054[Parallel(n_jobs=-1)]: Using backend LokyBackend with 16 concurrent workers.\n",
      "[Parallel(n_jobs=-1)]: Done   4 out of  23 | elapsed:    1.1s remaining:    5.4s\n",
      "[Parallel(n_jobs=-1)]: Done  16 out of  23 | elapsed:    1.2s remaining:    0.5s\n",
      "[Parallel(n_jobs=-1)]: Done  23 out of  23 | elapsed:    1.9s finished\n",
      "\n",
      "[2019-09-29 21:21:35] Features: 22/20 -- score: 0.08773048102374419[Parallel(n_jobs=-1)]: Using backend LokyBackend with 16 concurrent workers.\n",
      "[Parallel(n_jobs=-1)]: Done   3 out of  22 | elapsed:    1.1s remaining:    7.0s\n",
      "[Parallel(n_jobs=-1)]: Done  15 out of  22 | elapsed:    1.2s remaining:    0.6s\n",
      "[Parallel(n_jobs=-1)]: Done  22 out of  22 | elapsed:    1.9s finished\n",
      "\n",
      "[2019-09-29 21:21:37] Features: 21/20 -- score: 0.08218982112803183[Parallel(n_jobs=-1)]: Using backend LokyBackend with 16 concurrent workers.\n",
      "[Parallel(n_jobs=-1)]: Done  12 out of  21 | elapsed:    1.2s remaining:    0.9s\n",
      "[Parallel(n_jobs=-1)]: Done  21 out of  21 | elapsed:    1.8s finished\n",
      "\n",
      "[2019-09-29 21:21:39] Features: 20/20 -- score: 0.07668166403451034[Parallel(n_jobs=-1)]: Using backend LokyBackend with 16 concurrent workers.\n",
      "[Parallel(n_jobs=-1)]: Done   9 tasks      | elapsed:    1.6s\n",
      "[Parallel(n_jobs=-1)]: Done  39 out of  46 | elapsed:    4.8s remaining:    0.9s\n",
      "[Parallel(n_jobs=-1)]: Done  46 out of  46 | elapsed:    4.8s finished\n",
      "\n",
      "[2019-09-29 21:21:45] Features: 45/21 -- score: -0.018707073911318584[Parallel(n_jobs=-1)]: Using backend LokyBackend with 16 concurrent workers.\n",
      "[Parallel(n_jobs=-1)]: Done   9 tasks      | elapsed:    1.6s\n",
      "[Parallel(n_jobs=-1)]: Done  37 out of  45 | elapsed:    4.8s remaining:    1.0s\n",
      "[Parallel(n_jobs=-1)]: Done  45 out of  45 | elapsed:    4.8s finished\n",
      "\n",
      "[2019-09-29 21:21:49] Features: 44/21 -- score: -0.03887780946781614[Parallel(n_jobs=-1)]: Using backend LokyBackend with 16 concurrent workers.\n",
      "[Parallel(n_jobs=-1)]: Done   9 tasks      | elapsed:    1.8s\n",
      "[Parallel(n_jobs=-1)]: Done  36 out of  44 | elapsed:    5.1s remaining:    1.1s\n",
      "[Parallel(n_jobs=-1)]: Done  44 out of  44 | elapsed:    5.2s finished\n",
      "\n",
      "[2019-09-29 21:21:55] Features: 43/21 -- score: -0.01337038491527176[Parallel(n_jobs=-1)]: Using backend LokyBackend with 16 concurrent workers.\n"
     ]
    },
    {
     "name": "stderr",
     "output_type": "stream",
     "text": [
      "[Parallel(n_jobs=-1)]: Done   9 tasks      | elapsed:    1.8s\n",
      "[Parallel(n_jobs=-1)]: Done  34 out of  43 | elapsed:    5.1s remaining:    1.3s\n",
      "[Parallel(n_jobs=-1)]: Done  43 out of  43 | elapsed:    5.2s finished\n",
      "\n",
      "[2019-09-29 21:22:00] Features: 42/21 -- score: -0.036219390140149986[Parallel(n_jobs=-1)]: Using backend LokyBackend with 16 concurrent workers.\n",
      "[Parallel(n_jobs=-1)]: Done   9 tasks      | elapsed:    1.9s\n",
      "[Parallel(n_jobs=-1)]: Done  33 out of  42 | elapsed:    5.1s remaining:    1.4s\n",
      "[Parallel(n_jobs=-1)]: Done  42 out of  42 | elapsed:    5.1s finished\n",
      "\n",
      "[2019-09-29 21:22:05] Features: 41/21 -- score: -0.028790465811088527[Parallel(n_jobs=-1)]: Using backend LokyBackend with 16 concurrent workers.\n",
      "[Parallel(n_jobs=-1)]: Done   9 tasks      | elapsed:    1.9s\n",
      "[Parallel(n_jobs=-1)]: Done  31 out of  41 | elapsed:    3.8s remaining:    1.2s\n",
      "[Parallel(n_jobs=-1)]: Done  41 out of  41 | elapsed:    5.0s finished\n",
      "\n",
      "[2019-09-29 21:22:10] Features: 40/21 -- score: -0.021780335128299376[Parallel(n_jobs=-1)]: Using backend LokyBackend with 16 concurrent workers.\n",
      "[Parallel(n_jobs=-1)]: Done   9 tasks      | elapsed:    1.8s\n",
      "[Parallel(n_jobs=-1)]: Done  30 out of  40 | elapsed:    3.6s remaining:    1.2s\n",
      "[Parallel(n_jobs=-1)]: Done  40 out of  40 | elapsed:    4.7s finished\n",
      "\n",
      "[2019-09-29 21:22:15] Features: 39/21 -- score: -0.01592925259279465[Parallel(n_jobs=-1)]: Using backend LokyBackend with 16 concurrent workers.\n",
      "[Parallel(n_jobs=-1)]: Done  28 out of  39 | elapsed:    3.5s remaining:    1.4s\n",
      "[Parallel(n_jobs=-1)]: Done  39 out of  39 | elapsed:    4.6s finished\n",
      "\n",
      "[2019-09-29 21:22:19] Features: 38/21 -- score: -0.03074320764241505[Parallel(n_jobs=-1)]: Using backend LokyBackend with 16 concurrent workers.\n",
      "[Parallel(n_jobs=-1)]: Done  27 out of  38 | elapsed:    3.3s remaining:    1.3s\n",
      "[Parallel(n_jobs=-1)]: Done  38 out of  38 | elapsed:    4.3s finished\n",
      "\n",
      "[2019-09-29 21:22:24] Features: 37/21 -- score: -0.008088075395570216[Parallel(n_jobs=-1)]: Using backend LokyBackend with 16 concurrent workers.\n",
      "[Parallel(n_jobs=-1)]: Done  25 out of  37 | elapsed:    3.1s remaining:    1.5s\n",
      "[Parallel(n_jobs=-1)]: Done  37 out of  37 | elapsed:    4.0s finished\n",
      "\n",
      "[2019-09-29 21:22:28] Features: 36/21 -- score: -0.006436193646107613[Parallel(n_jobs=-1)]: Using backend LokyBackend with 16 concurrent workers.\n",
      "[Parallel(n_jobs=-1)]: Done  24 out of  36 | elapsed:    3.0s remaining:    1.5s\n",
      "[Parallel(n_jobs=-1)]: Done  36 out of  36 | elapsed:    3.9s finished\n",
      "\n",
      "[2019-09-29 21:22:31] Features: 35/21 -- score: -0.0022400789628169494[Parallel(n_jobs=-1)]: Using backend LokyBackend with 16 concurrent workers.\n",
      "[Parallel(n_jobs=-1)]: Done  22 out of  35 | elapsed:    2.8s remaining:    1.7s\n",
      "[Parallel(n_jobs=-1)]: Done  35 out of  35 | elapsed:    3.7s finished\n",
      "\n",
      "[2019-09-29 21:22:35] Features: 34/21 -- score: 0.02439692207106987[Parallel(n_jobs=-1)]: Using backend LokyBackend with 16 concurrent workers.\n",
      "[Parallel(n_jobs=-1)]: Done  21 out of  34 | elapsed:    2.7s remaining:    1.7s\n",
      "[Parallel(n_jobs=-1)]: Done  34 out of  34 | elapsed:    3.6s finished\n",
      "\n",
      "[2019-09-29 21:22:39] Features: 33/21 -- score: 0.02165694545004728[Parallel(n_jobs=-1)]: Using backend LokyBackend with 16 concurrent workers.\n",
      "[Parallel(n_jobs=-1)]: Done  19 out of  33 | elapsed:    2.7s remaining:    2.0s\n",
      "[Parallel(n_jobs=-1)]: Done  33 out of  33 | elapsed:    3.5s finished\n",
      "\n",
      "[2019-09-29 21:22:42] Features: 32/21 -- score: 0.011243269492116847[Parallel(n_jobs=-1)]: Using backend LokyBackend with 16 concurrent workers.\n",
      "[Parallel(n_jobs=-1)]: Done  18 out of  32 | elapsed:    2.5s remaining:    2.0s\n",
      "[Parallel(n_jobs=-1)]: Done  32 out of  32 | elapsed:    2.6s finished\n",
      "\n",
      "[2019-09-29 21:22:45] Features: 31/21 -- score: 0.03906673949558916[Parallel(n_jobs=-1)]: Using backend LokyBackend with 16 concurrent workers.\n",
      "[Parallel(n_jobs=-1)]: Done  16 out of  31 | elapsed:    1.4s remaining:    1.3s\n",
      "[Parallel(n_jobs=-1)]: Done  31 out of  31 | elapsed:    2.6s finished\n",
      "\n",
      "[2019-09-29 21:22:47] Features: 30/21 -- score: 0.02893048372570848[Parallel(n_jobs=-1)]: Using backend LokyBackend with 16 concurrent workers.\n",
      "[Parallel(n_jobs=-1)]: Done  15 out of  30 | elapsed:    1.4s remaining:    1.4s\n",
      "[Parallel(n_jobs=-1)]: Done  30 out of  30 | elapsed:    2.6s finished\n",
      "\n",
      "[2019-09-29 21:22:50] Features: 29/21 -- score: 0.0371110362134512[Parallel(n_jobs=-1)]: Using backend LokyBackend with 16 concurrent workers.\n",
      "[Parallel(n_jobs=-1)]: Done  13 out of  29 | elapsed:    1.4s remaining:    1.7s\n",
      "[Parallel(n_jobs=-1)]: Done  29 out of  29 | elapsed:    2.5s finished\n",
      "\n",
      "[2019-09-29 21:22:53] Features: 28/21 -- score: 0.01964018709125932[Parallel(n_jobs=-1)]: Using backend LokyBackend with 16 concurrent workers.\n",
      "[Parallel(n_jobs=-1)]: Done  12 out of  28 | elapsed:    1.3s remaining:    1.8s\n",
      "[Parallel(n_jobs=-1)]: Done  28 out of  28 | elapsed:    2.4s finished\n",
      "\n",
      "[2019-09-29 21:22:55] Features: 27/21 -- score: 0.03020072601514312[Parallel(n_jobs=-1)]: Using backend LokyBackend with 16 concurrent workers.\n",
      "[Parallel(n_jobs=-1)]: Done  10 out of  27 | elapsed:    1.3s remaining:    2.3s\n",
      "[Parallel(n_jobs=-1)]: Done  24 out of  27 | elapsed:    2.4s remaining:    0.3s\n",
      "[Parallel(n_jobs=-1)]: Done  27 out of  27 | elapsed:    2.4s finished\n",
      "\n",
      "[2019-09-29 21:22:57] Features: 26/21 -- score: 0.039258216014428915[Parallel(n_jobs=-1)]: Using backend LokyBackend with 16 concurrent workers.\n",
      "[Parallel(n_jobs=-1)]: Done   9 out of  26 | elapsed:    1.3s remaining:    2.5s\n",
      "[Parallel(n_jobs=-1)]: Done  23 out of  26 | elapsed:    2.3s remaining:    0.3s\n",
      "[Parallel(n_jobs=-1)]: Done  26 out of  26 | elapsed:    2.3s finished\n",
      "\n",
      "[2019-09-29 21:23:00] Features: 25/21 -- score: 0.05192649789064931[Parallel(n_jobs=-1)]: Using backend LokyBackend with 16 concurrent workers.\n",
      "[Parallel(n_jobs=-1)]: Done   7 out of  25 | elapsed:    1.3s remaining:    3.3s\n",
      "[Parallel(n_jobs=-1)]: Done  20 out of  25 | elapsed:    2.2s remaining:    0.5s\n",
      "[Parallel(n_jobs=-1)]: Done  25 out of  25 | elapsed:    2.2s finished\n",
      "\n",
      "[2019-09-29 21:23:02] Features: 24/21 -- score: 0.03423152198222719[Parallel(n_jobs=-1)]: Using backend LokyBackend with 16 concurrent workers.\n",
      "[Parallel(n_jobs=-1)]: Done   6 out of  24 | elapsed:    1.2s remaining:    3.7s\n",
      "[Parallel(n_jobs=-1)]: Done  19 out of  24 | elapsed:    2.0s remaining:    0.5s\n",
      "[Parallel(n_jobs=-1)]: Done  24 out of  24 | elapsed:    2.0s finished\n",
      "\n",
      "[2019-09-29 21:23:04] Features: 23/21 -- score: 0.04316917378484815[Parallel(n_jobs=-1)]: Using backend LokyBackend with 16 concurrent workers.\n",
      "[Parallel(n_jobs=-1)]: Done   4 out of  23 | elapsed:    1.2s remaining:    5.6s\n",
      "[Parallel(n_jobs=-1)]: Done  16 out of  23 | elapsed:    1.3s remaining:    0.6s\n",
      "[Parallel(n_jobs=-1)]: Done  23 out of  23 | elapsed:    2.0s finished\n",
      "\n",
      "[2019-09-29 21:23:06] Features: 22/21 -- score: 0.07230855359265867[Parallel(n_jobs=-1)]: Using backend LokyBackend with 16 concurrent workers.\n",
      "[Parallel(n_jobs=-1)]: Done   3 out of  22 | elapsed:    1.2s remaining:    7.3s\n",
      "[Parallel(n_jobs=-1)]: Done  15 out of  22 | elapsed:    1.3s remaining:    0.6s\n",
      "[Parallel(n_jobs=-1)]: Done  22 out of  22 | elapsed:    1.9s finished\n",
      "\n",
      "[2019-09-29 21:23:08] Features: 21/21 -- score: 0.05925271220653907[Parallel(n_jobs=-1)]: Using backend LokyBackend with 16 concurrent workers.\n",
      "[Parallel(n_jobs=-1)]: Done   9 tasks      | elapsed:    1.7s\n",
      "[Parallel(n_jobs=-1)]: Done  39 out of  46 | elapsed:    4.8s remaining:    0.9s\n",
      "[Parallel(n_jobs=-1)]: Done  46 out of  46 | elapsed:    4.8s finished\n",
      "\n",
      "[2019-09-29 21:23:14] Features: 45/22 -- score: -0.028178959645162795[Parallel(n_jobs=-1)]: Using backend LokyBackend with 16 concurrent workers.\n",
      "[Parallel(n_jobs=-1)]: Done   9 tasks      | elapsed:    1.6s\n",
      "[Parallel(n_jobs=-1)]: Done  37 out of  45 | elapsed:    4.9s remaining:    1.1s\n",
      "[Parallel(n_jobs=-1)]: Done  45 out of  45 | elapsed:    5.0s finished\n",
      "\n",
      "[2019-09-29 21:23:19] Features: 44/22 -- score: -0.041898617730795326[Parallel(n_jobs=-1)]: Using backend LokyBackend with 16 concurrent workers.\n",
      "[Parallel(n_jobs=-1)]: Done   9 tasks      | elapsed:    1.7s\n",
      "[Parallel(n_jobs=-1)]: Done  36 out of  44 | elapsed:    4.9s remaining:    1.1s\n",
      "[Parallel(n_jobs=-1)]: Done  44 out of  44 | elapsed:    5.0s finished\n",
      "\n",
      "[2019-09-29 21:23:24] Features: 43/22 -- score: -0.02724546234801837[Parallel(n_jobs=-1)]: Using backend LokyBackend with 16 concurrent workers.\n"
     ]
    },
    {
     "name": "stderr",
     "output_type": "stream",
     "text": [
      "[Parallel(n_jobs=-1)]: Done   9 tasks      | elapsed:    1.8s\n",
      "[Parallel(n_jobs=-1)]: Done  34 out of  43 | elapsed:    4.8s remaining:    1.3s\n",
      "[Parallel(n_jobs=-1)]: Done  43 out of  43 | elapsed:    4.9s finished\n",
      "\n",
      "[2019-09-29 21:23:29] Features: 42/22 -- score: 0.0012911504366365679[Parallel(n_jobs=-1)]: Using backend LokyBackend with 16 concurrent workers.\n",
      "[Parallel(n_jobs=-1)]: Done   9 tasks      | elapsed:    1.7s\n",
      "[Parallel(n_jobs=-1)]: Done  33 out of  42 | elapsed:    4.7s remaining:    1.3s\n",
      "[Parallel(n_jobs=-1)]: Done  42 out of  42 | elapsed:    4.8s finished\n",
      "\n",
      "[2019-09-29 21:23:33] Features: 41/22 -- score: 0.008204634746469996[Parallel(n_jobs=-1)]: Using backend LokyBackend with 16 concurrent workers.\n",
      "[Parallel(n_jobs=-1)]: Done   9 tasks      | elapsed:    1.7s\n",
      "[Parallel(n_jobs=-1)]: Done  31 out of  41 | elapsed:    3.4s remaining:    1.1s\n",
      "[Parallel(n_jobs=-1)]: Done  41 out of  41 | elapsed:    4.6s finished\n",
      "\n",
      "[2019-09-29 21:23:38] Features: 40/22 -- score: 0.005248148485919524[Parallel(n_jobs=-1)]: Using backend LokyBackend with 16 concurrent workers.\n",
      "[Parallel(n_jobs=-1)]: Done   9 tasks      | elapsed:    1.7s\n",
      "[Parallel(n_jobs=-1)]: Done  30 out of  40 | elapsed:    3.3s remaining:    1.1s\n",
      "[Parallel(n_jobs=-1)]: Done  40 out of  40 | elapsed:    4.4s finished\n",
      "\n",
      "[2019-09-29 21:23:42] Features: 39/22 -- score: 0.0008364851992517464[Parallel(n_jobs=-1)]: Using backend LokyBackend with 16 concurrent workers.\n",
      "[Parallel(n_jobs=-1)]: Done  28 out of  39 | elapsed:    3.3s remaining:    1.3s\n",
      "[Parallel(n_jobs=-1)]: Done  39 out of  39 | elapsed:    4.3s finished\n",
      "\n",
      "[2019-09-29 21:23:47] Features: 38/22 -- score: 0.014603507817664618[Parallel(n_jobs=-1)]: Using backend LokyBackend with 16 concurrent workers.\n",
      "[Parallel(n_jobs=-1)]: Done  27 out of  38 | elapsed:    3.1s remaining:    1.2s\n",
      "[Parallel(n_jobs=-1)]: Done  38 out of  38 | elapsed:    4.0s finished\n",
      "\n",
      "[2019-09-29 21:23:51] Features: 37/22 -- score: 0.00020567753530880138[Parallel(n_jobs=-1)]: Using backend LokyBackend with 16 concurrent workers.\n",
      "[Parallel(n_jobs=-1)]: Done  25 out of  37 | elapsed:    3.0s remaining:    1.4s\n",
      "[Parallel(n_jobs=-1)]: Done  37 out of  37 | elapsed:    3.9s finished\n",
      "\n",
      "[2019-09-29 21:23:55] Features: 36/22 -- score: -0.01572676124755017[Parallel(n_jobs=-1)]: Using backend LokyBackend with 16 concurrent workers.\n",
      "[Parallel(n_jobs=-1)]: Done  24 out of  36 | elapsed:    2.9s remaining:    1.5s\n",
      "[Parallel(n_jobs=-1)]: Done  36 out of  36 | elapsed:    3.9s finished\n",
      "\n",
      "[2019-09-29 21:23:58] Features: 35/22 -- score: -0.017955408242851755[Parallel(n_jobs=-1)]: Using backend LokyBackend with 16 concurrent workers.\n",
      "[Parallel(n_jobs=-1)]: Done  22 out of  35 | elapsed:    2.8s remaining:    1.7s\n",
      "[Parallel(n_jobs=-1)]: Done  35 out of  35 | elapsed:    3.7s finished\n",
      "\n",
      "[2019-09-29 21:24:02] Features: 34/22 -- score: -0.0054270552866150235[Parallel(n_jobs=-1)]: Using backend LokyBackend with 16 concurrent workers.\n",
      "[Parallel(n_jobs=-1)]: Done  21 out of  34 | elapsed:    2.8s remaining:    1.7s\n",
      "[Parallel(n_jobs=-1)]: Done  34 out of  34 | elapsed:    3.7s finished\n",
      "\n",
      "[2019-09-29 21:24:06] Features: 33/22 -- score: -0.014746001479551251[Parallel(n_jobs=-1)]: Using backend LokyBackend with 16 concurrent workers.\n",
      "[Parallel(n_jobs=-1)]: Done  19 out of  33 | elapsed:    2.7s remaining:    2.0s\n",
      "[Parallel(n_jobs=-1)]: Done  33 out of  33 | elapsed:    3.6s finished\n",
      "\n",
      "[2019-09-29 21:24:09] Features: 32/22 -- score: -0.0053867789703972106[Parallel(n_jobs=-1)]: Using backend LokyBackend with 16 concurrent workers.\n",
      "[Parallel(n_jobs=-1)]: Done  18 out of  32 | elapsed:    2.6s remaining:    2.0s\n",
      "[Parallel(n_jobs=-1)]: Done  32 out of  32 | elapsed:    2.7s finished\n",
      "\n",
      "[2019-09-29 21:24:12] Features: 31/22 -- score: 0.008581328748177807[Parallel(n_jobs=-1)]: Using backend LokyBackend with 16 concurrent workers.\n",
      "[Parallel(n_jobs=-1)]: Done  16 out of  31 | elapsed:    1.4s remaining:    1.3s\n",
      "[Parallel(n_jobs=-1)]: Done  31 out of  31 | elapsed:    2.6s finished\n",
      "\n",
      "[2019-09-29 21:24:15] Features: 30/22 -- score: 0.028220419967354183[Parallel(n_jobs=-1)]: Using backend LokyBackend with 16 concurrent workers.\n",
      "[Parallel(n_jobs=-1)]: Done  15 out of  30 | elapsed:    1.3s remaining:    1.3s\n",
      "[Parallel(n_jobs=-1)]: Done  30 out of  30 | elapsed:    2.5s finished\n",
      "\n",
      "[2019-09-29 21:24:17] Features: 29/22 -- score: 0.013679240821746697[Parallel(n_jobs=-1)]: Using backend LokyBackend with 16 concurrent workers.\n",
      "[Parallel(n_jobs=-1)]: Done  13 out of  29 | elapsed:    1.3s remaining:    1.6s\n",
      "[Parallel(n_jobs=-1)]: Done  29 out of  29 | elapsed:    2.4s finished\n",
      "\n",
      "[2019-09-29 21:24:20] Features: 28/22 -- score: 0.020517661478697425[Parallel(n_jobs=-1)]: Using backend LokyBackend with 16 concurrent workers.\n",
      "[Parallel(n_jobs=-1)]: Done  12 out of  28 | elapsed:    1.3s remaining:    1.7s\n",
      "[Parallel(n_jobs=-1)]: Done  28 out of  28 | elapsed:    2.3s finished\n",
      "\n",
      "[2019-09-29 21:24:22] Features: 27/22 -- score: 0.019497437494614567[Parallel(n_jobs=-1)]: Using backend LokyBackend with 16 concurrent workers.\n",
      "[Parallel(n_jobs=-1)]: Done  10 out of  27 | elapsed:    1.2s remaining:    2.1s\n",
      "[Parallel(n_jobs=-1)]: Done  24 out of  27 | elapsed:    2.2s remaining:    0.3s\n",
      "[Parallel(n_jobs=-1)]: Done  27 out of  27 | elapsed:    2.2s finished\n",
      "\n",
      "[2019-09-29 21:24:24] Features: 26/22 -- score: 0.03165593060700718[Parallel(n_jobs=-1)]: Using backend LokyBackend with 16 concurrent workers.\n",
      "[Parallel(n_jobs=-1)]: Done   9 out of  26 | elapsed:    1.2s remaining:    2.3s\n",
      "[Parallel(n_jobs=-1)]: Done  23 out of  26 | elapsed:    2.1s remaining:    0.3s\n",
      "[Parallel(n_jobs=-1)]: Done  26 out of  26 | elapsed:    2.1s finished\n",
      "\n",
      "[2019-09-29 21:24:26] Features: 25/22 -- score: 0.04476824906150274[Parallel(n_jobs=-1)]: Using backend LokyBackend with 16 concurrent workers.\n",
      "[Parallel(n_jobs=-1)]: Done   7 out of  25 | elapsed:    1.2s remaining:    3.0s\n",
      "[Parallel(n_jobs=-1)]: Done  20 out of  25 | elapsed:    1.9s remaining:    0.5s\n",
      "[Parallel(n_jobs=-1)]: Done  25 out of  25 | elapsed:    2.0s finished\n",
      "\n",
      "[2019-09-29 21:24:28] Features: 24/22 -- score: 0.04415016363943138[Parallel(n_jobs=-1)]: Using backend LokyBackend with 16 concurrent workers.\n",
      "[Parallel(n_jobs=-1)]: Done   6 out of  24 | elapsed:    1.2s remaining:    3.5s\n",
      "[Parallel(n_jobs=-1)]: Done  19 out of  24 | elapsed:    1.9s remaining:    0.5s\n",
      "[Parallel(n_jobs=-1)]: Done  24 out of  24 | elapsed:    1.9s finished\n",
      "\n",
      "[2019-09-29 21:24:30] Features: 23/22 -- score: 0.05125137542996914[Parallel(n_jobs=-1)]: Using backend LokyBackend with 16 concurrent workers.\n",
      "[Parallel(n_jobs=-1)]: Done   4 out of  23 | elapsed:    1.1s remaining:    5.2s\n",
      "[Parallel(n_jobs=-1)]: Done  16 out of  23 | elapsed:    1.2s remaining:    0.5s\n",
      "[Parallel(n_jobs=-1)]: Done  23 out of  23 | elapsed:    1.8s finished\n",
      "\n",
      "[2019-09-29 21:24:32] Features: 22/22 -- score: 0.043714037134597074"
     ]
    }
   ],
   "source": [
    "# step backward greedy selection algorithm\n",
    "\n",
    "features = [15, 16,17,18, 19, 20, 21, 22]\n",
    "selected_features= []\n",
    "for i in features:\n",
    "    sfs1 = SFS(RandomForestRegressor(n_estimators = 100), \n",
    "           n_jobs = -1,\n",
    "           k_features=i, \n",
    "           forward=False, \n",
    "           floating=False, \n",
    "           verbose=2,\n",
    "           scoring='r2',\n",
    "           cv=5)\n",
    "\n",
    "    sfs1 = sfs1.fit(np.array(X_train), np.ravel(y_train))\n",
    "    selected_feat= X_train.columns[list(sfs1.k_feature_idx_)]\n",
    "    selected_features.append(selected_feat)"
   ]
  },
  {
   "cell_type": "code",
   "execution_count": 42,
   "metadata": {},
   "outputs": [
    {
     "name": "stdout",
     "output_type": "stream",
     "text": [
      "Min test mse of 9.710032064151306\n",
      "Corresponding features list is: , X2, X3, X6, X7, X11, X12, X15, X25, X29, X30, X33, X35, X38, X39, X40, X41, X42, X44, X46, X47, X48, X49\n"
     ]
    }
   ],
   "source": [
    "# evaluate performance of algorithm built using selected features\n",
    "\n",
    "min_test_mse = 1000\n",
    "features_of_min_test = None\n",
    "for feat_list in selected_features:\n",
    "    train_mse, test_mse = get_random_forest(X_trained_scaled[feat_list].fillna(0),\n",
    "                                              X_test_scaled[feat_list].fillna(0),\n",
    "                                              np.ravel(y_train), y_test)\n",
    "    if test_mse < min_test_mse:\n",
    "        min_test_mse = test_mse\n",
    "        features_of_min_test = feat_list\n",
    "\n",
    "print(f'Min test mse of {min_test_mse}')\n",
    "print('Corresponding features list is: ', *features_of_min_test, sep=', ') "
   ]
  },
  {
   "cell_type": "markdown",
   "metadata": {},
   "source": [
    "### 5. Exhaustive feature selection"
   ]
  },
  {
   "cell_type": "code",
   "execution_count": 67,
   "metadata": {},
   "outputs": [],
   "source": [
    "from mlxtend.feature_selection import ExhaustiveFeatureSelector as EFS"
   ]
  },
  {
   "cell_type": "code",
   "execution_count": 70,
   "metadata": {},
   "outputs": [
    {
     "name": "stderr",
     "output_type": "stream",
     "text": [
      "Features: 31/31"
     ]
    }
   ],
   "source": [
    "# exhaustive search\n",
    "\n",
    "# in order to shorter search time for the demonstration\n",
    "# i will ask the algorithm to try all possible 1,2,3 and 4\n",
    "# feature combinations from a dataset of 4 features\n",
    "\n",
    "# if you have access to a multicore or distributed computer\n",
    "# system you can try more greedy searches\n",
    "\n",
    "efs1 = EFS(RandomForestRegressor(n_jobs=-1,n_estimators = 100), \n",
    "           min_features=1,\n",
    "           max_features=5, \n",
    "           scoring='r2',\n",
    "           print_progress=True,\n",
    "           cv=5)\n",
    "\n",
    "efs1 = efs1.fit(np.array(X_train[X_train.columns[0:5]]), np.ravel(y_train))"
   ]
  },
  {
   "cell_type": "code",
   "execution_count": 71,
   "metadata": {},
   "outputs": [
    {
     "data": {
      "text/plain": [
       "Index(['X1', 'X2', 'X4', 'X5', 'X8', 'X9', 'X11', 'X12', 'X13', 'X14', 'X16',\n",
       "       'X17', 'X18', 'X19', 'X24', 'X30', 'X32', 'X33', 'X35', 'X39', 'X44',\n",
       "       'X48'],\n",
       "      dtype='object')"
      ]
     },
     "execution_count": 71,
     "metadata": {},
     "output_type": "execute_result"
    }
   ],
   "source": [
    "selected_feat= X_train.columns[list(sfs1.k_feature_idx_)]\n",
    "selected_feat"
   ]
  },
  {
   "cell_type": "markdown",
   "metadata": {},
   "source": [
    "### Lasso"
   ]
  },
  {
   "cell_type": "code",
   "execution_count": 72,
   "metadata": {},
   "outputs": [],
   "source": [
    "from sklearn.linear_model import Lasso, LogisticRegression\n",
    "from sklearn.feature_selection import SelectFromModel\n",
    "from sklearn.preprocessing import StandardScaler\n",
    "from sklearn.linear_model import LassoCV"
   ]
  },
  {
   "cell_type": "code",
   "execution_count": 102,
   "metadata": {},
   "outputs": [
    {
     "data": {
      "text/plain": [
       "SelectFromModel(estimator=LassoCV(alphas=None, copy_X=True, cv=5, eps=0.001,\n",
       "                                  fit_intercept=True, max_iter=1000,\n",
       "                                  n_alphas=100, n_jobs=None, normalize=False,\n",
       "                                  positive=False, precompute='auto',\n",
       "                                  random_state=None, selection='cyclic',\n",
       "                                  tol=0.0001, verbose=False),\n",
       "                max_features=None, norm_order=1, prefit=False, threshold=0.1)"
      ]
     },
     "execution_count": 102,
     "metadata": {},
     "output_type": "execute_result"
    }
   ],
   "source": [
    "# here, again I will train a Lasso Linear regression and select\n",
    "# the non zero features in one line.\n",
    "# bear in mind that the linear regression object from sklearn does\n",
    "# not allow for regularisation. So If you want to make a regularised\n",
    "# linear regression you need to import specifically \"Lasso\"\n",
    "# that is the l1 version of the linear regression\n",
    "# alpha is the penalisation here, so I set it high in order\n",
    "# to force the algorithm to shrink some coefficients\n",
    "\n",
    "clf = LassoCV(cv=5)\n",
    "sel_ = SelectFromModel(clf, threshold=0.1)\n",
    "sel_.fit(X_train.fillna(0), np.ravel(y_train))"
   ]
  },
  {
   "cell_type": "code",
   "execution_count": 103,
   "metadata": {},
   "outputs": [],
   "source": [
    "#sel_.get_support()"
   ]
  },
  {
   "cell_type": "code",
   "execution_count": 104,
   "metadata": {},
   "outputs": [
    {
     "name": "stdout",
     "output_type": "stream",
     "text": [
      "total features: 46\n",
      "selected features: 15\n",
      "features with coefficients shrank to zero: 24\n"
     ]
    }
   ],
   "source": [
    "# make a list with the selected features and print the outputs\n",
    "selected_feat = X_train.columns[(sel_.get_support())]\n",
    "\n",
    "print('total features: {}'.format((X_train.shape[1])))\n",
    "print('selected features: {}'.format(len(selected_feat)))\n",
    "print('features with coefficients shrank to zero: {}'.format(\n",
    "    np.sum(sel_.estimator_.coef_ == 0)))"
   ]
  },
  {
   "cell_type": "code",
   "execution_count": 105,
   "metadata": {},
   "outputs": [
    {
     "data": {
      "text/plain": [
       "Index(['X1', 'X2', 'X6', 'X7', 'X11', 'X15', 'X18', 'X20', 'X27', 'X35', 'X38',\n",
       "       'X39', 'X45', 'X46', 'X49'],\n",
       "      dtype='object')"
      ]
     },
     "execution_count": 105,
     "metadata": {},
     "output_type": "execute_result"
    }
   ],
   "source": [
    "selected_feat"
   ]
  },
  {
   "cell_type": "code",
   "execution_count": 106,
   "metadata": {},
   "outputs": [
    {
     "name": "stdout",
     "output_type": "stream",
     "text": [
      "Min test mse of 9.331037554299717\n",
      "Corresponding features list is: , X1, X2, X4, X5, X8, X9, X11, X12, X13, X14, X16, X17, X18, X19, X24, X30, X32, X33, X35, X39, X44, X48\n"
     ]
    }
   ],
   "source": [
    "# evaluate performance of algorithm built using selected features\n",
    "\n",
    "min_test_mse = 1000\n",
    "features_of_min_test = None\n",
    "train_mse, test_mse = get_random_forest(X_trained_scaled[selected_feat].fillna(0),\n",
    "                                              X_test_scaled[selected_feat].fillna(0),\n",
    "                                              np.ravel(y_train), y_test)\n",
    "if test_mse < min_test_mse:\n",
    "    min_test_mse = test_mse\n",
    "    features_of_min_test = feat_list\n",
    "\n",
    "print(f'Min test mse of {min_test_mse}')\n",
    "print('Corresponding features list is: ', *features_of_min_test, sep=', ') "
   ]
  },
  {
   "cell_type": "markdown",
   "metadata": {},
   "source": [
    "### Lasso Lars"
   ]
  },
  {
   "cell_type": "code",
   "execution_count": 110,
   "metadata": {},
   "outputs": [],
   "source": [
    "from sklearn.linear_model import LassoLarsCV"
   ]
  },
  {
   "cell_type": "code",
   "execution_count": 123,
   "metadata": {},
   "outputs": [
    {
     "data": {
      "text/plain": [
       "SelectFromModel(estimator=LassoLarsCV(copy_X=True, cv=5,\n",
       "                                      eps=2.220446049250313e-16,\n",
       "                                      fit_intercept=True, max_iter=500,\n",
       "                                      max_n_alphas=1000, n_jobs=None,\n",
       "                                      normalize=True, positive=False,\n",
       "                                      precompute='auto', verbose=False),\n",
       "                max_features=None, norm_order=1, prefit=False, threshold=0.1)"
      ]
     },
     "execution_count": 123,
     "metadata": {},
     "output_type": "execute_result"
    }
   ],
   "source": [
    "# here, again I will train a Lasso Linear regression and select\n",
    "# the non zero features in one line.\n",
    "# bear in mind that the linear regression object from sklearn does\n",
    "# not allow for regularisation. So If you want to make a regularised\n",
    "# linear regression you need to import specifically \"Lasso\"\n",
    "# that is the l1 version of the linear regression\n",
    "# alpha is the penalisation here, so I set it high in order\n",
    "# to force the algorithm to shrink some coefficients\n",
    "\n",
    "clf = LassoLarsCV(cv=5)\n",
    "sel_ = SelectFromModel(clf, threshold=0.1)\n",
    "sel_.fit(X_train.fillna(0), np.ravel(y_train))"
   ]
  },
  {
   "cell_type": "code",
   "execution_count": 124,
   "metadata": {},
   "outputs": [
    {
     "data": {
      "text/plain": [
       "array([ True,  True, False, False, False,  True,  True, False, False,\n",
       "       False,  True, False, False, False,  True, False, False,  True,\n",
       "       False,  True, False, False, False, False, False, False, False,\n",
       "       False, False, False, False, False,  True,  True, False, False,\n",
       "       False,  True, False, False, False, False,  True, False, False,\n",
       "        True])"
      ]
     },
     "execution_count": 124,
     "metadata": {},
     "output_type": "execute_result"
    }
   ],
   "source": [
    "sel_.get_support()"
   ]
  },
  {
   "cell_type": "code",
   "execution_count": 125,
   "metadata": {},
   "outputs": [
    {
     "name": "stdout",
     "output_type": "stream",
     "text": [
      "total features: 46\n",
      "selected features: 13\n",
      "features with coefficients shrank to zero: 26\n"
     ]
    }
   ],
   "source": [
    "# make a list with the selected features and print the outputs\n",
    "selected_feat = X_train.columns[(sel_.get_support())]\n",
    "\n",
    "print('total features: {}'.format((X_train.shape[1])))\n",
    "print('selected features: {}'.format(len(selected_feat)))\n",
    "print('features with coefficients shrank to zero: {}'.format(\n",
    "    np.sum(sel_.estimator_.coef_ == 0)))"
   ]
  },
  {
   "cell_type": "code",
   "execution_count": 126,
   "metadata": {},
   "outputs": [
    {
     "name": "stdout",
     "output_type": "stream",
     "text": [
      "Min test mse of 9.291253580036333\n",
      "Corresponding features list is: , X1, X2, X4, X5, X8, X9, X11, X12, X13, X14, X16, X17, X18, X19, X24, X30, X32, X33, X35, X39, X44, X48\n"
     ]
    }
   ],
   "source": [
    "# evaluate performance of algorithm built using selected features\n",
    "\n",
    "min_test_mse = 1000\n",
    "features_of_min_test = None\n",
    "train_mse, test_mse = get_random_forest(X_trained_scaled[selected_feat].fillna(0),\n",
    "                                              X_test_scaled[selected_feat].fillna(0),\n",
    "                                              np.ravel(y_train), y_test)\n",
    "if test_mse < min_test_mse:\n",
    "    min_test_mse = test_mse\n",
    "    features_of_min_test = feat_list\n",
    "\n",
    "print(f'Min test mse of {min_test_mse}')\n",
    "print('Corresponding features list is: ', *features_of_min_test, sep=', ') "
   ]
  },
  {
   "cell_type": "markdown",
   "metadata": {},
   "source": [
    "### Lars "
   ]
  },
  {
   "cell_type": "code",
   "execution_count": 158,
   "metadata": {},
   "outputs": [],
   "source": [
    "from sklearn.linear_model import LarsCV"
   ]
  },
  {
   "cell_type": "code",
   "execution_count": 163,
   "metadata": {},
   "outputs": [
    {
     "data": {
      "text/plain": [
       "SelectFromModel(estimator=LarsCV(copy_X=True, cv=5, eps=2.220446049250313e-16,\n",
       "                                 fit_intercept=True, max_iter=500,\n",
       "                                 max_n_alphas=1000, n_jobs=None, normalize=True,\n",
       "                                 positive=False, precompute='auto',\n",
       "                                 verbose=False),\n",
       "                max_features=None, norm_order=1, prefit=False, threshold=0.1)"
      ]
     },
     "execution_count": 163,
     "metadata": {},
     "output_type": "execute_result"
    }
   ],
   "source": [
    "# here, again I will train a Lasso Linear regression and select\n",
    "# the non zero features in one line.\n",
    "# bear in mind that the linear regression object from sklearn does\n",
    "# not allow for regularisation. So If you want to make a regularised\n",
    "# linear regression you need to import specifically \"Lasso\"\n",
    "# that is the l1 version of the linear regression\n",
    "# alpha is the penalisation here, so I set it high in order\n",
    "# to force the algorithm to shrink some coefficients\n",
    "\n",
    "clf = LarsCV(cv=5)\n",
    "sel_ = SelectFromModel(clf, threshold=0.1)\n",
    "sel_.fit(X_train.fillna(0), np.ravel(y_train))"
   ]
  },
  {
   "cell_type": "code",
   "execution_count": 164,
   "metadata": {},
   "outputs": [
    {
     "data": {
      "text/plain": [
       "array([False, False, False, False, False, False, False, False, False,\n",
       "       False,  True, False, False, False,  True, False, False, False,\n",
       "       False,  True, False, False, False, False, False, False, False,\n",
       "       False, False, False, False, False, False, False, False, False,\n",
       "       False, False, False, False, False, False,  True, False, False,\n",
       "       False])"
      ]
     },
     "execution_count": 164,
     "metadata": {},
     "output_type": "execute_result"
    }
   ],
   "source": [
    "sel_.get_support()"
   ]
  },
  {
   "cell_type": "code",
   "execution_count": 165,
   "metadata": {},
   "outputs": [
    {
     "name": "stdout",
     "output_type": "stream",
     "text": [
      "total features: 46\n",
      "selected features: 4\n",
      "features with coefficients shrank to zero: 38\n"
     ]
    }
   ],
   "source": [
    "# make a list with the selected features and print the outputs\n",
    "selected_feat = X_train.columns[(sel_.get_support())]\n",
    "\n",
    "print('total features: {}'.format((X_train.shape[1])))\n",
    "print('selected features: {}'.format(len(selected_feat)))\n",
    "print('features with coefficients shrank to zero: {}'.format(\n",
    "    np.sum(sel_.estimator_.coef_ == 0)))"
   ]
  },
  {
   "cell_type": "code",
   "execution_count": 166,
   "metadata": {},
   "outputs": [
    {
     "name": "stdout",
     "output_type": "stream",
     "text": [
      "Min test mse of 9.08700723743585\n",
      "Corresponding features list is: , X1, X2, X4, X5, X8, X9, X11, X12, X13, X14, X16, X17, X18, X19, X24, X30, X32, X33, X35, X39, X44, X48\n"
     ]
    }
   ],
   "source": [
    "# evaluate performance of algorithm built using selected features\n",
    "\n",
    "min_test_mse = 1000\n",
    "features_of_min_test = None\n",
    "train_mse, test_mse = get_random_forest(X_trained_scaled[selected_feat].fillna(0),\n",
    "                                              X_test_scaled[selected_feat].fillna(0),\n",
    "                                              np.ravel(y_train), y_test)\n",
    "if test_mse < min_test_mse:\n",
    "    min_test_mse = test_mse\n",
    "    features_of_min_test = feat_list\n",
    "\n",
    "print(f'Min test mse of {min_test_mse}')\n",
    "print('Corresponding features list is: ', *features_of_min_test, sep=', ') "
   ]
  },
  {
   "cell_type": "markdown",
   "metadata": {},
   "source": [
    "### ElasticNetCV"
   ]
  },
  {
   "cell_type": "code",
   "execution_count": 137,
   "metadata": {},
   "outputs": [],
   "source": [
    "from sklearn.linear_model import ElasticNetCV"
   ]
  },
  {
   "cell_type": "code",
   "execution_count": 154,
   "metadata": {},
   "outputs": [
    {
     "data": {
      "text/plain": [
       "SelectFromModel(estimator=ElasticNetCV(alphas=None, copy_X=True, cv=5,\n",
       "                                       eps=0.001, fit_intercept=True,\n",
       "                                       l1_ratio=1.5, max_iter=1000,\n",
       "                                       n_alphas=100, n_jobs=None,\n",
       "                                       normalize=False, positive=False,\n",
       "                                       precompute='auto', random_state=None,\n",
       "                                       selection='cyclic', tol=0.0001,\n",
       "                                       verbose=0),\n",
       "                max_features=None, norm_order=1, prefit=False, threshold=0.5)"
      ]
     },
     "execution_count": 154,
     "metadata": {},
     "output_type": "execute_result"
    }
   ],
   "source": [
    "# bear in mind that the linear regression object from sklearn does\n",
    "# not allow for regularisation. So If you want to make a regularised\n",
    "# linear regression you need to import specifically \"Lasso\"\n",
    "# that is the l1 version of the linear regression\n",
    "# alpha is the penalisation here, so I set it high in order\n",
    "# to force the algorithm to shrink some coefficients\n",
    "\n",
    "clf = ElasticNetCV(cv=5, l1_ratio=1.5)\n",
    "sel_ = SelectFromModel(clf, threshold=0.5)\n",
    "sel_.fit(X_train.fillna(0), np.ravel(y_train))\n"
   ]
  },
  {
   "cell_type": "code",
   "execution_count": 155,
   "metadata": {},
   "outputs": [
    {
     "data": {
      "text/plain": [
       "array([False, False, False, False, False,  True,  True, False, False,\n",
       "       False,  True, False, False, False,  True, False, False, False,\n",
       "       False, False, False, False, False, False, False, False, False,\n",
       "       False, False, False, False, False, False, False, False, False,\n",
       "       False, False, False, False, False, False,  True, False, False,\n",
       "       False])"
      ]
     },
     "execution_count": 155,
     "metadata": {},
     "output_type": "execute_result"
    }
   ],
   "source": [
    "sel_.get_support()"
   ]
  },
  {
   "cell_type": "code",
   "execution_count": 156,
   "metadata": {},
   "outputs": [
    {
     "name": "stdout",
     "output_type": "stream",
     "text": [
      "total features: 46\n",
      "selected features: 5\n",
      "features with coefficients shrank to zero: 28\n"
     ]
    }
   ],
   "source": [
    "# make a list with the selected features and print the outputs\n",
    "selected_feat = X_train.columns[(sel_.get_support())]\n",
    "\n",
    "\n",
    "print('total features: {}'.format((X_train.shape[1])))\n",
    "print('selected features: {}'.format(len(selected_feat)))\n",
    "print('features with coefficients shrank to zero: {}'.format(\n",
    "    np.sum(sel_.estimator_.coef_ == 0)))"
   ]
  },
  {
   "cell_type": "code",
   "execution_count": 157,
   "metadata": {},
   "outputs": [
    {
     "name": "stdout",
     "output_type": "stream",
     "text": [
      "Min test mse of 8.162353101376423\n",
      "Corresponding features list is: , X1, X2, X4, X5, X8, X9, X11, X12, X13, X14, X16, X17, X18, X19, X24, X30, X32, X33, X35, X39, X44, X48\n"
     ]
    }
   ],
   "source": [
    "# evaluate performance of algorithm built using selected features\n",
    "\n",
    "min_test_mse = 1000\n",
    "features_of_min_test = None\n",
    "train_mse, test_mse = get_random_forest(X_trained_scaled[selected_feat].fillna(0),\n",
    "                                              X_test_scaled[selected_feat].fillna(0),\n",
    "                                              np.ravel(y_train), y_test)\n",
    "if test_mse < min_test_mse:\n",
    "    min_test_mse = test_mse\n",
    "    features_of_min_test = feat_list\n",
    "\n",
    "print(f'Min test mse of {min_test_mse}')\n",
    "print('Corresponding features list is: ', *features_of_min_test, sep=', ') "
   ]
  },
  {
   "cell_type": "markdown",
   "metadata": {},
   "source": [
    "### Linear Regression coefficients"
   ]
  },
  {
   "cell_type": "code",
   "execution_count": 167,
   "metadata": {},
   "outputs": [],
   "source": [
    "from sklearn.linear_model import LinearRegression"
   ]
  },
  {
   "cell_type": "code",
   "execution_count": 168,
   "metadata": {},
   "outputs": [
    {
     "data": {
      "text/plain": [
       "SelectFromModel(estimator=LinearRegression(copy_X=True, fit_intercept=True,\n",
       "                                           n_jobs=None, normalize=False),\n",
       "                max_features=None, norm_order=1, prefit=False, threshold=None)"
      ]
     },
     "execution_count": 168,
     "metadata": {},
     "output_type": "execute_result"
    }
   ],
   "source": [
    "# here, again I will train a Linear regression and select\n",
    "# features with higher coefficients all in one line of code.\n",
    "\n",
    "# the LinearRegression object from sklearn is a non-regularised\n",
    "# linear method. It fits by matrix multiplication and not \n",
    "# gradient descent.\n",
    "\n",
    "# therefore I don't need to specify penalty and other parameters\n",
    "\n",
    "sel_ = SelectFromModel(LinearRegression())\n",
    "sel_.fit(X_train.fillna(0), y_train)"
   ]
  },
  {
   "cell_type": "code",
   "execution_count": 169,
   "metadata": {},
   "outputs": [
    {
     "data": {
      "text/plain": [
       "17"
      ]
     },
     "execution_count": 169,
     "metadata": {},
     "output_type": "execute_result"
    }
   ],
   "source": [
    "# let's count the number of variables selected\n",
    "selected_feat = X_train.columns[(sel_.get_support())]\n",
    "len(selected_feat)"
   ]
  },
  {
   "cell_type": "code",
   "execution_count": 170,
   "metadata": {},
   "outputs": [
    {
     "name": "stdout",
     "output_type": "stream",
     "text": [
      "total features: 46\n",
      "selected features: 17\n",
      "features with coefficients greater than the mean coefficient: 17\n"
     ]
    }
   ],
   "source": [
    "# and now, let's compare the  amount of selected features\n",
    "# with the amount of features which coefficient is above the\n",
    "# mean coefficient, to make sure we understand the output of\n",
    "# sklearn\n",
    "\n",
    "print('total features: {}'.format((X_train.shape[1])))\n",
    "print('selected features: {}'.format(len(selected_feat)))\n",
    "print('features with coefficients greater than the mean coefficient: {}'.format(\n",
    "    np.sum(np.abs(sel_.estimator_.coef_) > np.abs(sel_.estimator_.coef_).mean())))"
   ]
  },
  {
   "cell_type": "code",
   "execution_count": 171,
   "metadata": {},
   "outputs": [
    {
     "name": "stdout",
     "output_type": "stream",
     "text": [
      "Min test mse of 8.834856409288625\n",
      "Corresponding features list is: , X1, X2, X4, X5, X8, X9, X11, X12, X13, X14, X16, X17, X18, X19, X24, X30, X32, X33, X35, X39, X44, X48\n"
     ]
    }
   ],
   "source": [
    "# evaluate performance of algorithm built using selected features\n",
    "\n",
    "min_test_mse = 1000\n",
    "features_of_min_test = None\n",
    "train_mse, test_mse = get_random_forest(X_trained_scaled[selected_feat].fillna(0),\n",
    "                                              X_test_scaled[selected_feat].fillna(0),\n",
    "                                              np.ravel(y_train), y_test)\n",
    "if test_mse < min_test_mse:\n",
    "    min_test_mse = test_mse\n",
    "    features_of_min_test = feat_list\n",
    "\n",
    "print(f'Min test mse of {min_test_mse}')\n",
    "print('Corresponding features list is: ', *features_of_min_test, sep=', ') "
   ]
  },
  {
   "cell_type": "code",
   "execution_count": 172,
   "metadata": {},
   "outputs": [
    {
     "data": {
      "text/plain": [
       "SelectFromModel(estimator=RandomForestRegressor(bootstrap=True, criterion='mse',\n",
       "                                                max_depth=None,\n",
       "                                                max_features='auto',\n",
       "                                                max_leaf_nodes=None,\n",
       "                                                min_impurity_decrease=0.0,\n",
       "                                                min_impurity_split=None,\n",
       "                                                min_samples_leaf=1,\n",
       "                                                min_samples_split=2,\n",
       "                                                min_weight_fraction_leaf=0.0,\n",
       "                                                n_estimators=100, n_jobs=None,\n",
       "                                                oob_score=False,\n",
       "                                                random_state=None, verbose=0,\n",
       "                                                warm_start=False),\n",
       "                max_features=None, norm_order=1, prefit=False, threshold=None)"
      ]
     },
     "execution_count": 172,
     "metadata": {},
     "output_type": "execute_result"
    }
   ],
   "source": [
    "# here I will do the model fitting and feature selection\n",
    "# altogether in one line of code\n",
    "\n",
    "# first I specify the Random Forest instance, indicating\n",
    "# the number of trees (the default value in sklearn is 10\n",
    "\n",
    "# Then I use the selectFromModel object from sklearn\n",
    "# to automatically select the features\n",
    "\n",
    "# SelectFrom model will select those features which importance\n",
    "# is greater than the mean importance of all the features\n",
    "# by default, but you can alter this threshold if you want to\n",
    "\n",
    "sel_ = SelectFromModel(RandomForestRegressor(n_estimators=100))\n",
    "sel_.fit(X_train.fillna(0), np.ravel(y_train))"
   ]
  },
  {
   "cell_type": "code",
   "execution_count": 173,
   "metadata": {},
   "outputs": [
    {
     "data": {
      "text/plain": [
       "18"
      ]
     },
     "execution_count": 173,
     "metadata": {},
     "output_type": "execute_result"
    }
   ],
   "source": [
    "# let's make a list and count the selected features\n",
    "selected_feat = X_train.columns[(sel_.get_support())]\n",
    "len(selected_feat)"
   ]
  },
  {
   "cell_type": "code",
   "execution_count": 174,
   "metadata": {},
   "outputs": [
    {
     "name": "stdout",
     "output_type": "stream",
     "text": [
      "total features: 46\n",
      "selected features: 18\n",
      "features with coefficients greater than the mean coefficient: 18\n"
     ]
    }
   ],
   "source": [
    "# and now, let's compare the  amount of selected features\n",
    "# with the amount of features which importance is above the\n",
    "# mean importance, to make sure we understand the output of\n",
    "# sklearn\n",
    "\n",
    "print('total features: {}'.format((X_train.shape[1])))\n",
    "print('selected features: {}'.format(len(selected_feat)))\n",
    "print('features with coefficients greater than the mean coefficient: {}'.format(\n",
    "    np.sum(sel_.estimator_.feature_importances_ > sel_.estimator_.feature_importances_.mean())))"
   ]
  },
  {
   "cell_type": "code",
   "execution_count": 175,
   "metadata": {},
   "outputs": [
    {
     "name": "stdout",
     "output_type": "stream",
     "text": [
      "Min test mse of 8.993832406639806\n",
      "Corresponding features list is: , X1, X2, X4, X5, X8, X9, X11, X12, X13, X14, X16, X17, X18, X19, X24, X30, X32, X33, X35, X39, X44, X48\n"
     ]
    }
   ],
   "source": [
    "# evaluate performance of algorithm built using selected features\n",
    "\n",
    "min_test_mse = 1000\n",
    "features_of_min_test = None\n",
    "train_mse, test_mse = get_random_forest(X_trained_scaled[selected_feat].fillna(0),\n",
    "                                              X_test_scaled[selected_feat].fillna(0),\n",
    "                                              np.ravel(y_train), y_test)\n",
    "if test_mse < min_test_mse:\n",
    "    min_test_mse = test_mse\n",
    "    features_of_min_test = feat_list\n",
    "\n",
    "print(f'Min test mse of {min_test_mse}')\n",
    "print('Corresponding features list is: ', *features_of_min_test, sep=', ') "
   ]
  },
  {
   "cell_type": "markdown",
   "metadata": {},
   "source": [
    "### Univariate  mse"
   ]
  },
  {
   "cell_type": "code",
   "execution_count": 176,
   "metadata": {},
   "outputs": [],
   "source": [
    "\n",
    "from sklearn.tree import DecisionTreeClassifier, DecisionTreeRegressor\n",
    "from sklearn.metrics import roc_auc_score, mean_squared_error"
   ]
  },
  {
   "cell_type": "code",
   "execution_count": 177,
   "metadata": {},
   "outputs": [],
   "source": [
    "# loop to build a tree, make predictions and get the mse\n",
    "# for each feature of the train set\n",
    "mse_values = []\n",
    "for feature in X_train.columns:\n",
    "    clf = DecisionTreeRegressor()\n",
    "    clf.fit(X_train[feature].fillna(0).to_frame(), y_train)\n",
    "    y_scored = clf.predict(X_test[feature].fillna(0).to_frame())\n",
    "    mse_values.append(mean_squared_error(y_test, y_scored))"
   ]
  },
  {
   "cell_type": "code",
   "execution_count": 178,
   "metadata": {},
   "outputs": [
    {
     "data": {
      "text/plain": [
       "X7     27.169376\n",
       "X44    27.026146\n",
       "X21    26.880007\n",
       "X36    25.359673\n",
       "X34    24.491553\n",
       "X3     24.271263\n",
       "X11    24.258960\n",
       "X17    23.937119\n",
       "X27    23.378583\n",
       "X12    23.200015\n",
       "X8     23.170794\n",
       "X45    22.888973\n",
       "X6     22.606054\n",
       "X19    22.329720\n",
       "X28    22.164548\n",
       "X48    21.962886\n",
       "X35    21.710712\n",
       "X30    21.405557\n",
       "X15    21.163080\n",
       "X47    21.149449\n",
       "X1     21.087231\n",
       "X40    20.003587\n",
       "X33    19.932398\n",
       "X20    19.824906\n",
       "X49    19.609226\n",
       "X32    19.546458\n",
       "X29    19.418746\n",
       "X18    19.366037\n",
       "X39    19.220649\n",
       "X5     19.212567\n",
       "X23    19.004270\n",
       "X42    18.722276\n",
       "X46    17.873671\n",
       "X9     17.846613\n",
       "X16    17.554889\n",
       "X37    17.130798\n",
       "X2     16.595021\n",
       "X4     16.163625\n",
       "X31    15.977529\n",
       "X14    15.902140\n",
       "X10    15.243997\n",
       "X25    14.762108\n",
       "X13    13.931188\n",
       "X38    12.988862\n",
       "X22    12.780820\n",
       "X24    12.670608\n",
       "dtype: float64"
      ]
     },
     "execution_count": 178,
     "metadata": {},
     "output_type": "execute_result"
    }
   ],
   "source": [
    "# let's add the variable names and order it for clearer visualisation\n",
    "mse_values = pd.Series(mse_values)\n",
    "mse_values.index = X_train.columns\n",
    "mse_values.sort_values(ascending=False)"
   ]
  },
  {
   "cell_type": "code",
   "execution_count": 179,
   "metadata": {},
   "outputs": [
    {
     "data": {
      "text/plain": [
       "<matplotlib.axes._subplots.AxesSubplot at 0x11beeef28>"
      ]
     },
     "execution_count": 179,
     "metadata": {},
     "output_type": "execute_result"
    },
    {
     "data": {
      "image/png": "[encoded data removed]",
      "text/plain": [
       "<Figure size 1440x576 with 1 Axes>"
      ]
     },
     "metadata": {
      "needs_background": "light"
     },
     "output_type": "display_data"
    }
   ],
   "source": [
    "mse_values.sort_values(ascending=False).plot.bar(figsize=(20,8))"
   ]
  },
  {
   "cell_type": "code",
   "execution_count": 180,
   "metadata": {},
   "outputs": [
    {
     "data": {
      "text/plain": [
       "24"
      ]
     },
     "execution_count": 180,
     "metadata": {},
     "output_type": "execute_result"
    }
   ],
   "source": [
    "# a roc auc value of 0.5 indicates random decision\n",
    "# let's check how many features show a roc-auc value\n",
    "# higher than random\n",
    "\n",
    "len(mse_values[mse_values < 20])"
   ]
  },
  {
   "cell_type": "markdown",
   "metadata": {},
   "source": [
    "# Modelos"
   ]
  },
  {
   "cell_type": "markdown",
   "metadata": {},
   "source": [
    "## random forest"
   ]
  },
  {
   "cell_type": "code",
   "execution_count": 118,
   "metadata": {},
   "outputs": [],
   "source": [
    "from sklearn.linear_model import LinearRegression"
   ]
  },
  {
   "cell_type": "code",
   "execution_count": 37,
   "metadata": {},
   "outputs": [],
   "source": [
    "X_pred0 = ['X1','X2','X4','X5','X8','X9','X11','X12','X13','X14','X16','X17','X18','X19','X24','X30','X32','X33','X35','X39','X44','X48']\n",
    "X_pred1 = ['X1','X2','X4','X8','X11','X13','X14','X16','X17','X18','X19','X24','X33','X35','X39','X44']\n",
    "X_pred2 = ['X1','X4','X11','X13','X16','X18','X19','X39']\n",
    "X_pred3 = ['X11','X18','X39']"
   ]
  },
  {
   "cell_type": "code",
   "execution_count": 38,
   "metadata": {},
   "outputs": [
    {
     "name": "stdout",
     "output_type": "stream",
     "text": [
      "train mse of 3.611168395590545\n",
      "test mse of 10.748155124168107\n"
     ]
    }
   ],
   "source": [
    "train_mse, test_mse = get_random_forest(X_trained_scaled[X_pred0].fillna(0),\n",
    "                                              X_test_scaled[X_pred0].fillna(0),\n",
    "                                              np.ravel(y_train), y_test)\n",
    "print(f'train mse of {train_mse}')\n",
    "print(f'test mse of {test_mse}')\n"
   ]
  },
  {
   "cell_type": "code",
   "execution_count": 39,
   "metadata": {},
   "outputs": [
    {
     "name": "stdout",
     "output_type": "stream",
     "text": [
      "train mse of 3.8270367553021387\n",
      "test mse of 10.86022529265452\n"
     ]
    }
   ],
   "source": [
    "train_mse, test_mse = get_random_forest(X_trained_scaled[X_pred1].fillna(0),\n",
    "                                              X_test_scaled[X_pred1].fillna(0),\n",
    "                                              np.ravel(y_train), y_test)\n",
    "print(f'train mse of {train_mse}')\n",
    "print(f'test mse of {test_mse}')"
   ]
  },
  {
   "cell_type": "code",
   "execution_count": 40,
   "metadata": {},
   "outputs": [
    {
     "name": "stdout",
     "output_type": "stream",
     "text": [
      "train mse of 4.291387314409011\n",
      "test mse of 10.916922221469294\n"
     ]
    }
   ],
   "source": [
    "train_mse, test_mse = get_random_forest(X_trained_scaled[X_pred2].fillna(0),\n",
    "                                              X_test_scaled[X_pred2].fillna(0),\n",
    "                                              np.ravel(y_train), y_test)\n",
    "print(f'train mse of {train_mse}')\n",
    "print(f'test mse of {test_mse}')"
   ]
  },
  {
   "cell_type": "code",
   "execution_count": 41,
   "metadata": {},
   "outputs": [
    {
     "name": "stdout",
     "output_type": "stream",
     "text": [
      "train mse of 4.841692499258934\n",
      "test mse of 11.010497117202194\n"
     ]
    }
   ],
   "source": [
    "train_mse, test_mse = get_random_forest(X_trained_scaled[X_pred3].fillna(0),\n",
    "                                              X_test_scaled[X_pred3].fillna(0),\n",
    "                                              np.ravel(y_train), y_test)\n",
    "print(f'train mse of {train_mse}')\n",
    "print(f'test mse of {test_mse}')"
   ]
  },
  {
   "cell_type": "code",
   "execution_count": null,
   "metadata": {},
   "outputs": [],
   "source": []
  },
  {
   "cell_type": "code",
   "execution_count": null,
   "metadata": {},
   "outputs": [],
   "source": []
  }
 ],
 "metadata": {
  "kernelspec": {
   "display_name": "Python 3",
   "language": "python",
   "name": "python3"
  },
  "language_info": {
   "codemirror_mode": {
    "name": "ipython",
    "version": 3
   },
   "file_extension": ".py",
   "mimetype": "text/x-python",
   "name": "python",
   "nbconvert_exporter": "python",
   "pygments_lexer": "ipython3",
   "version": "3.7.3"
  }
 },
 "nbformat": 4,
 "nbformat_minor": 2
}
