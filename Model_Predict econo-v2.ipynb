{
 "cells": [
  {
   "cell_type": "markdown",
   "metadata": {},
   "source": [
    "# MODELO ECONÓMICO<br>\n",
    "\n",
    "\n",
    "    \n",
    "### Variables seleccionadas:\n",
    "    - x11, x18, x39"
   ]
  },
  {
   "cell_type": "markdown",
   "metadata": {},
   "source": [
    "## Se requieren las siguientes librerías:\n",
    "    - pandas\n",
    "    - numpy\n",
    "    - sklearn\n",
    "    - pickle"
   ]
  },
  {
   "cell_type": "code",
   "execution_count": 16,
   "metadata": {},
   "outputs": [],
   "source": [
    "import pandas as pd\n",
    "import numpy as np\n",
    "from sklearn.preprocessing import StandardScaler\n",
    "from sklearn.linear_model import LinearRegression\n",
    "from sklearn.pipeline import Pipeline\n",
    "from sklearn.metrics import mean_squared_error\n",
    "import pickle\n",
    "from sklearn.linear_model import LinearRegression\n",
    "from sklearn import svm\n",
    "from sklearn.ensemble import RandomForestRegressor\n",
    "\n",
    "from sklearn.ensemble import GradientBoostingRegressor\n",
    "\n",
    "from sklearn.tree import DecisionTreeRegressor\n",
    "from sklearn.neighbors import KNeighborsRegressor"
   ]
  },
  {
   "cell_type": "markdown",
   "metadata": {},
   "source": [
    "## Lectura del archivo"
   ]
  },
  {
   "cell_type": "markdown",
   "metadata": {},
   "source": [
    "**path_of_file**: es la ruta donde se encuentra el archivo con los datos que se quiere predecir.<br>\n",
    "**name_variable_y**: es el nombre de la variable respuesta que en los archivos enviados de prueba era \"y\"."
   ]
  },
  {
   "cell_type": "code",
   "execution_count": 17,
   "metadata": {},
   "outputs": [],
   "source": [
    "path_of_file = 'datanew.csv'\n",
    "name_variable_y = 'y'\n",
    "\n",
    "test = pd.read_csv(path_of_file, sep = ',', na_filter = False)\n",
    "\n",
    "\n",
    "X_test = test.drop(columns = [name_variable_y]).copy()\n",
    "y_test = test[[name_variable_y]].copy()"
   ]
  },
  {
   "cell_type": "markdown",
   "metadata": {},
   "source": [
    "## Cargar el modelo"
   ]
  },
  {
   "cell_type": "markdown",
   "metadata": {},
   "source": [
    "**path_model**: ruta donde se encuentra la estructura enviada por el equipo, por facilidad mejor dejarla en la misma carpeta donde se ejecute el Jupyter notebook"
   ]
  },
  {
   "cell_type": "code",
   "execution_count": 31,
   "metadata": {},
   "outputs": [],
   "source": [
    "path_model = 'modeleconomy2.sav'"
   ]
  },
  {
   "cell_type": "code",
   "execution_count": 32,
   "metadata": {},
   "outputs": [],
   "source": [
    "model = pickle.load(open(path_model, 'rb'))"
   ]
  },
  {
   "cell_type": "markdown",
   "metadata": {},
   "source": [
    "## Función de evaluación"
   ]
  },
  {
   "cell_type": "code",
   "execution_count": 33,
   "metadata": {},
   "outputs": [],
   "source": [
    "def evaluate_model(model,X,y):\n",
    "    variablesSelected = model['cols_order']\n",
    "    X_eval = X[variablesSelected].copy()\n",
    "    y_pred = model['bestModel'].predict(X_eval)\n",
    "\n",
    "    y_pred = pd.DataFrame(y_pred, index=y_test.index, columns=[\"y_pred\"])\n",
    "\n",
    "    total = y_pred.join(y_test)\n",
    "    total['y_menor_-1'] = (total['y']<-1).astype(int)\n",
    "    total['y_pred_menor_-1'] = (total['y_pred']<-1).astype(int)\n",
    "    total['good_class'] = (total['y_menor_-1']==total['y_pred_menor_-1']).astype(int)\n",
    "    mse = mean_squared_error(y, y_pred)\n",
    "    accuray =total['good_class'].sum()/len(total)\n",
    "    print(f'El error cuadrático medio de los datos es: {mse}')\n",
    "    print(f'El accuracy de los datos es: {accuray:5.2f}')\n",
    "    return y_pred,mse,accuray"
   ]
  },
  {
   "cell_type": "markdown",
   "metadata": {},
   "source": [
    "# Resultados:"
   ]
  },
  {
   "cell_type": "code",
   "execution_count": 34,
   "metadata": {},
   "outputs": [
    {
     "name": "stdout",
     "output_type": "stream",
     "text": [
      "El error cuadrático medio de los datos es: 9.537634879754988\n",
      "El accuracy de los datos es:  0.85\n"
     ]
    }
   ],
   "source": [
    "y_pred,mse,accuracy = evaluate_model(model,X_test,y_test)"
   ]
  },
  {
   "cell_type": "code",
   "execution_count": null,
   "metadata": {},
   "outputs": [],
   "source": []
  }
 ],
 "metadata": {
  "kernelspec": {
   "display_name": "Python 3",
   "language": "python",
   "name": "python3"
  },
  "language_info": {
   "codemirror_mode": {
    "name": "ipython",
    "version": 3
   },
   "file_extension": ".py",
   "mimetype": "text/x-python",
   "name": "python",
   "nbconvert_exporter": "python",
   "pygments_lexer": "ipython3",
   "version": "3.7.3"
  }
 },
 "nbformat": 4,
 "nbformat_minor": 2
}
